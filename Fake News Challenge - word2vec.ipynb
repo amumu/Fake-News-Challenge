{
 "cells": [
  {
   "cell_type": "markdown",
   "metadata": {},
   "source": [
    "# Predicting Fake News \n",
    "\n",
    "## Dataset: Datacamp dataset for fake news challenge \n",
    "### URL : https://s3.amazonaws.com/assets.datacamp.com/blog_assets/fake_or_real_news.csv\n",
    "\n",
    "### Goal:\n",
    "Learning and exploring the fake news dataset further using various natural language processing techniques\n",
    "and word embeddings. This notebook thus contains bag-of words and word2vec approaches. This tutorial is\n",
    "beautifully explained and referred from https://www.kaggle.com/c/word2vec-nlp-tutorial .\n",
    "As a part of learning process, the first task is to understand 'Bag of Words' approach which will be\n",
    "helpful in learning a 'Word2vec' model better. \n",
    "\n",
    "### Bag-of-words: \n",
    "For a given document, you extract only the unigram words (aka terms) to create an unordered list of words.\n",
    "No POS tag, no syntax, no semantics, no position, no bigrams, no trigrams. Only the unigram words themselves,\n",
    "making for a bunch of words to represent the document. Thus: Bag-of-words. \n",
    "Source: \"Speech and Language Processing\" by Jurafsky and Martin, 2009, in section 23.1 \n",
    "\n",
    "### Word2vec:\n",
    "Word2vec is a two-layer neural net that processes text. Its input is a text corpus and its output is a set\n",
    "of vectors: feature vectors for words in that corpus. \n",
    "\n",
    "### Outline: \n",
    "The notebook focuses mainly on text analysis techniques and compares the performances of two approaches \n",
    "explained. Descriptions have been provided with them in accordance with the implementation.  \n",
    "\n",
    "### Models: \n",
    "### 1. GaussianNB\n",
    "### 2. SVM\n",
    "### 3. Random Forest Classifier"
   ]
  },
  {
   "cell_type": "code",
   "execution_count": 201,
   "metadata": {
    "collapsed": true
   },
   "outputs": [],
   "source": [
    "import pandas as pd\n",
    "import numpy as np"
   ]
  },
  {
   "cell_type": "code",
   "execution_count": 202,
   "metadata": {
    "collapsed": false
   },
   "outputs": [
    {
     "data": {
      "text/html": [
       "<div>\n",
       "<table border=\"1\" class=\"dataframe\">\n",
       "  <thead>\n",
       "    <tr style=\"text-align: right;\">\n",
       "      <th></th>\n",
       "      <th>Unnamed: 0</th>\n",
       "      <th>title</th>\n",
       "      <th>text</th>\n",
       "      <th>label</th>\n",
       "    </tr>\n",
       "  </thead>\n",
       "  <tbody>\n",
       "    <tr>\n",
       "      <th>0</th>\n",
       "      <td>8476</td>\n",
       "      <td>You Can Smell Hillary’s Fear</td>\n",
       "      <td>Daniel Greenfield, a Shillman Journalism Fello...</td>\n",
       "      <td>FAKE</td>\n",
       "    </tr>\n",
       "    <tr>\n",
       "      <th>1</th>\n",
       "      <td>10294</td>\n",
       "      <td>Watch The Exact Moment Paul Ryan Committed Pol...</td>\n",
       "      <td>Google Pinterest Digg Linkedin Reddit Stumbleu...</td>\n",
       "      <td>FAKE</td>\n",
       "    </tr>\n",
       "    <tr>\n",
       "      <th>2</th>\n",
       "      <td>3608</td>\n",
       "      <td>Kerry to go to Paris in gesture of sympathy</td>\n",
       "      <td>U.S. Secretary of State John F. Kerry said Mon...</td>\n",
       "      <td>REAL</td>\n",
       "    </tr>\n",
       "    <tr>\n",
       "      <th>3</th>\n",
       "      <td>10142</td>\n",
       "      <td>Bernie supporters on Twitter erupt in anger ag...</td>\n",
       "      <td>— Kaydee King (@KaydeeKing) November 9, 2016 T...</td>\n",
       "      <td>FAKE</td>\n",
       "    </tr>\n",
       "    <tr>\n",
       "      <th>4</th>\n",
       "      <td>875</td>\n",
       "      <td>The Battle of New York: Why This Primary Matters</td>\n",
       "      <td>It's primary day in New York and front-runners...</td>\n",
       "      <td>REAL</td>\n",
       "    </tr>\n",
       "  </tbody>\n",
       "</table>\n",
       "</div>"
      ],
      "text/plain": [
       "   Unnamed: 0                                              title  \\\n",
       "0        8476                       You Can Smell Hillary’s Fear   \n",
       "1       10294  Watch The Exact Moment Paul Ryan Committed Pol...   \n",
       "2        3608        Kerry to go to Paris in gesture of sympathy   \n",
       "3       10142  Bernie supporters on Twitter erupt in anger ag...   \n",
       "4         875   The Battle of New York: Why This Primary Matters   \n",
       "\n",
       "                                                text label  \n",
       "0  Daniel Greenfield, a Shillman Journalism Fello...  FAKE  \n",
       "1  Google Pinterest Digg Linkedin Reddit Stumbleu...  FAKE  \n",
       "2  U.S. Secretary of State John F. Kerry said Mon...  REAL  \n",
       "3  — Kaydee King (@KaydeeKing) November 9, 2016 T...  FAKE  \n",
       "4  It's primary day in New York and front-runners...  REAL  "
      ]
     },
     "execution_count": 202,
     "metadata": {},
     "output_type": "execute_result"
    }
   ],
   "source": [
    "df = pd.read_csv(\"C:\\\\Users\\\\Prajakta\\\\fake_or_real_news.csv\")\n",
    "df.head(5)"
   ]
  },
  {
   "cell_type": "code",
   "execution_count": 203,
   "metadata": {
    "collapsed": false
   },
   "outputs": [],
   "source": [
    "df['label'] = np.where(df['label'] == 'FAKE', 0 , 1)"
   ]
  },
  {
   "cell_type": "code",
   "execution_count": 204,
   "metadata": {
    "collapsed": false
   },
   "outputs": [
    {
     "data": {
      "text/plain": [
       "(6335, 4)"
      ]
     },
     "execution_count": 204,
     "metadata": {},
     "output_type": "execute_result"
    }
   ],
   "source": [
    "df.shape"
   ]
  },
  {
   "cell_type": "code",
   "execution_count": 205,
   "metadata": {
    "collapsed": false
   },
   "outputs": [
    {
     "data": {
      "text/plain": [
       "array(['Unnamed: 0', 'title', 'text', 'label'], dtype=object)"
      ]
     },
     "execution_count": 205,
     "metadata": {},
     "output_type": "execute_result"
    }
   ],
   "source": [
    "df.columns.values"
   ]
  },
  {
   "cell_type": "markdown",
   "metadata": {},
   "source": [
    "Checking the first news....."
   ]
  },
  {
   "cell_type": "code",
   "execution_count": 206,
   "metadata": {
    "collapsed": false
   },
   "outputs": [
    {
     "name": "stdout",
     "output_type": "stream",
     "text": [
      "Daniel Greenfield, a Shillman Journalism Fellow at the Freedom Center, is a New York writer focusing on radical Islam. \n",
      "In the final stretch of the election, Hillary Rodham Clinton has gone to war with the FBI. \n",
      "The word “unprecedented” has been thrown around so often this election that it ought to be retired. But it’s still unprecedented for the nominee of a major political party to go war with the FBI. \n",
      "But that’s exactly what Hillary and her people have done. Coma patients just waking up now and watching an hour of CNN from their hospital beds would assume that FBI Director James Comey is Hillary’s opponent in this election. \n",
      "The FBI is under attack by everyone from Obama to CNN. Hillary’s people have circulated a letter attacking Comey. There are currently more media hit pieces lambasting him than targeting Trump. It wouldn’t be too surprising if the Clintons or their allies were to start running attack ads against the FBI. \n",
      "The FBI’s leadership is being warned that the entire left-wing establishment will form a lynch mob if they continue going after Hillary. And the FBI’s credibility is being attacked by the media and the Democrats to preemptively head off the results of the investigation of the Clinton Foundation and Hillary Clinton. \n",
      "The covert struggle between FBI agents and Obama’s DOJ people has gone explosively public. \n",
      "The New York Times has compared Comey to J. Edgar Hoover. Its bizarre headline, “James Comey Role Recalls Hoover’s FBI, Fairly or Not” practically admits up front that it’s spouting nonsense. The Boston Globe has published a column calling for Comey’s resignation. Not to be outdone, Time has an editorial claiming that the scandal is really an attack on all women. \n",
      "James Carville appeared on MSNBC to remind everyone that he was still alive and insane. He accused Comey of coordinating with House Republicans and the KGB. And you thought the “vast right wing conspiracy” was a stretch. \n",
      "Countless media stories charge Comey with violating procedure. Do you know what’s a procedural violation? Emailing classified information stored on your bathroom server. \n",
      "Senator Harry Reid has sent Comey a letter accusing him of violating the Hatch Act. The Hatch Act is a nice idea that has as much relevance in the age of Obama as the Tenth Amendment. But the cable news spectrum quickly filled with media hacks glancing at the Wikipedia article on the Hatch Act under the table while accusing the FBI director of one of the most awkward conspiracies against Hillary ever. \n",
      "If James Comey is really out to hurt Hillary, he picked one hell of a strange way to do it. \n",
      "Not too long ago Democrats were breathing a sigh of relief when he gave Hillary Clinton a pass in a prominent public statement. If he really were out to elect Trump by keeping the email scandal going, why did he trash the investigation? Was he on the payroll of House Republicans and the KGB back then and playing it coy or was it a sudden development where Vladimir Putin and Paul Ryan talked him into taking a look at Anthony Weiner’s computer? \n",
      "Either Comey is the most cunning FBI director that ever lived or he’s just awkwardly trying to navigate a political mess that has trapped him between a DOJ leadership whose political futures are tied to Hillary’s victory and his own bureau whose apolitical agents just want to be allowed to do their jobs. \n",
      "The only truly mysterious thing is why Hillary and her associates decided to go to war with a respected Federal agency. Most Americans like the FBI while Hillary Clinton enjoys a 60% unfavorable rating. \n",
      "And it’s an interesting question. \n",
      "Hillary’s old strategy was to lie and deny that the FBI even had a criminal investigation underway. Instead her associates insisted that it was a security review. The FBI corrected her and she shrugged it off. But the old breezy denial approach has given way to a savage assault on the FBI. \n",
      "Pretending that nothing was wrong was a bad strategy, but it was a better one that picking a fight with the FBI while lunatic Clinton associates try to claim that the FBI is really the KGB. \n",
      "There are two possible explanations. \n",
      "Hillary Clinton might be arrogant enough to lash out at the FBI now that she believes that victory is near. The same kind of hubris that led her to plan her victory fireworks display could lead her to declare a war on the FBI for irritating her during the final miles of her campaign. \n",
      "But the other explanation is that her people panicked. \n",
      "Going to war with the FBI is not the behavior of a smart and focused presidential campaign. It’s an act of desperation. When a presidential candidate decides that her only option is to try and destroy the credibility of the FBI, that’s not hubris, it’s fear of what the FBI might be about to reveal about her. \n",
      "During the original FBI investigation, Hillary Clinton was confident that she could ride it out. And she had good reason for believing that. But that Hillary Clinton is gone. In her place is a paranoid wreck. Within a short space of time the “positive” Clinton campaign promising to unite the country has been replaced by a desperate and flailing operation that has focused all its energy on fighting the FBI. \n",
      "There’s only one reason for such bizarre behavior. \n",
      "The Clinton campaign has decided that an FBI investigation of the latest batch of emails poses a threat to its survival. And so it’s gone all in on fighting the FBI. It’s an unprecedented step born of fear. It’s hard to know whether that fear is justified. But the existence of that fear already tells us a whole lot. \n",
      "Clinton loyalists rigged the old investigation. They knew the outcome ahead of time as well as they knew the debate questions. Now suddenly they are no longer in control. And they are afraid. \n",
      "You can smell the fear. \n",
      "The FBI has wiretaps from the investigation of the Clinton Foundation. It’s finding new emails all the time. And Clintonworld panicked. The spinmeisters of Clintonworld have claimed that the email scandal is just so much smoke without fire. All that’s here is the appearance of impropriety without any of the substance. But this isn’t how you react to smoke. It’s how you respond to a fire. \n",
      "The misguided assault on the FBI tells us that Hillary Clinton and her allies are afraid of a revelation bigger than the fundamental illegality of her email setup. The email setup was a preemptive cover up. The Clinton campaign has panicked badly out of the belief, right or wrong, that whatever crime the illegal setup was meant to cover up is at risk of being exposed. \n",
      "The Clintons have weathered countless scandals over the years. Whatever they are protecting this time around is bigger than the usual corruption, bribery, sexual assaults and abuses of power that have followed them around throughout the years. This is bigger and more damaging than any of the allegations that have already come out. And they don’t want FBI investigators anywhere near it. \n",
      "The campaign against Comey is pure intimidation. It’s also a warning. Any senior FBI people who value their careers are being warned to stay away. The Democrats are closing ranks around their nominee against the FBI. It’s an ugly and unprecedented scene. It may also be their last stand. \n",
      "Hillary Clinton has awkwardly wound her way through numerous scandals in just this election cycle. But she’s never shown fear or desperation before. Now that has changed. Whatever she is afraid of, it lies buried in her emails with Huma Abedin. And it can bring her down like nothing else has.  \n"
     ]
    }
   ],
   "source": [
    "print (df[\"text\"][0])"
   ]
  },
  {
   "cell_type": "markdown",
   "metadata": {},
   "source": [
    "#### The BeautifulSoup Package\n",
    "It removes the HTML markup. For this purpose, we'll use the Beautiful Soup library and test it for the first news text."
   ]
  },
  {
   "cell_type": "code",
   "execution_count": 207,
   "metadata": {
    "collapsed": true
   },
   "outputs": [],
   "source": [
    "from bs4 import BeautifulSoup     "
   ]
  },
  {
   "cell_type": "code",
   "execution_count": 208,
   "metadata": {
    "collapsed": true
   },
   "outputs": [],
   "source": [
    "example1 = BeautifulSoup(df[\"text\"][0],\"lxml\")  "
   ]
  },
  {
   "cell_type": "code",
   "execution_count": 209,
   "metadata": {
    "collapsed": false
   },
   "outputs": [
    {
     "name": "stdout",
     "output_type": "stream",
     "text": [
      "Daniel Greenfield, a Shillman Journalism Fellow at the Freedom Center, is a New York writer focusing on radical Islam. \n",
      "In the final stretch of the election, Hillary Rodham Clinton has gone to war with the FBI. \n",
      "The word “unprecedented” has been thrown around so often this election that it ought to be retired. But it’s still unprecedented for the nominee of a major political party to go war with the FBI. \n",
      "But that’s exactly what Hillary and her people have done. Coma patients just waking up now and watching an hour of CNN from their hospital beds would assume that FBI Director James Comey is Hillary’s opponent in this election. \n",
      "The FBI is under attack by everyone from Obama to CNN. Hillary’s people have circulated a letter attacking Comey. There are currently more media hit pieces lambasting him than targeting Trump. It wouldn’t be too surprising if the Clintons or their allies were to start running attack ads against the FBI. \n",
      "The FBI’s leadership is being warned that the entire left-wing establishment will form a lynch mob if they continue going after Hillary. And the FBI’s credibility is being attacked by the media and the Democrats to preemptively head off the results of the investigation of the Clinton Foundation and Hillary Clinton. \n",
      "The covert struggle between FBI agents and Obama’s DOJ people has gone explosively public. \n",
      "The New York Times has compared Comey to J. Edgar Hoover. Its bizarre headline, “James Comey Role Recalls Hoover’s FBI, Fairly or Not” practically admits up front that it’s spouting nonsense. The Boston Globe has published a column calling for Comey’s resignation. Not to be outdone, Time has an editorial claiming that the scandal is really an attack on all women. \n",
      "James Carville appeared on MSNBC to remind everyone that he was still alive and insane. He accused Comey of coordinating with House Republicans and the KGB. And you thought the “vast right wing conspiracy” was a stretch. \n",
      "Countless media stories charge Comey with violating procedure. Do you know what’s a procedural violation? Emailing classified information stored on your bathroom server. \n",
      "Senator Harry Reid has sent Comey a letter accusing him of violating the Hatch Act. The Hatch Act is a nice idea that has as much relevance in the age of Obama as the Tenth Amendment. But the cable news spectrum quickly filled with media hacks glancing at the Wikipedia article on the Hatch Act under the table while accusing the FBI director of one of the most awkward conspiracies against Hillary ever. \n",
      "If James Comey is really out to hurt Hillary, he picked one hell of a strange way to do it. \n",
      "Not too long ago Democrats were breathing a sigh of relief when he gave Hillary Clinton a pass in a prominent public statement. If he really were out to elect Trump by keeping the email scandal going, why did he trash the investigation? Was he on the payroll of House Republicans and the KGB back then and playing it coy or was it a sudden development where Vladimir Putin and Paul Ryan talked him into taking a look at Anthony Weiner’s computer? \n",
      "Either Comey is the most cunning FBI director that ever lived or he’s just awkwardly trying to navigate a political mess that has trapped him between a DOJ leadership whose political futures are tied to Hillary’s victory and his own bureau whose apolitical agents just want to be allowed to do their jobs. \n",
      "The only truly mysterious thing is why Hillary and her associates decided to go to war with a respected Federal agency. Most Americans like the FBI while Hillary Clinton enjoys a 60% unfavorable rating. \n",
      "And it’s an interesting question. \n",
      "Hillary’s old strategy was to lie and deny that the FBI even had a criminal investigation underway. Instead her associates insisted that it was a security review. The FBI corrected her and she shrugged it off. But the old breezy denial approach has given way to a savage assault on the FBI. \n",
      "Pretending that nothing was wrong was a bad strategy, but it was a better one that picking a fight with the FBI while lunatic Clinton associates try to claim that the FBI is really the KGB. \n",
      "There are two possible explanations. \n",
      "Hillary Clinton might be arrogant enough to lash out at the FBI now that she believes that victory is near. The same kind of hubris that led her to plan her victory fireworks display could lead her to declare a war on the FBI for irritating her during the final miles of her campaign. \n",
      "But the other explanation is that her people panicked. \n",
      "Going to war with the FBI is not the behavior of a smart and focused presidential campaign. It’s an act of desperation. When a presidential candidate decides that her only option is to try and destroy the credibility of the FBI, that’s not hubris, it’s fear of what the FBI might be about to reveal about her. \n",
      "During the original FBI investigation, Hillary Clinton was confident that she could ride it out. And she had good reason for believing that. But that Hillary Clinton is gone. In her place is a paranoid wreck. Within a short space of time the “positive” Clinton campaign promising to unite the country has been replaced by a desperate and flailing operation that has focused all its energy on fighting the FBI. \n",
      "There’s only one reason for such bizarre behavior. \n",
      "The Clinton campaign has decided that an FBI investigation of the latest batch of emails poses a threat to its survival. And so it’s gone all in on fighting the FBI. It’s an unprecedented step born of fear. It’s hard to know whether that fear is justified. But the existence of that fear already tells us a whole lot. \n",
      "Clinton loyalists rigged the old investigation. They knew the outcome ahead of time as well as they knew the debate questions. Now suddenly they are no longer in control. And they are afraid. \n",
      "You can smell the fear. \n",
      "The FBI has wiretaps from the investigation of the Clinton Foundation. It’s finding new emails all the time. And Clintonworld panicked. The spinmeisters of Clintonworld have claimed that the email scandal is just so much smoke without fire. All that’s here is the appearance of impropriety without any of the substance. But this isn’t how you react to smoke. It’s how you respond to a fire. \n",
      "The misguided assault on the FBI tells us that Hillary Clinton and her allies are afraid of a revelation bigger than the fundamental illegality of her email setup. The email setup was a preemptive cover up. The Clinton campaign has panicked badly out of the belief, right or wrong, that whatever crime the illegal setup was meant to cover up is at risk of being exposed. \n",
      "The Clintons have weathered countless scandals over the years. Whatever they are protecting this time around is bigger than the usual corruption, bribery, sexual assaults and abuses of power that have followed them around throughout the years. This is bigger and more damaging than any of the allegations that have already come out. And they don’t want FBI investigators anywhere near it. \n",
      "The campaign against Comey is pure intimidation. It’s also a warning. Any senior FBI people who value their careers are being warned to stay away. The Democrats are closing ranks around their nominee against the FBI. It’s an ugly and unprecedented scene. It may also be their last stand. \n",
      "Hillary Clinton has awkwardly wound her way through numerous scandals in just this election cycle. But she’s never shown fear or desperation before. Now that has changed. Whatever she is afraid of, it lies buried in her emails with Huma Abedin. And it can bring her down like nothing else has.  \n"
     ]
    }
   ],
   "source": [
    "print (df[\"text\"][0])"
   ]
  },
  {
   "cell_type": "markdown",
   "metadata": {},
   "source": [
    "#### Calling get_text() gives you the text of the news, without tags or markup."
   ]
  },
  {
   "cell_type": "code",
   "execution_count": 210,
   "metadata": {
    "collapsed": false
   },
   "outputs": [
    {
     "name": "stdout",
     "output_type": "stream",
     "text": [
      "Daniel Greenfield, a Shillman Journalism Fellow at the Freedom Center, is a New York writer focusing on radical Islam. \n",
      "In the final stretch of the election, Hillary Rodham Clinton has gone to war with the FBI. \n",
      "The word “unprecedented” has been thrown around so often this election that it ought to be retired. But it’s still unprecedented for the nominee of a major political party to go war with the FBI. \n",
      "But that’s exactly what Hillary and her people have done. Coma patients just waking up now and watching an hour of CNN from their hospital beds would assume that FBI Director James Comey is Hillary’s opponent in this election. \n",
      "The FBI is under attack by everyone from Obama to CNN. Hillary’s people have circulated a letter attacking Comey. There are currently more media hit pieces lambasting him than targeting Trump. It wouldn’t be too surprising if the Clintons or their allies were to start running attack ads against the FBI. \n",
      "The FBI’s leadership is being warned that the entire left-wing establishment will form a lynch mob if they continue going after Hillary. And the FBI’s credibility is being attacked by the media and the Democrats to preemptively head off the results of the investigation of the Clinton Foundation and Hillary Clinton. \n",
      "The covert struggle between FBI agents and Obama’s DOJ people has gone explosively public. \n",
      "The New York Times has compared Comey to J. Edgar Hoover. Its bizarre headline, “James Comey Role Recalls Hoover’s FBI, Fairly or Not” practically admits up front that it’s spouting nonsense. The Boston Globe has published a column calling for Comey’s resignation. Not to be outdone, Time has an editorial claiming that the scandal is really an attack on all women. \n",
      "James Carville appeared on MSNBC to remind everyone that he was still alive and insane. He accused Comey of coordinating with House Republicans and the KGB. And you thought the “vast right wing conspiracy” was a stretch. \n",
      "Countless media stories charge Comey with violating procedure. Do you know what’s a procedural violation? Emailing classified information stored on your bathroom server. \n",
      "Senator Harry Reid has sent Comey a letter accusing him of violating the Hatch Act. The Hatch Act is a nice idea that has as much relevance in the age of Obama as the Tenth Amendment. But the cable news spectrum quickly filled with media hacks glancing at the Wikipedia article on the Hatch Act under the table while accusing the FBI director of one of the most awkward conspiracies against Hillary ever. \n",
      "If James Comey is really out to hurt Hillary, he picked one hell of a strange way to do it. \n",
      "Not too long ago Democrats were breathing a sigh of relief when he gave Hillary Clinton a pass in a prominent public statement. If he really were out to elect Trump by keeping the email scandal going, why did he trash the investigation? Was he on the payroll of House Republicans and the KGB back then and playing it coy or was it a sudden development where Vladimir Putin and Paul Ryan talked him into taking a look at Anthony Weiner’s computer? \n",
      "Either Comey is the most cunning FBI director that ever lived or he’s just awkwardly trying to navigate a political mess that has trapped him between a DOJ leadership whose political futures are tied to Hillary’s victory and his own bureau whose apolitical agents just want to be allowed to do their jobs. \n",
      "The only truly mysterious thing is why Hillary and her associates decided to go to war with a respected Federal agency. Most Americans like the FBI while Hillary Clinton enjoys a 60% unfavorable rating. \n",
      "And it’s an interesting question. \n",
      "Hillary’s old strategy was to lie and deny that the FBI even had a criminal investigation underway. Instead her associates insisted that it was a security review. The FBI corrected her and she shrugged it off. But the old breezy denial approach has given way to a savage assault on the FBI. \n",
      "Pretending that nothing was wrong was a bad strategy, but it was a better one that picking a fight with the FBI while lunatic Clinton associates try to claim that the FBI is really the KGB. \n",
      "There are two possible explanations. \n",
      "Hillary Clinton might be arrogant enough to lash out at the FBI now that she believes that victory is near. The same kind of hubris that led her to plan her victory fireworks display could lead her to declare a war on the FBI for irritating her during the final miles of her campaign. \n",
      "But the other explanation is that her people panicked. \n",
      "Going to war with the FBI is not the behavior of a smart and focused presidential campaign. It’s an act of desperation. When a presidential candidate decides that her only option is to try and destroy the credibility of the FBI, that’s not hubris, it’s fear of what the FBI might be about to reveal about her. \n",
      "During the original FBI investigation, Hillary Clinton was confident that she could ride it out. And she had good reason for believing that. But that Hillary Clinton is gone. In her place is a paranoid wreck. Within a short space of time the “positive” Clinton campaign promising to unite the country has been replaced by a desperate and flailing operation that has focused all its energy on fighting the FBI. \n",
      "There’s only one reason for such bizarre behavior. \n",
      "The Clinton campaign has decided that an FBI investigation of the latest batch of emails poses a threat to its survival. And so it’s gone all in on fighting the FBI. It’s an unprecedented step born of fear. It’s hard to know whether that fear is justified. But the existence of that fear already tells us a whole lot. \n",
      "Clinton loyalists rigged the old investigation. They knew the outcome ahead of time as well as they knew the debate questions. Now suddenly they are no longer in control. And they are afraid. \n",
      "You can smell the fear. \n",
      "The FBI has wiretaps from the investigation of the Clinton Foundation. It’s finding new emails all the time. And Clintonworld panicked. The spinmeisters of Clintonworld have claimed that the email scandal is just so much smoke without fire. All that’s here is the appearance of impropriety without any of the substance. But this isn’t how you react to smoke. It’s how you respond to a fire. \n",
      "The misguided assault on the FBI tells us that Hillary Clinton and her allies are afraid of a revelation bigger than the fundamental illegality of her email setup. The email setup was a preemptive cover up. The Clinton campaign has panicked badly out of the belief, right or wrong, that whatever crime the illegal setup was meant to cover up is at risk of being exposed. \n",
      "The Clintons have weathered countless scandals over the years. Whatever they are protecting this time around is bigger than the usual corruption, bribery, sexual assaults and abuses of power that have followed them around throughout the years. This is bigger and more damaging than any of the allegations that have already come out. And they don’t want FBI investigators anywhere near it. \n",
      "The campaign against Comey is pure intimidation. It’s also a warning. Any senior FBI people who value their careers are being warned to stay away. The Democrats are closing ranks around their nominee against the FBI. It’s an ugly and unprecedented scene. It may also be their last stand. \n",
      "Hillary Clinton has awkwardly wound her way through numerous scandals in just this election cycle. But she’s never shown fear or desperation before. Now that has changed. Whatever she is afraid of, it lies buried in her emails with Huma Abedin. And it can bring her down like nothing else has.  \n"
     ]
    }
   ],
   "source": [
    "print (example1.get_text())"
   ]
  },
  {
   "cell_type": "markdown",
   "metadata": {},
   "source": [
    "#### Data Preprocessing Techniques\n",
    "Regular expressions to print characters only and convert all into lower cases."
   ]
  },
  {
   "cell_type": "code",
   "execution_count": 211,
   "metadata": {
    "collapsed": true
   },
   "outputs": [],
   "source": [
    "import re\n",
    "letters_only = re.sub(\"[^a-zA-Z]\",           # The pattern to search for\n",
    "                      \" \",                   # The pattern to replace it with\n",
    "                      example1.get_text() )  # The text to search"
   ]
  },
  {
   "cell_type": "code",
   "execution_count": 212,
   "metadata": {
    "collapsed": false
   },
   "outputs": [
    {
     "name": "stdout",
     "output_type": "stream",
     "text": [
      "Daniel Greenfield  a Shillman Journalism Fellow at the Freedom Center  is a New York writer focusing on radical Islam   In the final stretch of the election  Hillary Rodham Clinton has gone to war with the FBI   The word  unprecedented  has been thrown around so often this election that it ought to be retired  But it s still unprecedented for the nominee of a major political party to go war with the FBI   But that s exactly what Hillary and her people have done  Coma patients just waking up now and watching an hour of CNN from their hospital beds would assume that FBI Director James Comey is Hillary s opponent in this election   The FBI is under attack by everyone from Obama to CNN  Hillary s people have circulated a letter attacking Comey  There are currently more media hit pieces lambasting him than targeting Trump  It wouldn t be too surprising if the Clintons or their allies were to start running attack ads against the FBI   The FBI s leadership is being warned that the entire left wing establishment will form a lynch mob if they continue going after Hillary  And the FBI s credibility is being attacked by the media and the Democrats to preemptively head off the results of the investigation of the Clinton Foundation and Hillary Clinton   The covert struggle between FBI agents and Obama s DOJ people has gone explosively public   The New York Times has compared Comey to J  Edgar Hoover  Its bizarre headline   James Comey Role Recalls Hoover s FBI  Fairly or Not  practically admits up front that it s spouting nonsense  The Boston Globe has published a column calling for Comey s resignation  Not to be outdone  Time has an editorial claiming that the scandal is really an attack on all women   James Carville appeared on MSNBC to remind everyone that he was still alive and insane  He accused Comey of coordinating with House Republicans and the KGB  And you thought the  vast right wing conspiracy  was a stretch   Countless media stories charge Comey with violating procedure  Do you know what s a procedural violation  Emailing classified information stored on your bathroom server   Senator Harry Reid has sent Comey a letter accusing him of violating the Hatch Act  The Hatch Act is a nice idea that has as much relevance in the age of Obama as the Tenth Amendment  But the cable news spectrum quickly filled with media hacks glancing at the Wikipedia article on the Hatch Act under the table while accusing the FBI director of one of the most awkward conspiracies against Hillary ever   If James Comey is really out to hurt Hillary  he picked one hell of a strange way to do it   Not too long ago Democrats were breathing a sigh of relief when he gave Hillary Clinton a pass in a prominent public statement  If he really were out to elect Trump by keeping the email scandal going  why did he trash the investigation  Was he on the payroll of House Republicans and the KGB back then and playing it coy or was it a sudden development where Vladimir Putin and Paul Ryan talked him into taking a look at Anthony Weiner s computer   Either Comey is the most cunning FBI director that ever lived or he s just awkwardly trying to navigate a political mess that has trapped him between a DOJ leadership whose political futures are tied to Hillary s victory and his own bureau whose apolitical agents just want to be allowed to do their jobs   The only truly mysterious thing is why Hillary and her associates decided to go to war with a respected Federal agency  Most Americans like the FBI while Hillary Clinton enjoys a     unfavorable rating   And it s an interesting question   Hillary s old strategy was to lie and deny that the FBI even had a criminal investigation underway  Instead her associates insisted that it was a security review  The FBI corrected her and she shrugged it off  But the old breezy denial approach has given way to a savage assault on the FBI   Pretending that nothing was wrong was a bad strategy  but it was a better one that picking a fight with the FBI while lunatic Clinton associates try to claim that the FBI is really the KGB   There are two possible explanations   Hillary Clinton might be arrogant enough to lash out at the FBI now that she believes that victory is near  The same kind of hubris that led her to plan her victory fireworks display could lead her to declare a war on the FBI for irritating her during the final miles of her campaign   But the other explanation is that her people panicked   Going to war with the FBI is not the behavior of a smart and focused presidential campaign  It s an act of desperation  When a presidential candidate decides that her only option is to try and destroy the credibility of the FBI  that s not hubris  it s fear of what the FBI might be about to reveal about her   During the original FBI investigation  Hillary Clinton was confident that she could ride it out  And she had good reason for believing that  But that Hillary Clinton is gone  In her place is a paranoid wreck  Within a short space of time the  positive  Clinton campaign promising to unite the country has been replaced by a desperate and flailing operation that has focused all its energy on fighting the FBI   There s only one reason for such bizarre behavior   The Clinton campaign has decided that an FBI investigation of the latest batch of emails poses a threat to its survival  And so it s gone all in on fighting the FBI  It s an unprecedented step born of fear  It s hard to know whether that fear is justified  But the existence of that fear already tells us a whole lot   Clinton loyalists rigged the old investigation  They knew the outcome ahead of time as well as they knew the debate questions  Now suddenly they are no longer in control  And they are afraid   You can smell the fear   The FBI has wiretaps from the investigation of the Clinton Foundation  It s finding new emails all the time  And Clintonworld panicked  The spinmeisters of Clintonworld have claimed that the email scandal is just so much smoke without fire  All that s here is the appearance of impropriety without any of the substance  But this isn t how you react to smoke  It s how you respond to a fire   The misguided assault on the FBI tells us that Hillary Clinton and her allies are afraid of a revelation bigger than the fundamental illegality of her email setup  The email setup was a preemptive cover up  The Clinton campaign has panicked badly out of the belief  right or wrong  that whatever crime the illegal setup was meant to cover up is at risk of being exposed   The Clintons have weathered countless scandals over the years  Whatever they are protecting this time around is bigger than the usual corruption  bribery  sexual assaults and abuses of power that have followed them around throughout the years  This is bigger and more damaging than any of the allegations that have already come out  And they don t want FBI investigators anywhere near it   The campaign against Comey is pure intimidation  It s also a warning  Any senior FBI people who value their careers are being warned to stay away  The Democrats are closing ranks around their nominee against the FBI  It s an ugly and unprecedented scene  It may also be their last stand   Hillary Clinton has awkwardly wound her way through numerous scandals in just this election cycle  But she s never shown fear or desperation before  Now that has changed  Whatever she is afraid of  it lies buried in her emails with Huma Abedin  And it can bring her down like nothing else has   \n"
     ]
    }
   ],
   "source": [
    "print (letters_only)"
   ]
  },
  {
   "cell_type": "code",
   "execution_count": 213,
   "metadata": {
    "collapsed": true
   },
   "outputs": [],
   "source": [
    "lower_case = letters_only.lower()        # Convert to lower case\n",
    "words = lower_case.split()               # Split into words"
   ]
  },
  {
   "cell_type": "markdown",
   "metadata": {},
   "source": [
    "#### NLTK : \n",
    "\n",
    "To deal with frequently occurring words that dont't carry much meaning are called \"stop words\"; in English they include words such as \"a\", \"and\", \"is\", and \"the\". Conveniently, there are Python packages that come with stop word lists built in. Let's import a stop word list from the Python Natural Language Toolkit (NLTK). "
   ]
  },
  {
   "cell_type": "code",
   "execution_count": 214,
   "metadata": {
    "collapsed": false
   },
   "outputs": [
    {
     "name": "stdout",
     "output_type": "stream",
     "text": [
      "['i', 'me', 'my', 'myself', 'we', 'our', 'ours', 'ourselves', 'you', 'your', 'yours', 'yourself', 'yourselves', 'he', 'him', 'his', 'himself', 'she', 'her', 'hers', 'herself', 'it', 'its', 'itself', 'they', 'them', 'their', 'theirs', 'themselves', 'what', 'which', 'who', 'whom', 'this', 'that', 'these', 'those', 'am', 'is', 'are', 'was', 'were', 'be', 'been', 'being', 'have', 'has', 'had', 'having', 'do', 'does', 'did', 'doing', 'a', 'an', 'the', 'and', 'but', 'if', 'or', 'because', 'as', 'until', 'while', 'of', 'at', 'by', 'for', 'with', 'about', 'against', 'between', 'into', 'through', 'during', 'before', 'after', 'above', 'below', 'to', 'from', 'up', 'down', 'in', 'out', 'on', 'off', 'over', 'under', 'again', 'further', 'then', 'once', 'here', 'there', 'when', 'where', 'why', 'how', 'all', 'any', 'both', 'each', 'few', 'more', 'most', 'other', 'some', 'such', 'no', 'nor', 'not', 'only', 'own', 'same', 'so', 'than', 'too', 'very', 's', 't', 'can', 'will', 'just', 'don', 'should', 'now', 'd', 'll', 'm', 'o', 're', 've', 'y', 'ain', 'aren', 'couldn', 'didn', 'doesn', 'hadn', 'hasn', 'haven', 'isn', 'ma', 'mightn', 'mustn', 'needn', 'shan', 'shouldn', 'wasn', 'weren', 'won', 'wouldn']\n"
     ]
    }
   ],
   "source": [
    "import nltk\n",
    "from nltk.corpus import stopwords\n",
    "print(stopwords.words(\"english\"))"
   ]
  },
  {
   "cell_type": "markdown",
   "metadata": {},
   "source": [
    "#### Text without stopwords "
   ]
  },
  {
   "cell_type": "code",
   "execution_count": 215,
   "metadata": {
    "collapsed": false
   },
   "outputs": [
    {
     "name": "stdout",
     "output_type": "stream",
     "text": [
      "['daniel', 'greenfield', 'shillman', 'journalism', 'fellow', 'freedom', 'center', 'new', 'york', 'writer', 'focusing', 'radical', 'islam', 'final', 'stretch', 'election', 'hillary', 'rodham', 'clinton', 'gone', 'war', 'fbi', 'word', 'unprecedented', 'thrown', 'around', 'often', 'election', 'ought', 'retired', 'still', 'unprecedented', 'nominee', 'major', 'political', 'party', 'go', 'war', 'fbi', 'exactly', 'hillary', 'people', 'done', 'coma', 'patients', 'waking', 'watching', 'hour', 'cnn', 'hospital', 'beds', 'would', 'assume', 'fbi', 'director', 'james', 'comey', 'hillary', 'opponent', 'election', 'fbi', 'attack', 'everyone', 'obama', 'cnn', 'hillary', 'people', 'circulated', 'letter', 'attacking', 'comey', 'currently', 'media', 'hit', 'pieces', 'lambasting', 'targeting', 'trump', 'surprising', 'clintons', 'allies', 'start', 'running', 'attack', 'ads', 'fbi', 'fbi', 'leadership', 'warned', 'entire', 'left', 'wing', 'establishment', 'form', 'lynch', 'mob', 'continue', 'going', 'hillary', 'fbi', 'credibility', 'attacked', 'media', 'democrats', 'preemptively', 'head', 'results', 'investigation', 'clinton', 'foundation', 'hillary', 'clinton', 'covert', 'struggle', 'fbi', 'agents', 'obama', 'doj', 'people', 'gone', 'explosively', 'public', 'new', 'york', 'times', 'compared', 'comey', 'j', 'edgar', 'hoover', 'bizarre', 'headline', 'james', 'comey', 'role', 'recalls', 'hoover', 'fbi', 'fairly', 'practically', 'admits', 'front', 'spouting', 'nonsense', 'boston', 'globe', 'published', 'column', 'calling', 'comey', 'resignation', 'outdone', 'time', 'editorial', 'claiming', 'scandal', 'really', 'attack', 'women', 'james', 'carville', 'appeared', 'msnbc', 'remind', 'everyone', 'still', 'alive', 'insane', 'accused', 'comey', 'coordinating', 'house', 'republicans', 'kgb', 'thought', 'vast', 'right', 'wing', 'conspiracy', 'stretch', 'countless', 'media', 'stories', 'charge', 'comey', 'violating', 'procedure', 'know', 'procedural', 'violation', 'emailing', 'classified', 'information', 'stored', 'bathroom', 'server', 'senator', 'harry', 'reid', 'sent', 'comey', 'letter', 'accusing', 'violating', 'hatch', 'act', 'hatch', 'act', 'nice', 'idea', 'much', 'relevance', 'age', 'obama', 'tenth', 'amendment', 'cable', 'news', 'spectrum', 'quickly', 'filled', 'media', 'hacks', 'glancing', 'wikipedia', 'article', 'hatch', 'act', 'table', 'accusing', 'fbi', 'director', 'one', 'awkward', 'conspiracies', 'hillary', 'ever', 'james', 'comey', 'really', 'hurt', 'hillary', 'picked', 'one', 'hell', 'strange', 'way', 'long', 'ago', 'democrats', 'breathing', 'sigh', 'relief', 'gave', 'hillary', 'clinton', 'pass', 'prominent', 'public', 'statement', 'really', 'elect', 'trump', 'keeping', 'email', 'scandal', 'going', 'trash', 'investigation', 'payroll', 'house', 'republicans', 'kgb', 'back', 'playing', 'coy', 'sudden', 'development', 'vladimir', 'putin', 'paul', 'ryan', 'talked', 'taking', 'look', 'anthony', 'weiner', 'computer', 'either', 'comey', 'cunning', 'fbi', 'director', 'ever', 'lived', 'awkwardly', 'trying', 'navigate', 'political', 'mess', 'trapped', 'doj', 'leadership', 'whose', 'political', 'futures', 'tied', 'hillary', 'victory', 'bureau', 'whose', 'apolitical', 'agents', 'want', 'allowed', 'jobs', 'truly', 'mysterious', 'thing', 'hillary', 'associates', 'decided', 'go', 'war', 'respected', 'federal', 'agency', 'americans', 'like', 'fbi', 'hillary', 'clinton', 'enjoys', 'unfavorable', 'rating', 'interesting', 'question', 'hillary', 'old', 'strategy', 'lie', 'deny', 'fbi', 'even', 'criminal', 'investigation', 'underway', 'instead', 'associates', 'insisted', 'security', 'review', 'fbi', 'corrected', 'shrugged', 'old', 'breezy', 'denial', 'approach', 'given', 'way', 'savage', 'assault', 'fbi', 'pretending', 'nothing', 'wrong', 'bad', 'strategy', 'better', 'one', 'picking', 'fight', 'fbi', 'lunatic', 'clinton', 'associates', 'try', 'claim', 'fbi', 'really', 'kgb', 'two', 'possible', 'explanations', 'hillary', 'clinton', 'might', 'arrogant', 'enough', 'lash', 'fbi', 'believes', 'victory', 'near', 'kind', 'hubris', 'led', 'plan', 'victory', 'fireworks', 'display', 'could', 'lead', 'declare', 'war', 'fbi', 'irritating', 'final', 'miles', 'campaign', 'explanation', 'people', 'panicked', 'going', 'war', 'fbi', 'behavior', 'smart', 'focused', 'presidential', 'campaign', 'act', 'desperation', 'presidential', 'candidate', 'decides', 'option', 'try', 'destroy', 'credibility', 'fbi', 'hubris', 'fear', 'fbi', 'might', 'reveal', 'original', 'fbi', 'investigation', 'hillary', 'clinton', 'confident', 'could', 'ride', 'good', 'reason', 'believing', 'hillary', 'clinton', 'gone', 'place', 'paranoid', 'wreck', 'within', 'short', 'space', 'time', 'positive', 'clinton', 'campaign', 'promising', 'unite', 'country', 'replaced', 'desperate', 'flailing', 'operation', 'focused', 'energy', 'fighting', 'fbi', 'one', 'reason', 'bizarre', 'behavior', 'clinton', 'campaign', 'decided', 'fbi', 'investigation', 'latest', 'batch', 'emails', 'poses', 'threat', 'survival', 'gone', 'fighting', 'fbi', 'unprecedented', 'step', 'born', 'fear', 'hard', 'know', 'whether', 'fear', 'justified', 'existence', 'fear', 'already', 'tells', 'us', 'whole', 'lot', 'clinton', 'loyalists', 'rigged', 'old', 'investigation', 'knew', 'outcome', 'ahead', 'time', 'well', 'knew', 'debate', 'questions', 'suddenly', 'longer', 'control', 'afraid', 'smell', 'fear', 'fbi', 'wiretaps', 'investigation', 'clinton', 'foundation', 'finding', 'new', 'emails', 'time', 'clintonworld', 'panicked', 'spinmeisters', 'clintonworld', 'claimed', 'email', 'scandal', 'much', 'smoke', 'without', 'fire', 'appearance', 'impropriety', 'without', 'substance', 'react', 'smoke', 'respond', 'fire', 'misguided', 'assault', 'fbi', 'tells', 'us', 'hillary', 'clinton', 'allies', 'afraid', 'revelation', 'bigger', 'fundamental', 'illegality', 'email', 'setup', 'email', 'setup', 'preemptive', 'cover', 'clinton', 'campaign', 'panicked', 'badly', 'belief', 'right', 'wrong', 'whatever', 'crime', 'illegal', 'setup', 'meant', 'cover', 'risk', 'exposed', 'clintons', 'weathered', 'countless', 'scandals', 'years', 'whatever', 'protecting', 'time', 'around', 'bigger', 'usual', 'corruption', 'bribery', 'sexual', 'assaults', 'abuses', 'power', 'followed', 'around', 'throughout', 'years', 'bigger', 'damaging', 'allegations', 'already', 'come', 'want', 'fbi', 'investigators', 'anywhere', 'near', 'campaign', 'comey', 'pure', 'intimidation', 'also', 'warning', 'senior', 'fbi', 'people', 'value', 'careers', 'warned', 'stay', 'away', 'democrats', 'closing', 'ranks', 'around', 'nominee', 'fbi', 'ugly', 'unprecedented', 'scene', 'may', 'also', 'last', 'stand', 'hillary', 'clinton', 'awkwardly', 'wound', 'way', 'numerous', 'scandals', 'election', 'cycle', 'never', 'shown', 'fear', 'desperation', 'changed', 'whatever', 'afraid', 'lies', 'buried', 'emails', 'huma', 'abedin', 'bring', 'like', 'nothing', 'else']\n"
     ]
    }
   ],
   "source": [
    "words = [w for w in words if not w in stopwords.words(\"english\")]\n",
    "print (words)"
   ]
  },
  {
   "cell_type": "markdown",
   "metadata": {},
   "source": [
    "As seen from above example, we need to clean every news text from our data. Below is a function that consist of combined steps that performs data cleaning. "
   ]
  },
  {
   "cell_type": "code",
   "execution_count": 216,
   "metadata": {
    "collapsed": true
   },
   "outputs": [],
   "source": [
    "def news_text_to_words(raw_text):\n",
    "    # Function to convert a raw news text to a string of words\n",
    "    # The input is a single string (a raw news text), and \n",
    "    # the output is a single string (a preprocessed news text)\n",
    "    # 1. Remove HTML\n",
    "    news_text = BeautifulSoup(raw_text).get_text() \n",
    "    \n",
    "    # 2. Remove non-letters        \n",
    "    letters_only = re.sub(\"[^a-zA-Z]\", \" \", news_text) \n",
    "    \n",
    "    # 3. Convert to lower case, split into individual words\n",
    "    words = letters_only.lower().split()                 \n",
    "    \n",
    "    # 4. In Python, searching a set is much faster than searching\n",
    "    #   a list, so convert the stop words to a set\n",
    "    stops = set(stopwords.words(\"english\"))                  \n",
    "    \n",
    "    # 5. Remove stop words\n",
    "    meaningful_words = [w for w in words if not w in stops]   \n",
    "    \n",
    "    # 6. Join the words back into one string separated by space, \n",
    "    # and return the result.\n",
    "    return( \" \".join( meaningful_words ))  "
   ]
  },
  {
   "cell_type": "code",
   "execution_count": 217,
   "metadata": {
    "collapsed": false
   },
   "outputs": [
    {
     "name": "stdout",
     "output_type": "stream",
     "text": [
      "daniel greenfield shillman journalism fellow freedom center new york writer focusing radical islam final stretch election hillary rodham clinton gone war fbi word unprecedented thrown around often election ought retired still unprecedented nominee major political party go war fbi exactly hillary people done coma patients waking watching hour cnn hospital beds would assume fbi director james comey hillary opponent election fbi attack everyone obama cnn hillary people circulated letter attacking comey currently media hit pieces lambasting targeting trump surprising clintons allies start running attack ads fbi fbi leadership warned entire left wing establishment form lynch mob continue going hillary fbi credibility attacked media democrats preemptively head results investigation clinton foundation hillary clinton covert struggle fbi agents obama doj people gone explosively public new york times compared comey j edgar hoover bizarre headline james comey role recalls hoover fbi fairly practically admits front spouting nonsense boston globe published column calling comey resignation outdone time editorial claiming scandal really attack women james carville appeared msnbc remind everyone still alive insane accused comey coordinating house republicans kgb thought vast right wing conspiracy stretch countless media stories charge comey violating procedure know procedural violation emailing classified information stored bathroom server senator harry reid sent comey letter accusing violating hatch act hatch act nice idea much relevance age obama tenth amendment cable news spectrum quickly filled media hacks glancing wikipedia article hatch act table accusing fbi director one awkward conspiracies hillary ever james comey really hurt hillary picked one hell strange way long ago democrats breathing sigh relief gave hillary clinton pass prominent public statement really elect trump keeping email scandal going trash investigation payroll house republicans kgb back playing coy sudden development vladimir putin paul ryan talked taking look anthony weiner computer either comey cunning fbi director ever lived awkwardly trying navigate political mess trapped doj leadership whose political futures tied hillary victory bureau whose apolitical agents want allowed jobs truly mysterious thing hillary associates decided go war respected federal agency americans like fbi hillary clinton enjoys unfavorable rating interesting question hillary old strategy lie deny fbi even criminal investigation underway instead associates insisted security review fbi corrected shrugged old breezy denial approach given way savage assault fbi pretending nothing wrong bad strategy better one picking fight fbi lunatic clinton associates try claim fbi really kgb two possible explanations hillary clinton might arrogant enough lash fbi believes victory near kind hubris led plan victory fireworks display could lead declare war fbi irritating final miles campaign explanation people panicked going war fbi behavior smart focused presidential campaign act desperation presidential candidate decides option try destroy credibility fbi hubris fear fbi might reveal original fbi investigation hillary clinton confident could ride good reason believing hillary clinton gone place paranoid wreck within short space time positive clinton campaign promising unite country replaced desperate flailing operation focused energy fighting fbi one reason bizarre behavior clinton campaign decided fbi investigation latest batch emails poses threat survival gone fighting fbi unprecedented step born fear hard know whether fear justified existence fear already tells us whole lot clinton loyalists rigged old investigation knew outcome ahead time well knew debate questions suddenly longer control afraid smell fear fbi wiretaps investigation clinton foundation finding new emails time clintonworld panicked spinmeisters clintonworld claimed email scandal much smoke without fire appearance impropriety without substance react smoke respond fire misguided assault fbi tells us hillary clinton allies afraid revelation bigger fundamental illegality email setup email setup preemptive cover clinton campaign panicked badly belief right wrong whatever crime illegal setup meant cover risk exposed clintons weathered countless scandals years whatever protecting time around bigger usual corruption bribery sexual assaults abuses power followed around throughout years bigger damaging allegations already come want fbi investigators anywhere near campaign comey pure intimidation also warning senior fbi people value careers warned stay away democrats closing ranks around nominee fbi ugly unprecedented scene may also last stand hillary clinton awkwardly wound way numerous scandals election cycle never shown fear desperation changed whatever afraid lies buried emails huma abedin bring like nothing else\n"
     ]
    },
    {
     "name": "stderr",
     "output_type": "stream",
     "text": [
      "C:\\Users\\Prajakta\\Anaconda3\\lib\\site-packages\\bs4\\__init__.py:166: UserWarning: No parser was explicitly specified, so I'm using the best available HTML parser for this system (\"lxml\"). This usually isn't a problem, but if you run this code on another system, or in a different virtual environment, it may use a different parser and behave differently.\n",
      "\n",
      "To get rid of this warning, change this:\n",
      "\n",
      " BeautifulSoup([your markup])\n",
      "\n",
      "to this:\n",
      "\n",
      " BeautifulSoup([your markup], \"lxml\")\n",
      "\n",
      "  markup_type=markup_type))\n"
     ]
    }
   ],
   "source": [
    "# Checking our function for first news text\n",
    "clean_text = news_text_to_words(df[\"text\"][0])\n",
    "print(clean_text)"
   ]
  },
  {
   "cell_type": "markdown",
   "metadata": {},
   "source": [
    "#### Get the number of news texts based on the dataframe column size"
   ]
  },
  {
   "cell_type": "code",
   "execution_count": 218,
   "metadata": {
    "collapsed": true
   },
   "outputs": [],
   "source": [
    "num_news_text = df[\"text\"].size"
   ]
  },
  {
   "cell_type": "markdown",
   "metadata": {},
   "source": [
    "#### Initialize an empty list to hold the clean news text"
   ]
  },
  {
   "cell_type": "code",
   "execution_count": 219,
   "metadata": {
    "collapsed": true
   },
   "outputs": [],
   "source": [
    "clean_df_news = []"
   ]
  },
  {
   "cell_type": "markdown",
   "metadata": {},
   "source": [
    "#### Loop over each news text; create an index i that goes from 0 to the length of the number of news texts list "
   ]
  },
  {
   "cell_type": "code",
   "execution_count": 220,
   "metadata": {
    "collapsed": false
   },
   "outputs": [
    {
     "name": "stderr",
     "output_type": "stream",
     "text": [
      "C:\\Users\\Prajakta\\Anaconda3\\lib\\site-packages\\bs4\\__init__.py:166: UserWarning: No parser was explicitly specified, so I'm using the best available HTML parser for this system (\"lxml\"). This usually isn't a problem, but if you run this code on another system, or in a different virtual environment, it may use a different parser and behave differently.\n",
      "\n",
      "To get rid of this warning, change this:\n",
      "\n",
      " BeautifulSoup([your markup])\n",
      "\n",
      "to this:\n",
      "\n",
      " BeautifulSoup([your markup], \"lxml\")\n",
      "\n",
      "  markup_type=markup_type))\n"
     ]
    }
   ],
   "source": [
    "for i in range( 0, num_news_text ):\n",
    "    # Call our function for each one, and add the result to the list of clean news text\n",
    "    clean_df_news.append( news_text_to_words(df[\"text\"][i] ) )"
   ]
  },
  {
   "cell_type": "code",
   "execution_count": 221,
   "metadata": {
    "collapsed": false
   },
   "outputs": [
    {
     "data": {
      "text/plain": [
       "6335"
      ]
     },
     "execution_count": 221,
     "metadata": {},
     "output_type": "execute_result"
    }
   ],
   "source": [
    "len(clean_df_news)"
   ]
  },
  {
   "cell_type": "markdown",
   "metadata": {},
   "source": [
    "#### Train-Test split using cross-validation : X contains all the text i.e. news data and y contains the label to be predicted\n",
    "#### Train Data - 66%\n",
    "#### Test Data - 34%"
   ]
  },
  {
   "cell_type": "code",
   "execution_count": 222,
   "metadata": {
    "collapsed": false
   },
   "outputs": [],
   "source": [
    "from sklearn.cross_validation import train_test_split\n",
    "X_train, X_test, y_train, y_test = train_test_split(clean_df_news, df['label'], test_size=0.33, random_state=53)"
   ]
  },
  {
   "cell_type": "markdown",
   "metadata": {},
   "source": [
    "#### The Bag of Words model learns a vocabulary from all of the documents, then models each document by counting the number of times each word appears. Below, we use the 1000 most frequent words (remembering that stop words have already been removed)."
   ]
  },
  {
   "cell_type": "code",
   "execution_count": 223,
   "metadata": {
    "collapsed": false
   },
   "outputs": [
    {
     "name": "stdout",
     "output_type": "stream",
     "text": [
      "Creating the bag of words...\n",
      "\n"
     ]
    }
   ],
   "source": [
    "print (\"Creating the bag of words...\\n\")\n",
    "from sklearn.feature_extraction.text import CountVectorizer\n",
    "from sklearn.preprocessing import StandardScaler\n",
    "vectorizer = CountVectorizer(analyzer = \"word\",   \n",
    "                             tokenizer = None,    \n",
    "                             preprocessor = None, \n",
    "                             stop_words = None,   \n",
    "                             max_features = 1000) \n",
    "\n",
    "X_train_data_features = vectorizer.fit_transform(X_train)\n",
    "X_train_data_features = X_train_data_features.toarray()\n",
    "\n",
    "X_test_data_features = vectorizer.fit_transform(X_test)\n",
    "X_test_data_features = X_test_data_features.toarray()"
   ]
  },
  {
   "cell_type": "code",
   "execution_count": 224,
   "metadata": {
    "collapsed": false
   },
   "outputs": [
    {
     "name": "stdout",
     "output_type": "stream",
     "text": [
      "(4244, 1000)\n",
      "(2091, 1000)\n"
     ]
    }
   ],
   "source": [
    "print(X_train_data_features.shape)\n",
    "print(X_test_data_features.shape)"
   ]
  },
  {
   "cell_type": "markdown",
   "metadata": {},
   "source": [
    "#### Thus the training array has 4244 rows with 1000 features and similarly for test array. \n",
    "\n",
    "#### To check the feature names, we use .get_feature_name() function"
   ]
  },
  {
   "cell_type": "code",
   "execution_count": 225,
   "metadata": {
    "collapsed": false
   },
   "outputs": [
    {
     "name": "stdout",
     "output_type": "stream",
     "text": [
      "['abedin', 'ability', 'able', 'abortion', 'access', 'according', 'account', 'accused', 'across', 'act', 'action', 'actions', 'actually', 'added', 'address', 'administration', 'african', 'age', 'agency', 'agenda', 'ago', 'agreement', 'ahead', 'air', 'al', 'allies', 'allow', 'allowed', 'almost', 'alone', 'along', 'already', 'also', 'although', 'always', 'america', 'american', 'americans', 'among', 'announced', 'another', 'answer', 'anti', 'anyone', 'anything', 'appear', 'appeared', 'appears', 'approach', 'april', 'arab', 'area', 'areas', 'argument', 'army', 'around', 'article', 'ask', 'asked', 'assault', 'associated', 'attack', 'attacks', 'attempt', 'attention', 'attorney', 'august', 'author', 'authorities', 'away', 'back', 'bad', 'ballot', 'bank', 'barack', 'base', 'based', 'battle', 'became', 'become', 'began', 'beginning', 'behind', 'believe', 'believes', 'bernie', 'best', 'better', 'beyond', 'biden', 'big', 'biggest', 'bill', 'billion', 'black', 'board', 'body', 'boehner', 'book', 'born', 'break', 'bring', 'british', 'brought', 'budget', 'build', 'building', 'bush', 'business', 'california', 'call', 'called', 'calling', 'calls', 'came', 'campaign', 'campaigns', 'cancer', 'candidate', 'candidates', 'cannot', 'capital', 'care', 'carolina', 'carson', 'case', 'cases', 'caucus', 'cause', 'center', 'central', 'century', 'certain', 'certainly', 'chairman', 'challenge', 'chance', 'change', 'changed', 'check', 'chief', 'children', 'china', 'choice', 'chris', 'christian', 'christie', 'church', 'citizens', 'city', 'civil', 'claim', 'claimed', 'claims', 'class', 'clear', 'clearly', 'climate', 'clinton', 'clintons', 'close', 'cnn', 'co', 'coalition', 'college', 'com', 'come', 'comes', 'comey', 'coming', 'comment', 'comments', 'committee', 'common', 'community', 'companies', 'company', 'completely', 'concerns', 'conference', 'congress', 'congressional', 'conservative', 'conservatives', 'consider', 'continue', 'continued', 'continues', 'control', 'convention', 'corporate', 'cost', 'could', 'countries', 'country', 'county', 'course', 'court', 'create', 'created', 'crime', 'criminal', 'crisis', 'crowd', 'cruz', 'current', 'currently', 'cut', 'daily', 'data', 'david', 'day', 'days', 'dead', 'deal', 'death', 'debate', 'debt', 'decades', 'decided', 'decision', 'declared', 'deep', 'defense', 'delegates', 'democracy', 'democrat', 'democratic', 'democrats', 'department', 'described', 'despite', 'details', 'development', 'different', 'difficult', 'director', 'district', 'dnc', 'documents', 'dollars', 'donald', 'done', 'donors', 'dr', 'due', 'earlier', 'early', 'east', 'economic', 'economy', 'education', 'effect', 'effort', 'efforts', 'eight', 'either', 'elected', 'election', 'elections', 'electoral', 'else', 'email', 'emails', 'end', 'energy', 'enforcement', 'enough', 'entire', 'especially', 'establishment', 'europe', 'european', 'even', 'event', 'events', 'ever', 'every', 'everyone', 'everything', 'evidence', 'exactly', 'example', 'executive', 'expected', 'experience', 'experts', 'expressed', 'face', 'facebook', 'fact', 'failed', 'faith', 'fall', 'false', 'families', 'family', 'far', 'father', 'fbi', 'fear', 'federal', 'feel', 'felt', 'field', 'fight', 'fighting', 'final', 'finally', 'financial', 'find', 'fire', 'first', 'five', 'florida', 'focus', 'focused', 'follow', 'following', 'food', 'force', 'forces', 'foreign', 'form', 'former', 'forward', 'found', 'foundation', 'four', 'fox', 'france', 'free', 'freedom', 'french', 'friday', 'friends', 'front', 'full', 'funding', 'future', 'game', 'gave', 'general', 'george', 'get', 'gets', 'getting', 'give', 'given', 'giving', 'global', 'go', 'god', 'goes', 'going', 'gold', 'good', 'gop', 'got', 'gov', 'government', 'governor', 'great', 'ground', 'group', 'groups', 'growing', 'growth', 'gun', 'guns', 'half', 'hampshire', 'hand', 'hands', 'happen', 'happened', 'hard', 'head', 'health', 'heard', 'heart', 'held', 'help', 'helped', 'high', 'higher', 'hillary', 'history', 'hit', 'hold', 'home', 'hope', 'host', 'hours', 'house', 'however', 'huge', 'human', 'hundreds', 'husband', 'idea', 'ideas', 'illegal', 'immediately', 'immigrants', 'immigration', 'impact', 'important', 'include', 'included', 'including', 'income', 'increase', 'indeed', 'independent', 'individual', 'industry', 'influence', 'information', 'inside', 'instead', 'intelligence', 'interest', 'interests', 'international', 'internet', 'interview', 'investigation', 'involved', 'iowa', 'iran', 'iranian', 'iraq', 'isis', 'islamic', 'israel', 'issue', 'issues', 'james', 'january', 'jeb', 'jewish', 'job', 'jobs', 'john', 'johnson', 'judge', 'july', 'june', 'justice', 'kasich', 'keep', 'kerry', 'key', 'killed', 'killing', 'kind', 'knew', 'know', 'known', 'knows', 'lack', 'land', 'language', 'large', 'last', 'late', 'later', 'latest', 'law', 'lawmakers', 'laws', 'lead', 'leader', 'leaders', 'leadership', 'leading', 'least', 'leave', 'led', 'left', 'legal', 'less', 'let', 'letter', 'level', 'liberal', 'life', 'light', 'like', 'likely', 'line', 'list', 'little', 'live', 'lives', 'living', 'local', 'long', 'longer', 'look', 'looking', 'looks', 'lose', 'lost', 'lot', 'love', 'low', 'lower', 'lynch', 'made', 'mail', 'main', 'mainstream', 'major', 'majority', 'make', 'makes', 'making', 'man', 'many', 'march', 'marco', 'market', 'marriage', 'mass', 'matter', 'may', 'maybe', 'mcconnell', 'mean', 'means', 'meanwhile', 'media', 'medical', 'meet', 'meeting', 'member', 'members', 'men', 'message', 'met', 'michael', 'middle', 'might', 'mike', 'military', 'million', 'millions', 'mind', 'minister', 'moment', 'monday', 'money', 'month', 'months', 'morning', 'move', 'movement', 'mr', 'much', 'muslim', 'muslims', 'must', 'name', 'nation', 'national', 'nations', 'nato', 'near', 'nearly', 'need', 'needed', 'needs', 'network', 'never', 'new', 'news', 'next', 'night', 'nomination', 'nominee', 'non', 'none', 'north', 'noted', 'nothing', 'november', 'nuclear', 'number', 'numbers', 'obama', 'obamacare', 'october', 'offer', 'office', 'officer', 'officers', 'official', 'officials', 'often', 'ohio', 'oil', 'old', 'one', 'open', 'operation', 'operations', 'opinion', 'opportunity', 'opposition', 'order', 'organization', 'others', 'outside', 'paid', 'parents', 'paris', 'part', 'particular', 'particularly', 'parties', 'party', 'passed', 'past', 'paul', 'pay', 'peace', 'pence', 'people', 'percent', 'perhaps', 'period', 'person', 'personal', 'place', 'plan', 'planned', 'plans', 'play', 'podesta', 'point', 'points', 'police', 'policies', 'policy', 'political', 'politicians', 'politics', 'poll', 'polling', 'polls', 'popular', 'population', 'position', 'possible', 'post', 'posted', 'potential', 'power', 'presidency', 'president', 'presidential', 'press', 'previous', 'primaries', 'primary', 'prison', 'private', 'pro', 'probably', 'problem', 'problems', 'process', 'professor', 'program', 'programs', 'project', 'protect', 'protesters', 'provide', 'provided', 'public', 'published', 'put', 'putin', 'question', 'questions', 'quickly', 'quite', 'race', 'rally', 'rate', 'rather', 'reach', 'read', 'ready', 'real', 'reality', 'really', 'reason', 'reasons', 'received', 'recent', 'recently', 'record', 'reform', 'regime', 'region', 'related', 'relations', 'release', 'released', 'religious', 'remain', 'remains', 'remember', 'rep', 'repeatedly', 'report', 'reported', 'reporters', 'reports', 'republican', 'republicans', 'research', 'resources', 'respect', 'response', 'rest', 'result', 'results', 'return', 'review', 'rhetoric', 'right', 'rights', 'rise', 'risk', 'role', 'romney', 'room', 'rubio', 'rule', 'rules', 'run', 'running', 'russia', 'russian', 'ryan', 'safe', 'said', 'sanctions', 'sanders', 'saturday', 'saudi', 'saw', 'say', 'saying', 'says', 'school', 'schools', 'science', 'scott', 'second', 'secret', 'secretary', 'security', 'see', 'seem', 'seemed', 'seems', 'seen', 'self', 'sen', 'senate', 'senator', 'senior', 'sense', 'sent', 'september', 'series', 'serious', 'served', 'server', 'service', 'set', 'seven', 'several', 'sex', 'sexual', 'share', 'shooting', 'short', 'shot', 'show', 'showed', 'showing', 'shows', 'side', 'sign', 'significant', 'similar', 'simply', 'since', 'single', 'site', 'situation', 'six', 'small', 'social', 'society', 'someone', 'something', 'soon', 'source', 'sources', 'south', 'space', 'speak', 'speaker', 'speaking', 'special', 'speech', 'spending', 'spent', 'spoke', 'spokesman', 'st', 'staff', 'stage', 'stand', 'standing', 'start', 'started', 'state', 'statement', 'states', 'stay', 'step', 'still', 'stop', 'stories', 'story', 'strategy', 'street', 'strong', 'student', 'students', 'study', 'suggested', 'sunday', 'super', 'support', 'supported', 'supporters', 'supporting', 'supreme', 'sure', 'syria', 'syrian', 'system', 'take', 'taken', 'takes', 'taking', 'talk', 'talking', 'tax', 'taxes', 'team', 'ted', 'tell', 'term', 'terms', 'terror', 'terrorism', 'terrorist', 'terrorists', 'test', 'texas', 'th', 'thing', 'things', 'think', 'thinking', 'third', 'though', 'thought', 'thousands', 'threat', 'three', 'throughout', 'thursday', 'time', 'times', 'today', 'together', 'told', 'took', 'top', 'total', 'tough', 'toward', 'town', 'trade', 'tried', 'true', 'trump', 'trust', 'truth', 'try', 'trying', 'tuesday', 'turkey', 'turn', 'turned', 'tv', 'twitter', 'two', 'ukraine', 'un', 'understand', 'union', 'united', 'university', 'upon', 'us', 'use', 'used', 'using', 'via', 'vice', 'victory', 'video', 'view', 'views', 'violence', 'virginia', 'vote', 'voted', 'voter', 'voters', 'votes', 'voting', 'wall', 'want', 'wanted', 'wants', 'war', 'washington', 'watch', 'water', 'way', 'ways', 'weapons', 'wednesday', 'week', 'weekend', 'weeks', 'weiner', 'well', 'went', 'west', 'western', 'whatever', 'whether', 'white', 'whole', 'whose', 'wife', 'wikileaks', 'willing', 'win', 'wing', 'winning', 'wins', 'wisconsin', 'within', 'without', 'woman', 'women', 'word', 'words', 'work', 'worked', 'workers', 'working', 'works', 'world', 'worse', 'would', 'wrong', 'wrote', 'year', 'years', 'yes', 'yet', 'york', 'young']\n"
     ]
    }
   ],
   "source": [
    "vocab = vectorizer.get_feature_names()\n",
    "print(vocab)"
   ]
  },
  {
   "cell_type": "markdown",
   "metadata": {},
   "source": [
    "#### Printing count of each word in the vocabulary"
   ]
  },
  {
   "cell_type": "code",
   "execution_count": 227,
   "metadata": {
    "collapsed": false
   },
   "outputs": [
    {
     "name": "stdout",
     "output_type": "stream",
     "text": [
      "424 abedin\n",
      "859 ability\n",
      "398 able\n",
      "598 abortion\n",
      "2088 access\n",
      "413 according\n",
      "977 account\n",
      "1112 accused\n",
      "826 across\n",
      "529 act\n",
      "1161 action\n",
      "854 actions\n",
      "557 actually\n",
      "1503 added\n",
      "497 address\n",
      "395 administration\n",
      "608 african\n",
      "376 age\n",
      "392 agency\n",
      "1055 agenda\n",
      "365 ago\n",
      "582 agreement\n",
      "485 ahead\n",
      "777 air\n",
      "957 al\n",
      "461 allies\n",
      "497 allow\n",
      "413 allowed\n",
      "864 almost\n",
      "406 alone\n",
      "786 along\n",
      "1455 already\n",
      "5508 also\n",
      "591 although\n",
      "906 always\n",
      "2551 america\n",
      "3663 american\n",
      "2170 americans\n",
      "1631 among\n",
      "652 announced\n",
      "2066 another\n",
      "501 answer\n",
      "1079 anti\n",
      "724 anyone\n",
      "841 anything\n",
      "382 appear\n",
      "421 appeared\n",
      "436 appears\n",
      "395 approach\n",
      "374 april\n",
      "373 arab\n",
      "586 area\n",
      "408 areas\n",
      "375 argument\n",
      "511 army\n",
      "1615 around\n",
      "749 article\n",
      "471 ask\n",
      "1196 asked\n",
      "392 assault\n",
      "461 associated\n",
      "1257 attack\n",
      "1127 attacks\n",
      "357 attempt\n",
      "516 attention\n",
      "471 attorney\n",
      "452 august\n",
      "495 author\n",
      "360 authorities\n",
      "364 away\n",
      "418 back\n",
      "1147 bad\n",
      "2628 ballot\n",
      "369 bank\n",
      "712 barack\n",
      "360 base\n",
      "503 based\n",
      "391 battle\n",
      "680 became\n",
      "479 become\n",
      "999 began\n",
      "402 beginning\n",
      "525 behind\n",
      "1205 believe\n",
      "657 believes\n",
      "362 bernie\n",
      "1024 best\n",
      "1416 better\n",
      "814 beyond\n",
      "1067 biden\n",
      "1302 big\n",
      "551 biggest\n",
      "492 bill\n",
      "1400 billion\n",
      "411 black\n",
      "1737 board\n",
      "631 body\n",
      "370 boehner\n",
      "1709 book\n",
      "406 born\n",
      "463 break\n",
      "450 bring\n",
      "561 british\n",
      "570 brought\n",
      "383 budget\n",
      "467 build\n",
      "577 building\n",
      "366 bush\n",
      "451 business\n",
      "548 california\n",
      "462 call\n",
      "480 called\n",
      "2271 calling\n",
      "1036 calls\n",
      "573 came\n",
      "977 campaign\n",
      "1850 campaigns\n",
      "515 cancer\n",
      "477 candidate\n",
      "1180 candidates\n",
      "5131 cannot\n",
      "355 capital\n",
      "2214 care\n",
      "1699 carolina\n",
      "634 carson\n",
      "1057 case\n",
      "550 cases\n",
      "428 caucus\n",
      "1587 cause\n",
      "471 center\n",
      "536 central\n",
      "850 century\n",
      "509 certain\n",
      "372 certainly\n",
      "462 chairman\n",
      "477 challenge\n",
      "518 chance\n",
      "443 change\n",
      "515 changed\n",
      "1699 check\n",
      "379 chief\n",
      "391 children\n",
      "389 china\n",
      "751 choice\n",
      "454 chris\n",
      "975 christian\n",
      "821 christie\n",
      "551 church\n",
      "406 citizens\n",
      "484 city\n",
      "413 civil\n",
      "368 claim\n",
      "623 claimed\n",
      "1264 claims\n",
      "620 class\n",
      "602 clear\n",
      "449 clearly\n",
      "513 climate\n",
      "808 clinton\n",
      "404 clintons\n",
      "1203 close\n",
      "394 cnn\n",
      "595 co\n",
      "11664 coalition\n",
      "864 college\n",
      "1180 com\n",
      "492 come\n",
      "456 comes\n",
      "592 comey\n",
      "1253 coming\n",
      "1627 comment\n",
      "855 comments\n",
      "718 committee\n",
      "771 common\n",
      "498 community\n",
      "724 companies\n",
      "958 company\n",
      "582 completely\n",
      "821 concerns\n",
      "506 conference\n",
      "542 congress\n",
      "423 congressional\n",
      "524 conservative\n",
      "396 conservatives\n",
      "1764 consider\n",
      "522 continue\n",
      "1137 continued\n",
      "491 continues\n",
      "451 control\n",
      "394 convention\n",
      "418 corporate\n",
      "374 cost\n",
      "863 could\n",
      "448 countries\n",
      "406 country\n",
      "1220 county\n",
      "884 course\n",
      "433 court\n",
      "353 create\n",
      "499 created\n",
      "4422 crime\n",
      "968 criminal\n",
      "3064 crisis\n",
      "432 crowd\n",
      "1018 cruz\n",
      "1788 current\n",
      "353 currently\n",
      "517 cut\n",
      "453 daily\n",
      "539 data\n",
      "542 david\n",
      "572 day\n",
      "400 days\n",
      "2010 dead\n",
      "399 deal\n",
      "669 death\n",
      "386 debate\n",
      "442 debt\n",
      "502 decades\n",
      "376 decided\n",
      "800 decision\n",
      "503 declared\n",
      "2355 deep\n",
      "1322 defense\n",
      "452 delegates\n",
      "1417 democracy\n",
      "737 democrat\n",
      "1815 democratic\n",
      "528 democrats\n",
      "597 department\n",
      "414 described\n",
      "920 despite\n",
      "404 details\n",
      "815 development\n",
      "783 different\n",
      "471 difficult\n",
      "498 director\n",
      "2704 district\n",
      "1841 dnc\n",
      "1582 documents\n",
      "464 dollars\n",
      "717 donald\n",
      "1004 done\n",
      "470 donors\n",
      "421 dr\n",
      "909 due\n",
      "430 earlier\n",
      "2704 early\n",
      "878 east\n",
      "412 economic\n",
      "367 economy\n",
      "470 education\n",
      "822 effect\n",
      "1086 effort\n",
      "440 efforts\n",
      "691 eight\n",
      "1095 either\n",
      "835 elected\n",
      "512 election\n",
      "402 elections\n",
      "633 electoral\n",
      "534 else\n",
      "428 email\n",
      "809 emails\n",
      "627 end\n",
      "3660 energy\n",
      "774 enforcement\n",
      "434 enough\n",
      "390 entire\n",
      "528 especially\n",
      "1323 establishment\n",
      "1343 europe\n",
      "1451 european\n",
      "611 even\n",
      "528 event\n",
      "1128 events\n",
      "616 ever\n",
      "652 every\n",
      "834 everyone\n",
      "552 everything\n",
      "438 evidence\n",
      "4378 exactly\n",
      "611 example\n",
      "448 executive\n",
      "1149 expected\n",
      "1840 experience\n",
      "683 experts\n",
      "647 expressed\n",
      "959 face\n",
      "425 facebook\n",
      "713 fact\n",
      "725 failed\n",
      "366 faith\n",
      "518 fall\n",
      "518 false\n",
      "371 families\n",
      "824 family\n",
      "757 far\n",
      "1551 father\n",
      "488 fbi\n",
      "431 fear\n",
      "432 federal\n",
      "1142 feel\n",
      "1616 felt\n",
      "422 field\n",
      "376 fight\n",
      "1590 fighting\n",
      "545 final\n",
      "1694 finally\n",
      "696 financial\n",
      "372 find\n",
      "548 fire\n",
      "871 first\n",
      "555 five\n",
      "412 florida\n",
      "524 focus\n",
      "459 focused\n",
      "741 follow\n",
      "983 following\n",
      "452 food\n",
      "3810 force\n",
      "795 forces\n",
      "1018 foreign\n",
      "508 form\n",
      "533 former\n",
      "698 forward\n",
      "557 found\n",
      "1191 foundation\n",
      "370 four\n",
      "1071 fox\n",
      "1629 france\n",
      "463 free\n",
      "2392 freedom\n",
      "513 french\n",
      "1287 friday\n",
      "763 friends\n",
      "1105 front\n",
      "1103 full\n",
      "368 funding\n",
      "1199 future\n",
      "723 game\n",
      "403 gave\n",
      "893 general\n",
      "501 george\n",
      "840 get\n",
      "808 gets\n",
      "411 getting\n",
      "853 give\n",
      "403 given\n",
      "551 giving\n",
      "391 global\n",
      "1460 go\n",
      "727 god\n",
      "3275 goes\n",
      "449 going\n",
      "745 gold\n",
      "1030 good\n",
      "1061 gop\n",
      "404 got\n",
      "893 gov\n",
      "1980 government\n",
      "479 governor\n",
      "476 great\n",
      "3011 ground\n",
      "563 group\n",
      "370 groups\n",
      "1795 growing\n",
      "1822 growth\n",
      "1139 gun\n",
      "685 guns\n",
      "3878 half\n",
      "719 hampshire\n",
      "1209 hand\n",
      "647 hands\n",
      "1665 happen\n",
      "915 happened\n",
      "438 hard\n",
      "384 head\n",
      "734 health\n",
      "370 heard\n",
      "684 heart\n",
      "628 held\n",
      "630 help\n",
      "408 helped\n",
      "517 high\n",
      "567 higher\n",
      "960 hillary\n",
      "635 history\n",
      "1503 hit\n",
      "353 hold\n",
      "445 home\n",
      "405 hope\n",
      "689 host\n",
      "1334 hours\n",
      "438 house\n",
      "1258 however\n",
      "473 huge\n",
      "4748 human\n",
      "1158 hundreds\n",
      "494 husband\n",
      "603 idea\n",
      "1107 ideas\n",
      "660 illegal\n",
      "353 immediately\n",
      "576 immigrants\n",
      "3226 immigration\n",
      "1357 impact\n",
      "390 important\n",
      "910 include\n",
      "388 included\n",
      "766 including\n",
      "576 income\n",
      "363 increase\n",
      "381 indeed\n",
      "547 independent\n",
      "965 individual\n",
      "366 industry\n",
      "1116 influence\n",
      "393 information\n",
      "380 inside\n",
      "1729 instead\n",
      "483 intelligence\n",
      "500 interest\n",
      "369 interests\n",
      "429 international\n",
      "472 internet\n",
      "356 interview\n",
      "472 investigation\n",
      "490 involved\n",
      "1282 iowa\n",
      "391 iran\n",
      "427 iranian\n",
      "895 iraq\n",
      "386 isis\n",
      "741 islamic\n",
      "663 israel\n",
      "462 issue\n",
      "927 issues\n",
      "789 james\n",
      "1036 january\n",
      "493 jeb\n",
      "919 jewish\n",
      "1484 job\n",
      "1102 jobs\n",
      "363 john\n",
      "1331 johnson\n",
      "872 judge\n",
      "792 july\n",
      "1307 june\n",
      "1198 justice\n",
      "460 kasich\n",
      "418 keep\n",
      "569 kerry\n",
      "843 key\n",
      "631 killed\n",
      "1397 killing\n",
      "515 kind\n",
      "400 knew\n",
      "439 know\n",
      "443 known\n",
      "1188 knows\n",
      "555 lack\n",
      "1048 land\n",
      "736 language\n",
      "795 large\n",
      "821 last\n",
      "403 late\n",
      "369 later\n",
      "2629 latest\n",
      "895 law\n",
      "441 lawmakers\n",
      "374 laws\n",
      "418 lead\n",
      "801 leader\n",
      "2937 leaders\n",
      "712 leadership\n",
      "1028 leading\n",
      "534 least\n",
      "2292 leave\n",
      "559 led\n",
      "957 left\n",
      "831 legal\n",
      "1085 less\n",
      "491 let\n",
      "551 letter\n",
      "1308 level\n",
      "590 liberal\n",
      "859 life\n",
      "1543 light\n",
      "719 like\n",
      "406 likely\n",
      "1304 line\n",
      "1165 list\n",
      "478 little\n",
      "727 live\n",
      "619 lives\n",
      "361 living\n",
      "1508 local\n",
      "371 long\n",
      "4819 longer\n",
      "1412 look\n",
      "859 looking\n",
      "606 looks\n",
      "1167 lose\n",
      "685 lost\n",
      "718 lot\n",
      "502 love\n",
      "722 low\n",
      "1957 lower\n",
      "556 lynch\n",
      "1298 made\n",
      "691 mail\n",
      "380 main\n",
      "646 mainstream\n",
      "1173 major\n",
      "559 majority\n",
      "540 make\n",
      "408 makes\n",
      "2421 making\n",
      "364 man\n",
      "438 many\n",
      "1130 march\n",
      "945 marco\n",
      "2936 market\n",
      "697 marriage\n",
      "1076 mass\n",
      "1383 matter\n",
      "3943 may\n",
      "595 maybe\n",
      "399 mcconnell\n",
      "621 mean\n",
      "569 means\n",
      "477 meanwhile\n",
      "428 media\n",
      "931 medical\n",
      "2833 meet\n",
      "443 meeting\n",
      "606 member\n",
      "926 members\n",
      "400 men\n",
      "2492 message\n",
      "365 met\n",
      "364 michael\n",
      "626 middle\n",
      "527 might\n",
      "1121 mike\n",
      "880 military\n",
      "632 million\n",
      "352 millions\n",
      "403 mind\n",
      "398 minister\n",
      "946 moment\n",
      "1621 monday\n",
      "1972 money\n",
      "1665 month\n",
      "703 months\n",
      "521 morning\n",
      "638 move\n",
      "649 movement\n",
      "869 mr\n",
      "1655 much\n",
      "969 muslim\n",
      "1048 muslims\n",
      "573 must\n",
      "832 name\n",
      "645 nation\n",
      "869 national\n",
      "2765 nations\n",
      "522 nato\n",
      "484 near\n",
      "1166 nearly\n",
      "820 need\n",
      "1258 needed\n",
      "2462 needs\n",
      "566 network\n",
      "446 never\n",
      "376 new\n",
      "581 news\n",
      "738 next\n",
      "1693 night\n",
      "514 nomination\n",
      "691 nominee\n",
      "371 non\n",
      "445 none\n",
      "1752 north\n",
      "6245 noted\n",
      "2962 nothing\n",
      "1621 november\n",
      "1192 nuclear\n",
      "920 number\n",
      "1198 numbers\n",
      "656 obama\n",
      "908 obamacare\n",
      "365 october\n",
      "451 offer\n",
      "948 office\n",
      "1209 officer\n",
      "1166 officers\n",
      "1194 official\n",
      "565 officials\n",
      "5752 often\n",
      "487 ohio\n",
      "1213 oil\n",
      "1324 old\n",
      "387 one\n",
      "542 open\n",
      "974 operation\n",
      "1440 operations\n",
      "840 opinion\n",
      "585 opportunity\n",
      "582 opposition\n",
      "1156 order\n",
      "7934 organization\n",
      "724 others\n",
      "384 outside\n",
      "366 paid\n",
      "428 parents\n",
      "420 paris\n",
      "438 part\n",
      "1034 particular\n",
      "475 particularly\n",
      "1065 parties\n",
      "664 party\n",
      "516 passed\n",
      "364 past\n",
      "491 paul\n",
      "1918 pay\n",
      "378 peace\n",
      "536 pence\n",
      "612 people\n",
      "3874 percent\n",
      "379 perhaps\n",
      "407 period\n",
      "1291 person\n",
      "967 personal\n",
      "870 place\n",
      "477 plan\n",
      "8183 planned\n",
      "380 plans\n",
      "2870 play\n",
      "606 podesta\n",
      "361 point\n",
      "955 points\n",
      "772 police\n",
      "388 policies\n",
      "1194 policy\n",
      "905 political\n",
      "430 politicians\n",
      "579 politics\n",
      "604 poll\n",
      "505 polling\n",
      "1521 polls\n",
      "811 popular\n",
      "2062 population\n",
      "623 position\n",
      "2060 possible\n",
      "3538 post\n",
      "502 posted\n",
      "1196 potential\n",
      "921 power\n",
      "395 presidency\n",
      "982 president\n",
      "389 presidential\n",
      "517 press\n",
      "654 previous\n",
      "365 primaries\n",
      "917 primary\n",
      "1347 prison\n",
      "405 private\n",
      "705 pro\n",
      "1703 probably\n",
      "486 problem\n",
      "395 problems\n",
      "643 process\n",
      "6079 professor\n",
      "2884 program\n",
      "1208 programs\n",
      "355 project\n",
      "400 protect\n",
      "393 protesters\n",
      "1217 provide\n",
      "432 provided\n",
      "987 public\n",
      "453 published\n",
      "726 put\n",
      "929 putin\n",
      "574 question\n",
      "1009 questions\n",
      "863 quickly\n",
      "427 quite\n",
      "469 race\n",
      "466 rally\n",
      "2293 rate\n",
      "532 rather\n",
      "1375 reach\n",
      "627 read\n",
      "1176 ready\n",
      "794 real\n",
      "403 reality\n",
      "451 really\n",
      "1582 reason\n",
      "380 reasons\n",
      "391 received\n",
      "413 recent\n",
      "547 recently\n",
      "491 record\n",
      "800 reform\n",
      "368 regime\n",
      "632 region\n",
      "411 related\n",
      "384 relations\n",
      "1326 release\n",
      "591 released\n",
      "1484 religious\n",
      "822 remain\n",
      "492 remains\n",
      "1323 remember\n",
      "632 rep\n",
      "658 repeatedly\n",
      "355 report\n",
      "369 reported\n",
      "511 reporters\n",
      "368 reports\n",
      "420 republican\n",
      "460 republicans\n",
      "472 research\n",
      "356 resources\n",
      "427 respect\n",
      "732 response\n",
      "667 rest\n",
      "430 result\n",
      "445 results\n",
      "358 return\n",
      "417 review\n",
      "1337 rhetoric\n",
      "1002 right\n",
      "539 rights\n",
      "728 rise\n",
      "3909 risk\n",
      "2421 role\n",
      "630 romney\n",
      "578 room\n",
      "492 rubio\n",
      "632 rule\n",
      "654 rules\n",
      "365 run\n",
      "385 running\n",
      "2783 russia\n",
      "1227 russian\n",
      "476 ryan\n",
      "537 safe\n",
      "709 said\n",
      "643 sanctions\n",
      "385 sanders\n",
      "1381 saturday\n",
      "436 saudi\n",
      "623 saw\n",
      "386 say\n",
      "1163 saying\n",
      "903 says\n",
      "1962 school\n",
      "1332 schools\n",
      "661 science\n",
      "402 scott\n",
      "14106 second\n",
      "2871 secret\n",
      "560 secretary\n",
      "623 security\n",
      "491 see\n",
      "2676 seem\n",
      "1410 seemed\n",
      "2070 seems\n",
      "803 seen\n",
      "381 self\n",
      "1098 sen\n",
      "520 senate\n",
      "1376 senator\n",
      "1840 senior\n",
      "2318 sense\n",
      "460 sent\n",
      "379 september\n",
      "668 series\n",
      "996 serious\n",
      "675 served\n",
      "1098 server\n",
      "1393 service\n",
      "838 set\n",
      "602 seven\n",
      "600 several\n",
      "611 sex\n",
      "419 sexual\n",
      "398 share\n",
      "542 shooting\n",
      "357 short\n",
      "465 shot\n",
      "639 show\n",
      "352 showed\n",
      "919 showing\n",
      "1063 shows\n",
      "512 side\n",
      "787 sign\n",
      "411 significant\n",
      "538 similar\n",
      "462 simply\n",
      "1233 since\n",
      "488 single\n",
      "392 site\n",
      "612 situation\n",
      "793 six\n",
      "559 small\n",
      "472 social\n",
      "582 society\n",
      "703 someone\n",
      "2275 something\n",
      "545 soon\n",
      "392 source\n",
      "457 sources\n",
      "569 south\n",
      "768 space\n",
      "1161 speak\n",
      "567 speaker\n",
      "837 speaking\n",
      "1417 special\n",
      "370 speech\n",
      "531 spending\n",
      "853 spent\n",
      "433 spoke\n",
      "936 spokesman\n",
      "446 st\n",
      "541 staff\n",
      "556 stage\n",
      "555 stand\n",
      "1085 standing\n",
      "527 start\n",
      "490 started\n",
      "378 state\n",
      "386 statement\n",
      "495 states\n",
      "565 stay\n",
      "577 step\n",
      "515 still\n",
      "398 stop\n",
      "729 stories\n",
      "541 story\n",
      "6114 strategy\n",
      "1027 street\n",
      "4244 strong\n",
      "360 student\n",
      "401 students\n",
      "437 study\n",
      "2293 suggested\n",
      "883 sunday\n",
      "924 super\n",
      "526 support\n",
      "868 supported\n",
      "729 supporters\n",
      "455 supporting\n",
      "519 supreme\n",
      "780 sure\n",
      "433 syria\n",
      "2440 syrian\n",
      "1206 system\n",
      "405 take\n",
      "737 taken\n",
      "791 takes\n",
      "1511 taking\n",
      "697 talk\n",
      "1638 talking\n",
      "2312 tax\n",
      "755 taxes\n",
      "423 team\n",
      "849 ted\n",
      "761 tell\n",
      "640 term\n",
      "359 terms\n",
      "1000 terror\n",
      "690 terrorism\n",
      "560 terrorist\n",
      "671 terrorists\n",
      "754 test\n",
      "436 texas\n",
      "413 th\n",
      "568 thing\n",
      "539 things\n",
      "438 think\n",
      "813 thinking\n",
      "738 third\n",
      "1064 though\n",
      "1447 thought\n",
      "2815 thousands\n",
      "779 threat\n",
      "1304 three\n",
      "690 throughout\n",
      "593 thursday\n",
      "697 time\n",
      "1588 times\n",
      "378 today\n",
      "1016 together\n",
      "4644 told\n",
      "1620 took\n",
      "1471 top\n",
      "783 total\n",
      "2673 tough\n",
      "1016 toward\n",
      "1357 town\n",
      "437 trade\n",
      "628 tried\n",
      "394 true\n",
      "792 trump\n",
      "543 trust\n",
      "436 truth\n",
      "813 try\n",
      "14646 trying\n",
      "380 tuesday\n",
      "604 turkey\n",
      "605 turn\n",
      "973 turned\n",
      "1226 tv\n",
      "671 twitter\n",
      "571 two\n",
      "434 ukraine\n",
      "767 un\n",
      "3994 understand\n",
      "374 union\n",
      "592 united\n",
      "560 university\n",
      "2533 upon\n",
      "1026 us\n",
      "407 use\n",
      "5571 used\n",
      "402 using\n",
      "1682 via\n",
      "1450 vice\n",
      "783 victory\n",
      "372 video\n",
      "354 view\n",
      "578 views\n",
      "731 violence\n",
      "986 virginia\n",
      "572 vote\n",
      "439 voted\n",
      "723 voter\n",
      "360 voters\n",
      "2391 votes\n",
      "421 voting\n",
      "460 wall\n",
      "2526 want\n",
      "795 wanted\n",
      "1055 wants\n",
      "1001 war\n",
      "2075 washington\n",
      "573 watch\n",
      "683 water\n",
      "2826 way\n",
      "370 ways\n",
      "1978 weapons\n",
      "557 wednesday\n",
      "718 week\n",
      "2922 weekend\n",
      "518 weeks\n",
      "648 weiner\n",
      "968 well\n",
      "1852 went\n",
      "697 west\n",
      "2719 western\n",
      "781 whatever\n",
      "682 whether\n",
      "632 white\n",
      "1639 whole\n",
      "3085 whose\n",
      "595 wife\n",
      "628 wikileaks\n",
      "462 willing\n",
      "587 win\n",
      "364 wing\n",
      "1444 winning\n",
      "371 wins\n",
      "524 wisconsin\n",
      "852 within\n",
      "1459 without\n",
      "741 woman\n",
      "1652 women\n",
      "421 word\n",
      "692 words\n",
      "1804 work\n",
      "516 worked\n",
      "577 workers\n",
      "1122 working\n",
      "3328 works\n",
      "414 world\n",
      "358 worse\n",
      "8744 would\n",
      "561 wrong\n",
      "897 wrote\n",
      "3384 year\n",
      "3452 years\n",
      "512 yes\n",
      "1328 yet\n",
      "1507 york\n",
      "743 young\n"
     ]
    }
   ],
   "source": [
    "import numpy as np\n",
    "\n",
    "# Sum up the counts of each vocabulary word\n",
    "dist = np.sum(X_train_data_features, axis=0)\n",
    "\n",
    "# For each, print the vocabulary word and the number of times it \n",
    "# appears in the training set\n",
    "for tag, count in zip(vocab, dist):\n",
    "    print(count, tag)"
   ]
  },
  {
   "cell_type": "code",
   "execution_count": 228,
   "metadata": {
    "collapsed": true
   },
   "outputs": [],
   "source": [
    "from sklearn.naive_bayes import GaussianNB \n",
    "clf = GaussianNB() \n",
    "clf = clf.fit(X_train_data_features, y_train)"
   ]
  },
  {
   "cell_type": "code",
   "execution_count": 229,
   "metadata": {
    "collapsed": true
   },
   "outputs": [],
   "source": [
    "result = clf.predict(X_train_data_features)"
   ]
  },
  {
   "cell_type": "code",
   "execution_count": 230,
   "metadata": {
    "collapsed": false
   },
   "outputs": [
    {
     "name": "stdout",
     "output_type": "stream",
     "text": [
      "Accuracy of GaussianNB:   0.826\n"
     ]
    }
   ],
   "source": [
    "from sklearn.metrics import accuracy_score\n",
    "from sklearn import metrics\n",
    "score = metrics.accuracy_score(y_train, result)\n",
    "print(\"Accuracy of GaussianNB:   %0.3f\" % score)"
   ]
  },
  {
   "cell_type": "code",
   "execution_count": 231,
   "metadata": {
    "collapsed": true
   },
   "outputs": [],
   "source": [
    "from sklearn.svm import SVC\n",
    "svc = SVC()\n",
    "svc = svc.fit(X_train_data_features, y_train)"
   ]
  },
  {
   "cell_type": "code",
   "execution_count": 232,
   "metadata": {
    "collapsed": true
   },
   "outputs": [],
   "source": [
    "result = svc.predict(X_train_data_features)"
   ]
  },
  {
   "cell_type": "code",
   "execution_count": 234,
   "metadata": {
    "collapsed": false
   },
   "outputs": [
    {
     "name": "stdout",
     "output_type": "stream",
     "text": [
      "Accuracy of SVC:   0.920\n"
     ]
    }
   ],
   "source": [
    "from sklearn.metrics import accuracy_score\n",
    "from sklearn import metrics\n",
    "score = metrics.accuracy_score(y_train, result)\n",
    "print(\"Accuracy of SVC:   %0.3f\" % score)"
   ]
  },
  {
   "cell_type": "markdown",
   "metadata": {},
   "source": [
    "### Observations :\n",
    "\n",
    "SVC seems to perform better giving an accuracy of 92% while GaussianNB gives 82%. It can be seen that this bag-of-words approach using labeled training data performs much better when data preprocessing is performed in some cases. The results can be relied as the data contains less noise and is consistent. "
   ]
  },
  {
   "cell_type": "markdown",
   "metadata": {},
   "source": [
    "# Word2vec\n",
    "\n",
    "#### Word2Vec does not need labels in order to create meaningful representations. \n",
    "This is useful, since most data in the real world is unlabeled. If the network is given enough training data (tens of billions of words), it produces word vectors with intriguing characteristics. Words with similar meanings appear in clusters, and clusters are spaced such that some word relationships, such as analogies, can be reproduced using vector math. \n",
    "\n",
    "This part of notebook explains working with unlabeled data and trains the model using the excellent implementation of word2vec from the gensim package in Python. "
   ]
  },
  {
   "cell_type": "code",
   "execution_count": 235,
   "metadata": {
    "collapsed": false
   },
   "outputs": [
    {
     "data": {
      "text/html": [
       "<div>\n",
       "<table border=\"1\" class=\"dataframe\">\n",
       "  <thead>\n",
       "    <tr style=\"text-align: right;\">\n",
       "      <th></th>\n",
       "      <th>Unnamed: 0</th>\n",
       "      <th>title</th>\n",
       "      <th>text</th>\n",
       "      <th>label</th>\n",
       "    </tr>\n",
       "  </thead>\n",
       "  <tbody>\n",
       "    <tr>\n",
       "      <th>0</th>\n",
       "      <td>8476</td>\n",
       "      <td>You Can Smell Hillary’s Fear</td>\n",
       "      <td>Daniel Greenfield, a Shillman Journalism Fello...</td>\n",
       "      <td>FAKE</td>\n",
       "    </tr>\n",
       "    <tr>\n",
       "      <th>1</th>\n",
       "      <td>10294</td>\n",
       "      <td>Watch The Exact Moment Paul Ryan Committed Pol...</td>\n",
       "      <td>Google Pinterest Digg Linkedin Reddit Stumbleu...</td>\n",
       "      <td>FAKE</td>\n",
       "    </tr>\n",
       "    <tr>\n",
       "      <th>2</th>\n",
       "      <td>3608</td>\n",
       "      <td>Kerry to go to Paris in gesture of sympathy</td>\n",
       "      <td>U.S. Secretary of State John F. Kerry said Mon...</td>\n",
       "      <td>REAL</td>\n",
       "    </tr>\n",
       "    <tr>\n",
       "      <th>3</th>\n",
       "      <td>10142</td>\n",
       "      <td>Bernie supporters on Twitter erupt in anger ag...</td>\n",
       "      <td>— Kaydee King (@KaydeeKing) November 9, 2016 T...</td>\n",
       "      <td>FAKE</td>\n",
       "    </tr>\n",
       "    <tr>\n",
       "      <th>4</th>\n",
       "      <td>875</td>\n",
       "      <td>The Battle of New York: Why This Primary Matters</td>\n",
       "      <td>It's primary day in New York and front-runners...</td>\n",
       "      <td>REAL</td>\n",
       "    </tr>\n",
       "  </tbody>\n",
       "</table>\n",
       "</div>"
      ],
      "text/plain": [
       "   Unnamed: 0                                              title  \\\n",
       "0        8476                       You Can Smell Hillary’s Fear   \n",
       "1       10294  Watch The Exact Moment Paul Ryan Committed Pol...   \n",
       "2        3608        Kerry to go to Paris in gesture of sympathy   \n",
       "3       10142  Bernie supporters on Twitter erupt in anger ag...   \n",
       "4         875   The Battle of New York: Why This Primary Matters   \n",
       "\n",
       "                                                text label  \n",
       "0  Daniel Greenfield, a Shillman Journalism Fello...  FAKE  \n",
       "1  Google Pinterest Digg Linkedin Reddit Stumbleu...  FAKE  \n",
       "2  U.S. Secretary of State John F. Kerry said Mon...  REAL  \n",
       "3  — Kaydee King (@KaydeeKing) November 9, 2016 T...  FAKE  \n",
       "4  It's primary day in New York and front-runners...  REAL  "
      ]
     },
     "execution_count": 235,
     "metadata": {},
     "output_type": "execute_result"
    }
   ],
   "source": [
    "import pandas as pd\n",
    "df_new = pd.read_csv(\"C:\\\\Users\\\\Prajakta\\\\fake_or_real_news.csv\")\n",
    "df_new.head(5)"
   ]
  },
  {
   "cell_type": "markdown",
   "metadata": {},
   "source": [
    "#### Deleting column 'label' so we can work with unlabeled data"
   ]
  },
  {
   "cell_type": "code",
   "execution_count": 236,
   "metadata": {
    "collapsed": true
   },
   "outputs": [],
   "source": [
    "del df_new['label']"
   ]
  },
  {
   "cell_type": "code",
   "execution_count": 237,
   "metadata": {
    "collapsed": false
   },
   "outputs": [
    {
     "data": {
      "text/html": [
       "<div>\n",
       "<table border=\"1\" class=\"dataframe\">\n",
       "  <thead>\n",
       "    <tr style=\"text-align: right;\">\n",
       "      <th></th>\n",
       "      <th>Unnamed: 0</th>\n",
       "      <th>title</th>\n",
       "      <th>text</th>\n",
       "    </tr>\n",
       "  </thead>\n",
       "  <tbody>\n",
       "    <tr>\n",
       "      <th>0</th>\n",
       "      <td>8476</td>\n",
       "      <td>You Can Smell Hillary’s Fear</td>\n",
       "      <td>Daniel Greenfield, a Shillman Journalism Fello...</td>\n",
       "    </tr>\n",
       "    <tr>\n",
       "      <th>1</th>\n",
       "      <td>10294</td>\n",
       "      <td>Watch The Exact Moment Paul Ryan Committed Pol...</td>\n",
       "      <td>Google Pinterest Digg Linkedin Reddit Stumbleu...</td>\n",
       "    </tr>\n",
       "    <tr>\n",
       "      <th>2</th>\n",
       "      <td>3608</td>\n",
       "      <td>Kerry to go to Paris in gesture of sympathy</td>\n",
       "      <td>U.S. Secretary of State John F. Kerry said Mon...</td>\n",
       "    </tr>\n",
       "    <tr>\n",
       "      <th>3</th>\n",
       "      <td>10142</td>\n",
       "      <td>Bernie supporters on Twitter erupt in anger ag...</td>\n",
       "      <td>— Kaydee King (@KaydeeKing) November 9, 2016 T...</td>\n",
       "    </tr>\n",
       "    <tr>\n",
       "      <th>4</th>\n",
       "      <td>875</td>\n",
       "      <td>The Battle of New York: Why This Primary Matters</td>\n",
       "      <td>It's primary day in New York and front-runners...</td>\n",
       "    </tr>\n",
       "  </tbody>\n",
       "</table>\n",
       "</div>"
      ],
      "text/plain": [
       "   Unnamed: 0                                              title  \\\n",
       "0        8476                       You Can Smell Hillary’s Fear   \n",
       "1       10294  Watch The Exact Moment Paul Ryan Committed Pol...   \n",
       "2        3608        Kerry to go to Paris in gesture of sympathy   \n",
       "3       10142  Bernie supporters on Twitter erupt in anger ag...   \n",
       "4         875   The Battle of New York: Why This Primary Matters   \n",
       "\n",
       "                                                text  \n",
       "0  Daniel Greenfield, a Shillman Journalism Fello...  \n",
       "1  Google Pinterest Digg Linkedin Reddit Stumbleu...  \n",
       "2  U.S. Secretary of State John F. Kerry said Mon...  \n",
       "3  — Kaydee King (@KaydeeKing) November 9, 2016 T...  \n",
       "4  It's primary day in New York and front-runners...  "
      ]
     },
     "execution_count": 237,
     "metadata": {},
     "output_type": "execute_result"
    }
   ],
   "source": [
    "df_new.head(5)"
   ]
  },
  {
   "cell_type": "code",
   "execution_count": 238,
   "metadata": {
    "collapsed": false
   },
   "outputs": [
    {
     "name": "stdout",
     "output_type": "stream",
     "text": [
      "Read 6335 unlabeled news text\n"
     ]
    }
   ],
   "source": [
    "print (\"Read %d unlabeled news text\" % (df_new[\"text\"].size ))"
   ]
  },
  {
   "cell_type": "markdown",
   "metadata": {},
   "source": [
    "First, to train Word2Vec it is better not to remove stop words because the algorithm relies on the broader context of the sentence in order to produce high-quality word vectors. For this reason, we will make stop word removal optional in the functions below."
   ]
  },
  {
   "cell_type": "code",
   "execution_count": 239,
   "metadata": {
    "collapsed": true
   },
   "outputs": [],
   "source": [
    "from bs4 import BeautifulSoup\n",
    "import re\n",
    "from nltk.corpus import stopwords\n",
    "\n",
    "def news_to_wordlist( news_text, remove_stopwords=False ):\n",
    "    # Function to convert a document to a sequence of words,\n",
    "    # optionally removing stop words.  Returns a list of words.\n",
    "    \n",
    "    # 1. Remove HTML\n",
    "    news_text = BeautifulSoup(news_text).get_text()\n",
    "     \n",
    "    # 2. Remove non-letters\n",
    "    news_text = re.sub(\"[^a-zA-Z]\",\" \",  news_text)\n",
    "    \n",
    "    # 3. Convert words to lower case and split them\n",
    "    words =  news_text.lower().split()\n",
    "    \n",
    "    # 4. Optionally remove stop words (false by default)\n",
    "    if remove_stopwords:\n",
    "        stops = set(stopwords.words(\"english\"))\n",
    "        words = [w for w in words if not w in stops]\n",
    "    \n",
    "    # 5. Return a list of words\n",
    "    return(words)"
   ]
  },
  {
   "cell_type": "markdown",
   "metadata": {},
   "source": [
    "#### Word2Vec expects single sentences, each one as a list of words. In other words, the input format is a list of lists.\n",
    "\n",
    "It is not at all straightforward how to split a paragraph into sentences. English sentences can end with \"?\", \"!\", \"\"\", or \".\", among other things, and spacing and capitalization are not reliable guides either. For this reason, we'll use NLTK's punkt tokenizer for sentence splitting."
   ]
  },
  {
   "cell_type": "code",
   "execution_count": 240,
   "metadata": {
    "collapsed": true
   },
   "outputs": [],
   "source": [
    "tokenizer = nltk.data.load('tokenizers/punkt/english.pickle')"
   ]
  },
  {
   "cell_type": "code",
   "execution_count": 241,
   "metadata": {
    "collapsed": true
   },
   "outputs": [],
   "source": [
    "def news_to_sentences( news_text, tokenizer, remove_stopwords=False ):\n",
    "    # Function to split a news text into parsed sentences. Returns a \n",
    "    # list of sentences, where each sentence is a list of words\n",
    "    \n",
    "    # 1. Use the NLTK tokenizer to split the paragraph into sentences\n",
    "    raw_sentences = tokenizer.tokenize(news_text.strip())\n",
    "    \n",
    "    # 2. Loop over each sentence\n",
    "    sentences = []\n",
    "    for raw_sentence in raw_sentences:\n",
    "        # If a sentence is empty, skip it\n",
    "        if len(raw_sentence) > 0:\n",
    "            # Otherwise, call news_to_wordlist to get a list of words\n",
    "            sentences.append( news_to_wordlist( raw_sentence, remove_stopwords ))\n",
    "    \n",
    "    # Return the list of sentences (each sentence is a list of words,\n",
    "    # so this returns a list of lists\n",
    "    return sentences"
   ]
  },
  {
   "cell_type": "markdown",
   "metadata": {},
   "source": [
    "#### Applying the above function to prepare data for Word2vec"
   ]
  },
  {
   "cell_type": "code",
   "execution_count": 242,
   "metadata": {
    "collapsed": false
   },
   "outputs": [
    {
     "name": "stdout",
     "output_type": "stream",
     "text": [
      "Parsing sentences from news data set\n"
     ]
    },
    {
     "name": "stderr",
     "output_type": "stream",
     "text": [
      "C:\\Users\\Prajakta\\Anaconda3\\lib\\site-packages\\bs4\\__init__.py:166: UserWarning: No parser was explicitly specified, so I'm using the best available HTML parser for this system (\"lxml\"). This usually isn't a problem, but if you run this code on another system, or in a different virtual environment, it may use a different parser and behave differently.\n",
      "\n",
      "To get rid of this warning, change this:\n",
      "\n",
      " BeautifulSoup([your markup])\n",
      "\n",
      "to this:\n",
      "\n",
      " BeautifulSoup([your markup], \"lxml\")\n",
      "\n",
      "  markup_type=markup_type))\n",
      "C:\\Users\\Prajakta\\Anaconda3\\lib\\site-packages\\bs4\\__init__.py:198: UserWarning: \"b'.'\" looks like a filename, not markup. You should probably open this file and pass the filehandle into Beautiful Soup.\n",
      "  '\"%s\" looks like a filename, not markup. You should probably open this file and pass the filehandle into Beautiful Soup.' % markup)\n",
      "C:\\Users\\Prajakta\\Anaconda3\\lib\\site-packages\\bs4\\__init__.py:198: UserWarning: \"b'...'\" looks like a filename, not markup. You should probably open this file and pass the filehandle into Beautiful Soup.\n",
      "  '\"%s\" looks like a filename, not markup. You should probably open this file and pass the filehandle into Beautiful Soup.' % markup)\n",
      "C:\\Users\\Prajakta\\Anaconda3\\lib\\site-packages\\bs4\\__init__.py:207: UserWarning: \"b'https://t.co/rGADYMG5Op'\" looks like a URL. Beautiful Soup is not an HTTP client. You should probably use an HTTP client to get the document behind the URL, and feed that document to Beautiful Soup.\n",
      "  '\"%s\" looks like a URL. Beautiful Soup is not an HTTP client. You should probably use an HTTP client to get the document behind the URL, and feed that document to Beautiful Soup.' % markup)\n",
      "C:\\Users\\Prajakta\\Anaconda3\\lib\\site-packages\\bs4\\__init__.py:207: UserWarning: \"b'https://t.co/fay4GNLAzy'\" looks like a URL. Beautiful Soup is not an HTTP client. You should probably use an HTTP client to get the document behind the URL, and feed that document to Beautiful Soup.\n",
      "  '\"%s\" looks like a URL. Beautiful Soup is not an HTTP client. You should probably use an HTTP client to get the document behind the URL, and feed that document to Beautiful Soup.' % markup)\n",
      "C:\\Users\\Prajakta\\Anaconda3\\lib\\site-packages\\bs4\\__init__.py:207: UserWarning: \"b'http://www.oftwominds.com/blog.html'\" looks like a URL. Beautiful Soup is not an HTTP client. You should probably use an HTTP client to get the document behind the URL, and feed that document to Beautiful Soup.\n",
      "  '\"%s\" looks like a URL. Beautiful Soup is not an HTTP client. You should probably use an HTTP client to get the document behind the URL, and feed that document to Beautiful Soup.' % markup)\n",
      "C:\\Users\\Prajakta\\Anaconda3\\lib\\site-packages\\bs4\\__init__.py:198: UserWarning: \"b'..'\" looks like a filename, not markup. You should probably open this file and pass the filehandle into Beautiful Soup.\n",
      "  '\"%s\" looks like a filename, not markup. You should probably open this file and pass the filehandle into Beautiful Soup.' % markup)\n",
      "C:\\Users\\Prajakta\\Anaconda3\\lib\\site-packages\\bs4\\__init__.py:207: UserWarning: \"b'http://www.correntewire.com'\" looks like a URL. Beautiful Soup is not an HTTP client. You should probably use an HTTP client to get the document behind the URL, and feed that document to Beautiful Soup.\n",
      "  '\"%s\" looks like a URL. Beautiful Soup is not an HTTP client. You should probably use an HTTP client to get the document behind the URL, and feed that document to Beautiful Soup.' % markup)\n",
      "C:\\Users\\Prajakta\\Anaconda3\\lib\\site-packages\\bs4\\__init__.py:207: UserWarning: \"b'https://t.co/Wni9LmSPpR'\" looks like a URL. Beautiful Soup is not an HTTP client. You should probably use an HTTP client to get the document behind the URL, and feed that document to Beautiful Soup.\n",
      "  '\"%s\" looks like a URL. Beautiful Soup is not an HTTP client. You should probably use an HTTP client to get the document behind the URL, and feed that document to Beautiful Soup.' % markup)\n",
      "C:\\Users\\Prajakta\\Anaconda3\\lib\\site-packages\\bs4\\__init__.py:207: UserWarning: \"b'https://t.co/sSec2Z3isp'\" looks like a URL. Beautiful Soup is not an HTTP client. You should probably use an HTTP client to get the document behind the URL, and feed that document to Beautiful Soup.\n",
      "  '\"%s\" looks like a URL. Beautiful Soup is not an HTTP client. You should probably use an HTTP client to get the document behind the URL, and feed that document to Beautiful Soup.' % markup)\n",
      "C:\\Users\\Prajakta\\Anaconda3\\lib\\site-packages\\bs4\\__init__.py:207: UserWarning: \"b'https://t.co/n9kIJKSUEW'\" looks like a URL. Beautiful Soup is not an HTTP client. You should probably use an HTTP client to get the document behind the URL, and feed that document to Beautiful Soup.\n",
      "  '\"%s\" looks like a URL. Beautiful Soup is not an HTTP client. You should probably use an HTTP client to get the document behind the URL, and feed that document to Beautiful Soup.' % markup)\n",
      "C:\\Users\\Prajakta\\Anaconda3\\lib\\site-packages\\bs4\\__init__.py:207: UserWarning: \"b'http://t.co/KwxkrpPRaH'\" looks like a URL. Beautiful Soup is not an HTTP client. You should probably use an HTTP client to get the document behind the URL, and feed that document to Beautiful Soup.\n",
      "  '\"%s\" looks like a URL. Beautiful Soup is not an HTTP client. You should probably use an HTTP client to get the document behind the URL, and feed that document to Beautiful Soup.' % markup)\n",
      "C:\\Users\\Prajakta\\Anaconda3\\lib\\site-packages\\bs4\\__init__.py:207: UserWarning: \"b'https://t.co/uFnbTTqOLk'\" looks like a URL. Beautiful Soup is not an HTTP client. You should probably use an HTTP client to get the document behind the URL, and feed that document to Beautiful Soup.\n",
      "  '\"%s\" looks like a URL. Beautiful Soup is not an HTTP client. You should probably use an HTTP client to get the document behind the URL, and feed that document to Beautiful Soup.' % markup)\n"
     ]
    }
   ],
   "source": [
    "sentences = []  # Initialize an empty list of sentences\n",
    "\n",
    "print (\"Parsing sentences from news data set\")\n",
    "for news_text in df[\"text\"]:\n",
    "    sentences += news_to_sentences(news_text, tokenizer)"
   ]
  },
  {
   "cell_type": "code",
   "execution_count": 243,
   "metadata": {
    "collapsed": false
   },
   "outputs": [
    {
     "name": "stdout",
     "output_type": "stream",
     "text": [
      "217376\n"
     ]
    }
   ],
   "source": [
    "print(len(sentences))"
   ]
  },
  {
   "cell_type": "code",
   "execution_count": 244,
   "metadata": {
    "collapsed": false
   },
   "outputs": [
    {
     "name": "stdout",
     "output_type": "stream",
     "text": [
      "['daniel', 'greenfield', 'a', 'shillman', 'journalism', 'fellow', 'at', 'the', 'freedom', 'center', 'is', 'a', 'new', 'york', 'writer', 'focusing', 'on', 'radical', 'islam']\n"
     ]
    }
   ],
   "source": [
    "print(sentences[0])"
   ]
  },
  {
   "cell_type": "code",
   "execution_count": 245,
   "metadata": {
    "collapsed": true
   },
   "outputs": [],
   "source": [
    "import logging\n",
    "logging.basicConfig(format='%(asctime)s : %(levelname)s : %(message)s',\\\n",
    "    level=logging.INFO)"
   ]
  },
  {
   "cell_type": "markdown",
   "metadata": {},
   "source": [
    "#### Training the model\n",
    "\n",
    "Source: https://radimrehurek.com/gensim/models/word2vec.html\n",
    "The number of parameters chosen can be changed and experimented using other values as well. For now, I have taken them as shown below and ran the model. "
   ]
  },
  {
   "cell_type": "code",
   "execution_count": 246,
   "metadata": {
    "collapsed": false
   },
   "outputs": [
    {
     "name": "stdout",
     "output_type": "stream",
     "text": [
      "Training model...\n"
     ]
    }
   ],
   "source": [
    "num_features = 100    # Word vector dimensionality                    \n",
    "min_word_count = 5   # Minimum word count                        \n",
    "num_workers = 4       # Number of threads to run in parallel\n",
    "context = 10          # Context window size                                                                                    \n",
    "downsampling = 1e-3   # Downsample setting for frequent words\n",
    "\n",
    "from gensim.models import word2vec\n",
    "print(\"Training model...\")\n",
    "model = word2vec.Word2Vec(sentences, workers=num_workers, \n",
    "            size=num_features, min_count = min_word_count,\n",
    "            window = context, sample = downsampling)\n",
    "\n"
   ]
  },
  {
   "cell_type": "markdown",
   "metadata": {},
   "source": [
    "#### Now that our model is trained, we make use of vector operations to combine the words in each news text. One method is to try to simply average the word vectors in a given news text. Following code averages feature vectors. "
   ]
  },
  {
   "cell_type": "code",
   "execution_count": 247,
   "metadata": {
    "collapsed": true
   },
   "outputs": [],
   "source": [
    "import numpy as np \n",
    "def makeFeatureVec(words, model, num_features):\n",
    "    # Function to average all of the word vectors in a given paragraph\n",
    "    \n",
    "    # Pre-initialize an empty numpy array (for speed)\n",
    "    featureVec = np.zeros((num_features,),dtype=\"float32\")\n",
    "\n",
    "    nwords = 0.\n",
    "    \n",
    "    # Index2word is a list that contains the names of the words in \n",
    "    # the model's vocabulary. Convert it to a set, for speed \n",
    "    index2word_set = set(model.wv.index2word)\n",
    "    \n",
    "    # Loop over each word in the news texts and, if it is in the model's vocaublary, add its feature vector to the total\n",
    "    for word in words:\n",
    "        if word in index2word_set: \n",
    "            nwords = nwords + 1.\n",
    "            featureVec = np.add(featureVec,model[word])\n",
    "    \n",
    "    # Divide the result by the number of words to get the average\n",
    "    featureVec = np.divide(featureVec,nwords)\n",
    "    return featureVec"
   ]
  },
  {
   "cell_type": "code",
   "execution_count": 248,
   "metadata": {
    "collapsed": true
   },
   "outputs": [],
   "source": [
    "def getAvgFeatureVecs(news_texts, model, num_features):\n",
    "    # Given a set of news texts(each one a list of words), calculate \n",
    "    # the average feature vector for each one and return a 2D numpy array \n",
    "    \n",
    "    # Initialize a counter\n",
    "    counter = 0.\n",
    "    \n",
    "    # Preallocate a 2D numpy array, for speed\n",
    "    NewsFeatureVecs = np.zeros((len(news_texts),num_features),dtype=\"float32\")\n",
    "    \n",
    "    # Loop through the news texts\n",
    "    for news_text in news_texts:\n",
    "        if counter%1000. == 0.:\n",
    "            print (\"News_text %d of %d\" % (counter, len(news_texts)))\n",
    "        NewsFeatureVecs[int(counter)] = makeFeatureVec(news_text, model, num_features)\n",
    "        counter = counter + 1.\n",
    "    return NewsFeatureVecs"
   ]
  },
  {
   "cell_type": "code",
   "execution_count": 249,
   "metadata": {
    "collapsed": true
   },
   "outputs": [],
   "source": [
    "clean_news_text = []"
   ]
  },
  {
   "cell_type": "code",
   "execution_count": 250,
   "metadata": {
    "collapsed": false,
    "scrolled": true
   },
   "outputs": [
    {
     "name": "stderr",
     "output_type": "stream",
     "text": [
      "C:\\Users\\Prajakta\\Anaconda3\\lib\\site-packages\\bs4\\__init__.py:166: UserWarning: No parser was explicitly specified, so I'm using the best available HTML parser for this system (\"lxml\"). This usually isn't a problem, but if you run this code on another system, or in a different virtual environment, it may use a different parser and behave differently.\n",
      "\n",
      "To get rid of this warning, change this:\n",
      "\n",
      " BeautifulSoup([your markup])\n",
      "\n",
      "to this:\n",
      "\n",
      " BeautifulSoup([your markup], \"lxml\")\n",
      "\n",
      "  markup_type=markup_type))\n"
     ]
    }
   ],
   "source": [
    "for i in range( 0, num_news_text ):\n",
    "    # Call function for each one, and add the result to the list of clean news text\n",
    "    clean_news_text.append( news_to_wordlist(df[\"text\"][i] ) )"
   ]
  },
  {
   "cell_type": "code",
   "execution_count": 251,
   "metadata": {
    "collapsed": false
   },
   "outputs": [
    {
     "data": {
      "text/plain": [
       "6335"
      ]
     },
     "execution_count": 251,
     "metadata": {},
     "output_type": "execute_result"
    }
   ],
   "source": [
    "len(clean_news_text)"
   ]
  },
  {
   "cell_type": "code",
   "execution_count": 252,
   "metadata": {
    "collapsed": false
   },
   "outputs": [
    {
     "data": {
      "text/plain": [
       "(6335,)"
      ]
     },
     "execution_count": 252,
     "metadata": {},
     "output_type": "execute_result"
    }
   ],
   "source": [
    "df['label'].shape"
   ]
  },
  {
   "cell_type": "markdown",
   "metadata": {},
   "source": [
    "#### Train-Test split using cross-validation : X contains all the text i.e. news data and y contains the label to be predicted\n",
    "#### Train Data - 66%\n",
    "#### Test Data - 34%"
   ]
  },
  {
   "cell_type": "code",
   "execution_count": 174,
   "metadata": {
    "collapsed": true
   },
   "outputs": [],
   "source": [
    "from sklearn.cross_validation import train_test_split\n",
    "X_train, X_test, y_train, y_test = train_test_split(clean_news_text, df['label'], test_size=0.33, random_state=53)"
   ]
  },
  {
   "cell_type": "markdown",
   "metadata": {},
   "source": [
    "#### Now that the model is trained on unlabeled data, we can apply it over labeled data to check if it actually gives results.\n",
    "\n",
    "Thus, we get average feature vectors for X_train and X_test using the model. "
   ]
  },
  {
   "cell_type": "code",
   "execution_count": 175,
   "metadata": {
    "collapsed": false
   },
   "outputs": [
    {
     "name": "stdout",
     "output_type": "stream",
     "text": [
      "News_text 0 of 4244\n",
      "News_text 1000 of 4244\n",
      "News_text 2000 of 4244\n",
      "News_text 3000 of 4244\n",
      "News_text 4000 of 4244\n"
     ]
    }
   ],
   "source": [
    "trainDataVecs = getAvgFeatureVecs(X_train, model, num_features )"
   ]
  },
  {
   "cell_type": "code",
   "execution_count": 176,
   "metadata": {
    "collapsed": false
   },
   "outputs": [
    {
     "name": "stdout",
     "output_type": "stream",
     "text": [
      "News_text 0 of 2091\n",
      "News_text 1000 of 2091\n",
      "News_text 2000 of 2091\n"
     ]
    }
   ],
   "source": [
    "testDataVecs = getAvgFeatureVecs(X_test, model, num_features )"
   ]
  },
  {
   "cell_type": "markdown",
   "metadata": {},
   "source": [
    "These train and test data vectors contain NaN values which can be either replaced using median, mean or other methods. For simplicity, we use median. "
   ]
  },
  {
   "cell_type": "code",
   "execution_count": 253,
   "metadata": {
    "collapsed": false
   },
   "outputs": [
    {
     "name": "stdout",
     "output_type": "stream",
     "text": [
      "[[ -1.82002056e-02  -1.82002056e-02  -1.82002056e-02 ...,  -1.82002056e-02\n",
      "   -1.82002056e-02  -1.82002056e-02]\n",
      " [  4.86127764e-01  -1.00027084e+00  -8.80418625e-03 ...,  -3.30448538e-01\n",
      "    5.47815621e-01   2.05120534e-01]\n",
      " [  1.07551277e+00   6.76691532e-02  -6.43887103e-01 ...,   4.64854449e-01\n",
      "    7.53573596e-01  -7.27285385e-01]\n",
      " ..., \n",
      " [  7.42553651e-01  -2.80313224e-01  -7.56411674e-03 ...,  -2.11087927e-01\n",
      "    5.93109906e-01  -5.66880889e-02]\n",
      " [  3.14573288e-01  -3.17868173e-01  -8.75919908e-02 ...,  -9.44647640e-02\n",
      "    3.01275730e-01   1.79786637e-01]\n",
      " [  7.17018366e-01  -3.27937454e-01  -3.52707505e-01 ...,  -8.91063188e-04\n",
      "    2.27979913e-01   2.00643107e-01]]\n"
     ]
    }
   ],
   "source": [
    "print(trainDataVecs)"
   ]
  },
  {
   "cell_type": "code",
   "execution_count": 254,
   "metadata": {
    "collapsed": true
   },
   "outputs": [],
   "source": [
    "trainDataVecs[np.isnan(trainDataVecs)] = np.median(trainDataVecs[~np.isnan(trainDataVecs)])"
   ]
  },
  {
   "cell_type": "code",
   "execution_count": 255,
   "metadata": {
    "collapsed": false
   },
   "outputs": [
    {
     "name": "stdout",
     "output_type": "stream",
     "text": [
      "[[ -1.82002056e-02  -1.82002056e-02  -1.82002056e-02 ...,  -1.82002056e-02\n",
      "   -1.82002056e-02  -1.82002056e-02]\n",
      " [  4.86127764e-01  -1.00027084e+00  -8.80418625e-03 ...,  -3.30448538e-01\n",
      "    5.47815621e-01   2.05120534e-01]\n",
      " [  1.07551277e+00   6.76691532e-02  -6.43887103e-01 ...,   4.64854449e-01\n",
      "    7.53573596e-01  -7.27285385e-01]\n",
      " ..., \n",
      " [  7.42553651e-01  -2.80313224e-01  -7.56411674e-03 ...,  -2.11087927e-01\n",
      "    5.93109906e-01  -5.66880889e-02]\n",
      " [  3.14573288e-01  -3.17868173e-01  -8.75919908e-02 ...,  -9.44647640e-02\n",
      "    3.01275730e-01   1.79786637e-01]\n",
      " [  7.17018366e-01  -3.27937454e-01  -3.52707505e-01 ...,  -8.91063188e-04\n",
      "    2.27979913e-01   2.00643107e-01]]\n"
     ]
    }
   ],
   "source": [
    "print(trainDataVecs)"
   ]
  },
  {
   "cell_type": "code",
   "execution_count": 256,
   "metadata": {
    "collapsed": false
   },
   "outputs": [
    {
     "name": "stdout",
     "output_type": "stream",
     "text": [
      "[[ 0.63023293 -0.33161122 -0.37748441 ..., -0.41339785  0.1987765\n",
      "   0.07789288]\n",
      " [ 0.53071845  0.10510877 -0.15914772 ..., -0.12847476  0.17196661\n",
      "  -0.20268564]\n",
      " [ 0.56169784 -0.57044953 -0.38548091 ..., -0.2903015   0.2906279\n",
      "   0.21123165]\n",
      " ..., \n",
      " [ 0.42608303 -0.06368953 -0.12225134 ..., -0.38583004 -0.05151556\n",
      "   0.11681455]\n",
      " [ 0.73321557 -0.71283627  0.2015903  ..., -0.34714261  0.97302938\n",
      "   0.55668175]\n",
      " [ 0.53274626 -0.85694373 -0.23410724 ..., -0.49146745  0.53223646\n",
      "   0.25593287]]\n"
     ]
    }
   ],
   "source": [
    "print(testDataVecs)"
   ]
  },
  {
   "cell_type": "code",
   "execution_count": 257,
   "metadata": {
    "collapsed": true
   },
   "outputs": [],
   "source": [
    "testDataVecs[np.isnan(testDataVecs)] = np.median(testDataVecs[~np.isnan(testDataVecs)])"
   ]
  },
  {
   "cell_type": "code",
   "execution_count": 258,
   "metadata": {
    "collapsed": false
   },
   "outputs": [],
   "source": [
    "from sklearn.svm import SVC\n",
    "svc1 = SVC()\n",
    "svc1 = svc1.fit(trainDataVecs, y_train)"
   ]
  },
  {
   "cell_type": "code",
   "execution_count": 259,
   "metadata": {
    "collapsed": false
   },
   "outputs": [],
   "source": [
    "result = svc1.predict(testDataVecs)"
   ]
  },
  {
   "cell_type": "code",
   "execution_count": 260,
   "metadata": {
    "collapsed": false
   },
   "outputs": [
    {
     "name": "stdout",
     "output_type": "stream",
     "text": [
      "Accuracy of SVC using Word2vec:   0.867\n"
     ]
    }
   ],
   "source": [
    "from sklearn.metrics import accuracy_score\n",
    "from sklearn import metrics\n",
    "score = metrics.accuracy_score(y_test, result)\n",
    "print(\"Accuracy of SVC using Word2vec:   %0.3f\" % score)"
   ]
  },
  {
   "cell_type": "code",
   "execution_count": 262,
   "metadata": {
    "collapsed": false
   },
   "outputs": [],
   "source": [
    "from sklearn.naive_bayes import GaussianNB \n",
    "clf1 = GaussianNB() \n",
    "clf1 = clf1.fit(trainDataVecs, y_train)"
   ]
  },
  {
   "cell_type": "code",
   "execution_count": 263,
   "metadata": {
    "collapsed": true
   },
   "outputs": [],
   "source": [
    "result = clf1.predict(testDataVecs)"
   ]
  },
  {
   "cell_type": "code",
   "execution_count": 264,
   "metadata": {
    "collapsed": false
   },
   "outputs": [
    {
     "name": "stdout",
     "output_type": "stream",
     "text": [
      "Accuracy of GaussianNB using Word2vec:   0.780\n"
     ]
    }
   ],
   "source": [
    "score = metrics.accuracy_score(y_test, result)\n",
    "print(\"Accuracy of GaussianNB using Word2vec:   %0.3f\" % score)"
   ]
  },
  {
   "cell_type": "markdown",
   "metadata": {},
   "source": [
    "### Observations: \n",
    "\n",
    "For an unlabeled training data model using Word2vec, the performance is really good i.e. SVC giving 86% accuracy and GaussianNB having 78% accuracy. These results are close to the above bag-pf-words approach which works with labeled data. \n",
    "This clearly shows that this approach is incredibly useful for real life data which is unlabeled and can be used in prediction tasks. "
   ]
  }
 ],
 "metadata": {
  "anaconda-cloud": {},
  "kernelspec": {
   "display_name": "Python [Root]",
   "language": "python",
   "name": "Python [Root]"
  },
  "language_info": {
   "codemirror_mode": {
    "name": "ipython",
    "version": 3
   },
   "file_extension": ".py",
   "mimetype": "text/x-python",
   "name": "python",
   "nbconvert_exporter": "python",
   "pygments_lexer": "ipython3",
   "version": "3.5.4"
  }
 },
 "nbformat": 4,
 "nbformat_minor": 0
}
