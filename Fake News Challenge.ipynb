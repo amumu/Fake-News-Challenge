{
 "cells": [
  {
   "cell_type": "markdown",
   "metadata": {},
   "source": [
    "# Predicting Fake News \n",
    "\n",
    "## Dataset: Datacamp dataset for fake news challenge \n",
    "## URL : https://s3.amazonaws.com/assets.datacamp.com/blog_assets/fake_or_real_news.csv\n",
    "\n",
    "### Goal:  \n",
    "News provide us with the necessary information that helps make important decision be it as simple as deciding which fruit to buy. In politics, news is the only way to convince public for demanding any vote as it decided the future of any country. A fake news can create confusion in public and thus affect their votes. Hence detecting fake news has been a topic since many years and data scientists are striving to build models on detecting fake news. In this notebook, I have tried my hands on the textual data of news that is already labelled as FAKE or REAL. It has been trained on 66% and tested on 34% of the data for validating the results applied on models. Multiple techniques gave varying results on above data and the techniques used is listed as follows.\n",
    "\n",
    "### Outline: \n",
    "This notebook contains various experiments with the data using machine learning and deep learning algorithms to explore the fake news data. Descriptions have been provided with them in accordance with the implementation.  \n",
    "\n",
    "### Data Processing Techniques: \n",
    "### 1. Count Vectorizer : Converts text into a matrix of token counts\n",
    "### 2. Tf-Idf Vectorizer : Converts text into a matrix of TF-IDF features.\n",
    "### 3. Hashing Vectorizer : Converts text into a scipy.sparse matrix holding token occurrence counts (or binary occurrence information), possibly normalized as token frequencies\n",
    "\n",
    "### Models: \n",
    "### 1. MultinomialNB\n",
    "### 2. Passive Aggressive Classifier\n",
    "### 3. Sequential model using Keras, CNNs"
   ]
  },
  {
   "cell_type": "code",
   "execution_count": 39,
   "metadata": {
    "collapsed": false
   },
   "outputs": [
    {
     "data": {
      "text/html": [
       "<div>\n",
       "<table border=\"1\" class=\"dataframe\">\n",
       "  <thead>\n",
       "    <tr style=\"text-align: right;\">\n",
       "      <th></th>\n",
       "      <th>Unnamed: 0</th>\n",
       "      <th>title</th>\n",
       "      <th>text</th>\n",
       "      <th>label</th>\n",
       "    </tr>\n",
       "  </thead>\n",
       "  <tbody>\n",
       "    <tr>\n",
       "      <th>0</th>\n",
       "      <td>8476</td>\n",
       "      <td>You Can Smell Hillary’s Fear</td>\n",
       "      <td>Daniel Greenfield, a Shillman Journalism Fello...</td>\n",
       "      <td>FAKE</td>\n",
       "    </tr>\n",
       "    <tr>\n",
       "      <th>1</th>\n",
       "      <td>10294</td>\n",
       "      <td>Watch The Exact Moment Paul Ryan Committed Pol...</td>\n",
       "      <td>Google Pinterest Digg Linkedin Reddit Stumbleu...</td>\n",
       "      <td>FAKE</td>\n",
       "    </tr>\n",
       "    <tr>\n",
       "      <th>2</th>\n",
       "      <td>3608</td>\n",
       "      <td>Kerry to go to Paris in gesture of sympathy</td>\n",
       "      <td>U.S. Secretary of State John F. Kerry said Mon...</td>\n",
       "      <td>REAL</td>\n",
       "    </tr>\n",
       "    <tr>\n",
       "      <th>3</th>\n",
       "      <td>10142</td>\n",
       "      <td>Bernie supporters on Twitter erupt in anger ag...</td>\n",
       "      <td>— Kaydee King (@KaydeeKing) November 9, 2016 T...</td>\n",
       "      <td>FAKE</td>\n",
       "    </tr>\n",
       "    <tr>\n",
       "      <th>4</th>\n",
       "      <td>875</td>\n",
       "      <td>The Battle of New York: Why This Primary Matters</td>\n",
       "      <td>It's primary day in New York and front-runners...</td>\n",
       "      <td>REAL</td>\n",
       "    </tr>\n",
       "  </tbody>\n",
       "</table>\n",
       "</div>"
      ],
      "text/plain": [
       "   Unnamed: 0                                              title  \\\n",
       "0        8476                       You Can Smell Hillary’s Fear   \n",
       "1       10294  Watch The Exact Moment Paul Ryan Committed Pol...   \n",
       "2        3608        Kerry to go to Paris in gesture of sympathy   \n",
       "3       10142  Bernie supporters on Twitter erupt in anger ag...   \n",
       "4         875   The Battle of New York: Why This Primary Matters   \n",
       "\n",
       "                                                text label  \n",
       "0  Daniel Greenfield, a Shillman Journalism Fello...  FAKE  \n",
       "1  Google Pinterest Digg Linkedin Reddit Stumbleu...  FAKE  \n",
       "2  U.S. Secretary of State John F. Kerry said Mon...  REAL  \n",
       "3  — Kaydee King (@KaydeeKing) November 9, 2016 T...  FAKE  \n",
       "4  It's primary day in New York and front-runners...  REAL  "
      ]
     },
     "execution_count": 39,
     "metadata": {},
     "output_type": "execute_result"
    }
   ],
   "source": [
    "import pandas as pd\n",
    "import numpy as np\n",
    "df = pd.read_csv(\"C:\\\\Users\\\\Prajakta\\\\fake_or_real_news.csv\")\n",
    "df.head(5)"
   ]
  },
  {
   "cell_type": "code",
   "execution_count": 40,
   "metadata": {
    "collapsed": false
   },
   "outputs": [
    {
     "data": {
      "text/html": [
       "<div>\n",
       "<table border=\"1\" class=\"dataframe\">\n",
       "  <thead>\n",
       "    <tr style=\"text-align: right;\">\n",
       "      <th></th>\n",
       "      <th>Unnamed: 0</th>\n",
       "      <th>title</th>\n",
       "      <th>text</th>\n",
       "      <th>label</th>\n",
       "    </tr>\n",
       "  </thead>\n",
       "  <tbody>\n",
       "    <tr>\n",
       "      <th>0</th>\n",
       "      <td>8476</td>\n",
       "      <td>You Can Smell Hillary’s Fear</td>\n",
       "      <td>Daniel Greenfield, a Shillman Journalism Fello...</td>\n",
       "      <td>FAKE</td>\n",
       "    </tr>\n",
       "    <tr>\n",
       "      <th>1</th>\n",
       "      <td>10294</td>\n",
       "      <td>Watch The Exact Moment Paul Ryan Committed Pol...</td>\n",
       "      <td>Google Pinterest Digg Linkedin Reddit Stumbleu...</td>\n",
       "      <td>FAKE</td>\n",
       "    </tr>\n",
       "    <tr>\n",
       "      <th>2</th>\n",
       "      <td>3608</td>\n",
       "      <td>Kerry to go to Paris in gesture of sympathy</td>\n",
       "      <td>U.S. Secretary of State John F. Kerry said Mon...</td>\n",
       "      <td>REAL</td>\n",
       "    </tr>\n",
       "    <tr>\n",
       "      <th>3</th>\n",
       "      <td>10142</td>\n",
       "      <td>Bernie supporters on Twitter erupt in anger ag...</td>\n",
       "      <td>— Kaydee King (@KaydeeKing) November 9, 2016 T...</td>\n",
       "      <td>FAKE</td>\n",
       "    </tr>\n",
       "    <tr>\n",
       "      <th>4</th>\n",
       "      <td>875</td>\n",
       "      <td>The Battle of New York: Why This Primary Matters</td>\n",
       "      <td>It's primary day in New York and front-runners...</td>\n",
       "      <td>REAL</td>\n",
       "    </tr>\n",
       "  </tbody>\n",
       "</table>\n",
       "</div>"
      ],
      "text/plain": [
       "   Unnamed: 0                                              title  \\\n",
       "0        8476                       You Can Smell Hillary’s Fear   \n",
       "1       10294  Watch The Exact Moment Paul Ryan Committed Pol...   \n",
       "2        3608        Kerry to go to Paris in gesture of sympathy   \n",
       "3       10142  Bernie supporters on Twitter erupt in anger ag...   \n",
       "4         875   The Battle of New York: Why This Primary Matters   \n",
       "\n",
       "                                                text label  \n",
       "0  Daniel Greenfield, a Shillman Journalism Fello...  FAKE  \n",
       "1  Google Pinterest Digg Linkedin Reddit Stumbleu...  FAKE  \n",
       "2  U.S. Secretary of State John F. Kerry said Mon...  REAL  \n",
       "3  — Kaydee King (@KaydeeKing) November 9, 2016 T...  FAKE  \n",
       "4  It's primary day in New York and front-runners...  REAL  "
      ]
     },
     "execution_count": 40,
     "metadata": {},
     "output_type": "execute_result"
    }
   ],
   "source": [
    "df_news = df\n",
    "df_news.head(5)"
   ]
  },
  {
   "cell_type": "code",
   "execution_count": 41,
   "metadata": {
    "collapsed": true
   },
   "outputs": [],
   "source": [
    "df_news = df_news.set_index(\"Unnamed: 0\") "
   ]
  },
  {
   "cell_type": "code",
   "execution_count": 42,
   "metadata": {
    "collapsed": false
   },
   "outputs": [
    {
     "data": {
      "text/html": [
       "<div>\n",
       "<table border=\"1\" class=\"dataframe\">\n",
       "  <thead>\n",
       "    <tr style=\"text-align: right;\">\n",
       "      <th></th>\n",
       "      <th>title</th>\n",
       "      <th>text</th>\n",
       "      <th>label</th>\n",
       "    </tr>\n",
       "    <tr>\n",
       "      <th>Unnamed: 0</th>\n",
       "      <th></th>\n",
       "      <th></th>\n",
       "      <th></th>\n",
       "    </tr>\n",
       "  </thead>\n",
       "  <tbody>\n",
       "    <tr>\n",
       "      <th>8476</th>\n",
       "      <td>You Can Smell Hillary’s Fear</td>\n",
       "      <td>Daniel Greenfield, a Shillman Journalism Fello...</td>\n",
       "      <td>FAKE</td>\n",
       "    </tr>\n",
       "    <tr>\n",
       "      <th>10294</th>\n",
       "      <td>Watch The Exact Moment Paul Ryan Committed Pol...</td>\n",
       "      <td>Google Pinterest Digg Linkedin Reddit Stumbleu...</td>\n",
       "      <td>FAKE</td>\n",
       "    </tr>\n",
       "    <tr>\n",
       "      <th>3608</th>\n",
       "      <td>Kerry to go to Paris in gesture of sympathy</td>\n",
       "      <td>U.S. Secretary of State John F. Kerry said Mon...</td>\n",
       "      <td>REAL</td>\n",
       "    </tr>\n",
       "    <tr>\n",
       "      <th>10142</th>\n",
       "      <td>Bernie supporters on Twitter erupt in anger ag...</td>\n",
       "      <td>— Kaydee King (@KaydeeKing) November 9, 2016 T...</td>\n",
       "      <td>FAKE</td>\n",
       "    </tr>\n",
       "    <tr>\n",
       "      <th>875</th>\n",
       "      <td>The Battle of New York: Why This Primary Matters</td>\n",
       "      <td>It's primary day in New York and front-runners...</td>\n",
       "      <td>REAL</td>\n",
       "    </tr>\n",
       "  </tbody>\n",
       "</table>\n",
       "</div>"
      ],
      "text/plain": [
       "                                                        title  \\\n",
       "Unnamed: 0                                                      \n",
       "8476                             You Can Smell Hillary’s Fear   \n",
       "10294       Watch The Exact Moment Paul Ryan Committed Pol...   \n",
       "3608              Kerry to go to Paris in gesture of sympathy   \n",
       "10142       Bernie supporters on Twitter erupt in anger ag...   \n",
       "875          The Battle of New York: Why This Primary Matters   \n",
       "\n",
       "                                                         text label  \n",
       "Unnamed: 0                                                           \n",
       "8476        Daniel Greenfield, a Shillman Journalism Fello...  FAKE  \n",
       "10294       Google Pinterest Digg Linkedin Reddit Stumbleu...  FAKE  \n",
       "3608        U.S. Secretary of State John F. Kerry said Mon...  REAL  \n",
       "10142       — Kaydee King (@KaydeeKing) November 9, 2016 T...  FAKE  \n",
       "875         It's primary day in New York and front-runners...  REAL  "
      ]
     },
     "execution_count": 42,
     "metadata": {},
     "output_type": "execute_result"
    }
   ],
   "source": [
    "df_news.head(5)"
   ]
  },
  {
   "cell_type": "markdown",
   "metadata": {},
   "source": [
    "#### Set target label to y"
   ]
  },
  {
   "cell_type": "code",
   "execution_count": 43,
   "metadata": {
    "collapsed": true
   },
   "outputs": [],
   "source": [
    "y = df_news.label"
   ]
  },
  {
   "cell_type": "code",
   "execution_count": 44,
   "metadata": {
    "collapsed": false
   },
   "outputs": [
    {
     "data": {
      "text/html": [
       "<div>\n",
       "<table border=\"1\" class=\"dataframe\">\n",
       "  <thead>\n",
       "    <tr style=\"text-align: right;\">\n",
       "      <th></th>\n",
       "      <th>title</th>\n",
       "      <th>text</th>\n",
       "    </tr>\n",
       "    <tr>\n",
       "      <th>Unnamed: 0</th>\n",
       "      <th></th>\n",
       "      <th></th>\n",
       "    </tr>\n",
       "  </thead>\n",
       "  <tbody>\n",
       "    <tr>\n",
       "      <th>8476</th>\n",
       "      <td>You Can Smell Hillary’s Fear</td>\n",
       "      <td>Daniel Greenfield, a Shillman Journalism Fello...</td>\n",
       "    </tr>\n",
       "    <tr>\n",
       "      <th>10294</th>\n",
       "      <td>Watch The Exact Moment Paul Ryan Committed Pol...</td>\n",
       "      <td>Google Pinterest Digg Linkedin Reddit Stumbleu...</td>\n",
       "    </tr>\n",
       "    <tr>\n",
       "      <th>3608</th>\n",
       "      <td>Kerry to go to Paris in gesture of sympathy</td>\n",
       "      <td>U.S. Secretary of State John F. Kerry said Mon...</td>\n",
       "    </tr>\n",
       "    <tr>\n",
       "      <th>10142</th>\n",
       "      <td>Bernie supporters on Twitter erupt in anger ag...</td>\n",
       "      <td>— Kaydee King (@KaydeeKing) November 9, 2016 T...</td>\n",
       "    </tr>\n",
       "    <tr>\n",
       "      <th>875</th>\n",
       "      <td>The Battle of New York: Why This Primary Matters</td>\n",
       "      <td>It's primary day in New York and front-runners...</td>\n",
       "    </tr>\n",
       "    <tr>\n",
       "      <th>6903</th>\n",
       "      <td>Tehran, USA</td>\n",
       "      <td>\\nI’m not an immigrant, but my grandparents ...</td>\n",
       "    </tr>\n",
       "    <tr>\n",
       "      <th>7341</th>\n",
       "      <td>Girl Horrified At What She Watches Boyfriend D...</td>\n",
       "      <td>Share This Baylee Luciani (left), Screenshot o...</td>\n",
       "    </tr>\n",
       "    <tr>\n",
       "      <th>95</th>\n",
       "      <td>‘Britain’s Schindler’ Dies at 106</td>\n",
       "      <td>A Czech stockbroker who saved more than 650 Je...</td>\n",
       "    </tr>\n",
       "    <tr>\n",
       "      <th>4869</th>\n",
       "      <td>Fact check: Trump and Clinton at the 'commande...</td>\n",
       "      <td>Hillary Clinton and Donald Trump made some ina...</td>\n",
       "    </tr>\n",
       "    <tr>\n",
       "      <th>2909</th>\n",
       "      <td>Iran reportedly makes new push for uranium con...</td>\n",
       "      <td>Iranian negotiators reportedly have made a las...</td>\n",
       "    </tr>\n",
       "    <tr>\n",
       "      <th>1357</th>\n",
       "      <td>With all three Clintons in Iowa, a glimpse at ...</td>\n",
       "      <td>CEDAR RAPIDS, Iowa — “I had one of the most wo...</td>\n",
       "    </tr>\n",
       "    <tr>\n",
       "      <th>988</th>\n",
       "      <td>Donald Trump’s Shockingly Weak Delegate Game S...</td>\n",
       "      <td>Donald Trump’s organizational problems have go...</td>\n",
       "    </tr>\n",
       "    <tr>\n",
       "      <th>7041</th>\n",
       "      <td>Strong Solar Storm, Tech Risks Today | S0 News...</td>\n",
       "      <td>Click Here To Learn More About Alexandra's Per...</td>\n",
       "    </tr>\n",
       "    <tr>\n",
       "      <th>7623</th>\n",
       "      <td>10 Ways America Is Preparing for World War 3</td>\n",
       "      <td>October 31, 2016 at 4:52 am \\nPretty factual e...</td>\n",
       "    </tr>\n",
       "    <tr>\n",
       "      <th>1571</th>\n",
       "      <td>Trump takes on Cruz, but lightly</td>\n",
       "      <td>Killing Obama administration rules, dismantlin...</td>\n",
       "    </tr>\n",
       "    <tr>\n",
       "      <th>4739</th>\n",
       "      <td>How women lead differently</td>\n",
       "      <td>As more women move into high offices, they oft...</td>\n",
       "    </tr>\n",
       "    <tr>\n",
       "      <th>7737</th>\n",
       "      <td>Shocking! Michele Obama &amp; Hillary Caught Glamo...</td>\n",
       "      <td>Shocking! Michele Obama &amp; Hillary Caught Glamo...</td>\n",
       "    </tr>\n",
       "    <tr>\n",
       "      <th>8716</th>\n",
       "      <td>Hillary Clinton in HUGE Trouble After America ...</td>\n",
       "      <td>0 \\nHillary Clinton has barely just lost the p...</td>\n",
       "    </tr>\n",
       "    <tr>\n",
       "      <th>3304</th>\n",
       "      <td>What's in that Iran bill that Obama doesn't like?</td>\n",
       "      <td>Washington (CNN) For months, the White House a...</td>\n",
       "    </tr>\n",
       "    <tr>\n",
       "      <th>3078</th>\n",
       "      <td>The 1 chart that explains everything you need ...</td>\n",
       "      <td>While paging through Pew's best data visualiza...</td>\n",
       "    </tr>\n",
       "    <tr>\n",
       "      <th>2517</th>\n",
       "      <td>The slippery slope to Trump’s proposed ban on ...</td>\n",
       "      <td>With little fanfare this fall, the New York de...</td>\n",
       "    </tr>\n",
       "    <tr>\n",
       "      <th>10348</th>\n",
       "      <td>Episode #160 – SUNDAY WIRE: ‘Hail to the Deplo...</td>\n",
       "      <td>November 13, 2016 By 21wire Leave a Comment \\n...</td>\n",
       "    </tr>\n",
       "    <tr>\n",
       "      <th>778</th>\n",
       "      <td>Hillary Clinton Makes A Bipartisan Appeal on S...</td>\n",
       "      <td>Hillary Clinton told a Staten Island crowd tod...</td>\n",
       "    </tr>\n",
       "    <tr>\n",
       "      <th>3300</th>\n",
       "      <td>New Senate majority leader’s main goal for GOP...</td>\n",
       "      <td>Mitch McConnell has an unusual admonition for ...</td>\n",
       "    </tr>\n",
       "    <tr>\n",
       "      <th>6155</th>\n",
       "      <td>‘Inferno’ and the Overpopulation Myth</td>\n",
       "      <td>Mises.org November 1, 2016 Inferno is a great ...</td>\n",
       "    </tr>\n",
       "    <tr>\n",
       "      <th>636</th>\n",
       "      <td>Anti-Trump forces seek last-ditch delegate revolt</td>\n",
       "      <td>Washington (CNN) The faction of the GOP that i...</td>\n",
       "    </tr>\n",
       "    <tr>\n",
       "      <th>755</th>\n",
       "      <td>Sanders Trounces Clinton in W. Va. -- But Will...</td>\n",
       "      <td>Meanwhile, Democrat Bernie Sanders picked up m...</td>\n",
       "    </tr>\n",
       "    <tr>\n",
       "      <th>626</th>\n",
       "      <td>Donald Trump Is Changing His Campaign Slogan t...</td>\n",
       "      <td>After a week of nonstop criticism from Democra...</td>\n",
       "    </tr>\n",
       "    <tr>\n",
       "      <th>691</th>\n",
       "      <td>Pure chaos: Donald Trump’s campaign management...</td>\n",
       "      <td>If you want a glimpse into a presidential cand...</td>\n",
       "    </tr>\n",
       "    <tr>\n",
       "      <th>5743</th>\n",
       "      <td>Syrian War Report – November 1, 2016: Syrian M...</td>\n",
       "      <td>Syrian War Report – October 31, 2016: Al-Nusra...</td>\n",
       "    </tr>\n",
       "    <tr>\n",
       "      <th>...</th>\n",
       "      <td>...</td>\n",
       "      <td>...</td>\n",
       "    </tr>\n",
       "    <tr>\n",
       "      <th>6457</th>\n",
       "      <td>Colin Kaepernick hosts ‘Know Your Rights’ camp...</td>\n",
       "      <td>Print \\n[Ed. – Now teaching the gospel of raci...</td>\n",
       "    </tr>\n",
       "    <tr>\n",
       "      <th>7030</th>\n",
       "      <td>Wikileaks Emails Disclose Aliens Linked to Vat...</td>\n",
       "      <td>Sound too “strange” to be true? We have proof!...</td>\n",
       "    </tr>\n",
       "    <tr>\n",
       "      <th>9013</th>\n",
       "      <td>US abstains from UN vote calling for end to Cu...</td>\n",
       "      <td>US abstains from UN vote calling for end to Cu...</td>\n",
       "    </tr>\n",
       "    <tr>\n",
       "      <th>9509</th>\n",
       "      <td>West Ham fans laud aerodynamic properties of n...</td>\n",
       "      <td>Tuesday 1 November 2016 by Formelia Alberthine...</td>\n",
       "    </tr>\n",
       "    <tr>\n",
       "      <th>3825</th>\n",
       "      <td>How the Obama White House runs foreign policy</td>\n",
       "      <td>When Susan E. Rice took over as President Obam...</td>\n",
       "    </tr>\n",
       "    <tr>\n",
       "      <th>4515</th>\n",
       "      <td>ISIS claims responsibility for Garland, Texas,...</td>\n",
       "      <td>(CNN) ISIS has claimed responsibility for the ...</td>\n",
       "    </tr>\n",
       "    <tr>\n",
       "      <th>2747</th>\n",
       "      <td>The “blame the left” crew: What the right’s ne...</td>\n",
       "      <td>It was inevitable that liberals would end up b...</td>\n",
       "    </tr>\n",
       "    <tr>\n",
       "      <th>6516</th>\n",
       "      <td>ADHD NATION: How Big Pharma Created the ADHD E...</td>\n",
       "      <td>By Kalee Brown\\nWhile I was at university, man...</td>\n",
       "    </tr>\n",
       "    <tr>\n",
       "      <th>9636</th>\n",
       "      <td>Donald Trump claims the election will be 'rigg...</td>\n",
       "      <td>Email \\nDonald Trump is again riling up his vo...</td>\n",
       "    </tr>\n",
       "    <tr>\n",
       "      <th>7398</th>\n",
       "      <td>REPORT: Dirty Reporter Blackmails Montel… Help...</td>\n",
       "      <td>BREAKING: Trump Jumps in FL, Takes 4 Point Lea...</td>\n",
       "    </tr>\n",
       "    <tr>\n",
       "      <th>3717</th>\n",
       "      <td>Police Arrest Suspect In Charleston Church Sho...</td>\n",
       "      <td>Police in Charleston, S.C., say a man they sus...</td>\n",
       "    </tr>\n",
       "    <tr>\n",
       "      <th>5205</th>\n",
       "      <td>Donald Trump’s collapse was caused by one big ...</td>\n",
       "      <td>Silver of FiveThirtyEight.com has laid out fou...</td>\n",
       "    </tr>\n",
       "    <tr>\n",
       "      <th>6696</th>\n",
       "      <td>FINA suspends Russian swimmer for 8 years over...</td>\n",
       "      <td>This post was originally published on this sit...</td>\n",
       "    </tr>\n",
       "    <tr>\n",
       "      <th>7991</th>\n",
       "      <td>BREAKING : Hillary Campaign Manager Deletes hi...</td>\n",
       "      <td>BREAKING : Hillary Campaign Manager Deletes hi...</td>\n",
       "    </tr>\n",
       "    <tr>\n",
       "      <th>1303</th>\n",
       "      <td>Why Ted Cruz Has the Most to Lose in New Hamps...</td>\n",
       "      <td>Ted Cruz took first prize in the Iowa caucuses...</td>\n",
       "    </tr>\n",
       "    <tr>\n",
       "      <th>9051</th>\n",
       "      <td>“Nothing Good Can Come of This Election”–and T...</td>\n",
       "      <td>Posted on November 4, 2016 by Charles Hugh Smi...</td>\n",
       "    </tr>\n",
       "    <tr>\n",
       "      <th>10200</th>\n",
       "      <td>List of Republicans opposing Trump | OffGuardian</td>\n",
       "      <td>Charlie Baker , Massachusetts (2015–present)[3...</td>\n",
       "    </tr>\n",
       "    <tr>\n",
       "      <th>10009</th>\n",
       "      <td>Putin: Use of 'mythical' Russian military thre...</td>\n",
       "      <td>vladimir putin , Valdai , sochi , RBTH Daily R...</td>\n",
       "    </tr>\n",
       "    <tr>\n",
       "      <th>4214</th>\n",
       "      <td>Bernie Sanders says private meeting with Pope ...</td>\n",
       "      <td>ROME —  U.S. Democratic presidential candidate...</td>\n",
       "    </tr>\n",
       "    <tr>\n",
       "      <th>2316</th>\n",
       "      <td>Alabama Lawmaker: Same-Sex Couples Don’t Deser...</td>\n",
       "      <td>Most conservatives who oppose marriage equalit...</td>\n",
       "    </tr>\n",
       "    <tr>\n",
       "      <th>8411</th>\n",
       "      <td>Will the Media Reset After the Election or Are...</td>\n",
       "      <td>Written by Peter Van Buren   venerable New Yor...</td>\n",
       "    </tr>\n",
       "    <tr>\n",
       "      <th>6143</th>\n",
       "      <td>DOJ COMPLAINT: Comey Under Fire Over Partisan ...</td>\n",
       "      <td>DOJ COMPLAINT: Comey Under Fire Over Partisan ...</td>\n",
       "    </tr>\n",
       "    <tr>\n",
       "      <th>3262</th>\n",
       "      <td>GOP Senator David Perdue Jokes About Praying f...</td>\n",
       "      <td>The freshman senator from Georgia quoted scrip...</td>\n",
       "    </tr>\n",
       "    <tr>\n",
       "      <th>9337</th>\n",
       "      <td>Radio Derb Is On The Air–Leonardo And Brazil’s...</td>\n",
       "      <td></td>\n",
       "    </tr>\n",
       "    <tr>\n",
       "      <th>8737</th>\n",
       "      <td>Assange claims ‘crazed’ Clinton campaign tried...</td>\n",
       "      <td>Julian Assange has claimed the Hillary Clinton...</td>\n",
       "    </tr>\n",
       "    <tr>\n",
       "      <th>4490</th>\n",
       "      <td>State Department says it can't find emails fro...</td>\n",
       "      <td>The State Department told the Republican Natio...</td>\n",
       "    </tr>\n",
       "    <tr>\n",
       "      <th>8062</th>\n",
       "      <td>The ‘P’ in PBS Should Stand for ‘Plutocratic’ ...</td>\n",
       "      <td>The ‘P’ in PBS Should Stand for ‘Plutocratic’ ...</td>\n",
       "    </tr>\n",
       "    <tr>\n",
       "      <th>8622</th>\n",
       "      <td>Anti-Trump Protesters Are Tools of the Oligarc...</td>\n",
       "      <td>Anti-Trump Protesters Are Tools of the Oligar...</td>\n",
       "    </tr>\n",
       "    <tr>\n",
       "      <th>4021</th>\n",
       "      <td>In Ethiopia, Obama seeks progress on peace, se...</td>\n",
       "      <td>ADDIS ABABA, Ethiopia —President Obama convene...</td>\n",
       "    </tr>\n",
       "    <tr>\n",
       "      <th>4330</th>\n",
       "      <td>Jeb Bush Is Suddenly Attacking Trump. Here's W...</td>\n",
       "      <td>Jeb Bush Is Suddenly Attacking Trump. Here's W...</td>\n",
       "    </tr>\n",
       "  </tbody>\n",
       "</table>\n",
       "<p>6335 rows × 2 columns</p>\n",
       "</div>"
      ],
      "text/plain": [
       "                                                        title  \\\n",
       "Unnamed: 0                                                      \n",
       "8476                             You Can Smell Hillary’s Fear   \n",
       "10294       Watch The Exact Moment Paul Ryan Committed Pol...   \n",
       "3608              Kerry to go to Paris in gesture of sympathy   \n",
       "10142       Bernie supporters on Twitter erupt in anger ag...   \n",
       "875          The Battle of New York: Why This Primary Matters   \n",
       "6903                                              Tehran, USA   \n",
       "7341        Girl Horrified At What She Watches Boyfriend D...   \n",
       "95                          ‘Britain’s Schindler’ Dies at 106   \n",
       "4869        Fact check: Trump and Clinton at the 'commande...   \n",
       "2909        Iran reportedly makes new push for uranium con...   \n",
       "1357        With all three Clintons in Iowa, a glimpse at ...   \n",
       "988         Donald Trump’s Shockingly Weak Delegate Game S...   \n",
       "7041        Strong Solar Storm, Tech Risks Today | S0 News...   \n",
       "7623             10 Ways America Is Preparing for World War 3   \n",
       "1571                         Trump takes on Cruz, but lightly   \n",
       "4739                               How women lead differently   \n",
       "7737        Shocking! Michele Obama & Hillary Caught Glamo...   \n",
       "8716        Hillary Clinton in HUGE Trouble After America ...   \n",
       "3304        What's in that Iran bill that Obama doesn't like?   \n",
       "3078        The 1 chart that explains everything you need ...   \n",
       "2517        The slippery slope to Trump’s proposed ban on ...   \n",
       "10348       Episode #160 – SUNDAY WIRE: ‘Hail to the Deplo...   \n",
       "778         Hillary Clinton Makes A Bipartisan Appeal on S...   \n",
       "3300        New Senate majority leader’s main goal for GOP...   \n",
       "6155                    ‘Inferno’ and the Overpopulation Myth   \n",
       "636         Anti-Trump forces seek last-ditch delegate revolt   \n",
       "755         Sanders Trounces Clinton in W. Va. -- But Will...   \n",
       "626         Donald Trump Is Changing His Campaign Slogan t...   \n",
       "691         Pure chaos: Donald Trump’s campaign management...   \n",
       "5743        Syrian War Report – November 1, 2016: Syrian M...   \n",
       "...                                                       ...   \n",
       "6457        Colin Kaepernick hosts ‘Know Your Rights’ camp...   \n",
       "7030        Wikileaks Emails Disclose Aliens Linked to Vat...   \n",
       "9013        US abstains from UN vote calling for end to Cu...   \n",
       "9509        West Ham fans laud aerodynamic properties of n...   \n",
       "3825            How the Obama White House runs foreign policy   \n",
       "4515        ISIS claims responsibility for Garland, Texas,...   \n",
       "2747        The “blame the left” crew: What the right’s ne...   \n",
       "6516        ADHD NATION: How Big Pharma Created the ADHD E...   \n",
       "9636        Donald Trump claims the election will be 'rigg...   \n",
       "7398        REPORT: Dirty Reporter Blackmails Montel… Help...   \n",
       "3717        Police Arrest Suspect In Charleston Church Sho...   \n",
       "5205        Donald Trump’s collapse was caused by one big ...   \n",
       "6696        FINA suspends Russian swimmer for 8 years over...   \n",
       "7991        BREAKING : Hillary Campaign Manager Deletes hi...   \n",
       "1303        Why Ted Cruz Has the Most to Lose in New Hamps...   \n",
       "9051        “Nothing Good Can Come of This Election”–and T...   \n",
       "10200        List of Republicans opposing Trump | OffGuardian   \n",
       "10009       Putin: Use of 'mythical' Russian military thre...   \n",
       "4214        Bernie Sanders says private meeting with Pope ...   \n",
       "2316        Alabama Lawmaker: Same-Sex Couples Don’t Deser...   \n",
       "8411        Will the Media Reset After the Election or Are...   \n",
       "6143        DOJ COMPLAINT: Comey Under Fire Over Partisan ...   \n",
       "3262        GOP Senator David Perdue Jokes About Praying f...   \n",
       "9337        Radio Derb Is On The Air–Leonardo And Brazil’s...   \n",
       "8737        Assange claims ‘crazed’ Clinton campaign tried...   \n",
       "4490        State Department says it can't find emails fro...   \n",
       "8062        The ‘P’ in PBS Should Stand for ‘Plutocratic’ ...   \n",
       "8622        Anti-Trump Protesters Are Tools of the Oligarc...   \n",
       "4021        In Ethiopia, Obama seeks progress on peace, se...   \n",
       "4330        Jeb Bush Is Suddenly Attacking Trump. Here's W...   \n",
       "\n",
       "                                                         text  \n",
       "Unnamed: 0                                                     \n",
       "8476        Daniel Greenfield, a Shillman Journalism Fello...  \n",
       "10294       Google Pinterest Digg Linkedin Reddit Stumbleu...  \n",
       "3608        U.S. Secretary of State John F. Kerry said Mon...  \n",
       "10142       — Kaydee King (@KaydeeKing) November 9, 2016 T...  \n",
       "875         It's primary day in New York and front-runners...  \n",
       "6903          \\nI’m not an immigrant, but my grandparents ...  \n",
       "7341        Share This Baylee Luciani (left), Screenshot o...  \n",
       "95          A Czech stockbroker who saved more than 650 Je...  \n",
       "4869        Hillary Clinton and Donald Trump made some ina...  \n",
       "2909        Iranian negotiators reportedly have made a las...  \n",
       "1357        CEDAR RAPIDS, Iowa — “I had one of the most wo...  \n",
       "988         Donald Trump’s organizational problems have go...  \n",
       "7041        Click Here To Learn More About Alexandra's Per...  \n",
       "7623        October 31, 2016 at 4:52 am \\nPretty factual e...  \n",
       "1571        Killing Obama administration rules, dismantlin...  \n",
       "4739        As more women move into high offices, they oft...  \n",
       "7737        Shocking! Michele Obama & Hillary Caught Glamo...  \n",
       "8716        0 \\nHillary Clinton has barely just lost the p...  \n",
       "3304        Washington (CNN) For months, the White House a...  \n",
       "3078        While paging through Pew's best data visualiza...  \n",
       "2517        With little fanfare this fall, the New York de...  \n",
       "10348       November 13, 2016 By 21wire Leave a Comment \\n...  \n",
       "778         Hillary Clinton told a Staten Island crowd tod...  \n",
       "3300        Mitch McConnell has an unusual admonition for ...  \n",
       "6155        Mises.org November 1, 2016 Inferno is a great ...  \n",
       "636         Washington (CNN) The faction of the GOP that i...  \n",
       "755         Meanwhile, Democrat Bernie Sanders picked up m...  \n",
       "626         After a week of nonstop criticism from Democra...  \n",
       "691         If you want a glimpse into a presidential cand...  \n",
       "5743        Syrian War Report – October 31, 2016: Al-Nusra...  \n",
       "...                                                       ...  \n",
       "6457        Print \\n[Ed. – Now teaching the gospel of raci...  \n",
       "7030        Sound too “strange” to be true? We have proof!...  \n",
       "9013        US abstains from UN vote calling for end to Cu...  \n",
       "9509        Tuesday 1 November 2016 by Formelia Alberthine...  \n",
       "3825        When Susan E. Rice took over as President Obam...  \n",
       "4515        (CNN) ISIS has claimed responsibility for the ...  \n",
       "2747        It was inevitable that liberals would end up b...  \n",
       "6516        By Kalee Brown\\nWhile I was at university, man...  \n",
       "9636        Email \\nDonald Trump is again riling up his vo...  \n",
       "7398        BREAKING: Trump Jumps in FL, Takes 4 Point Lea...  \n",
       "3717        Police in Charleston, S.C., say a man they sus...  \n",
       "5205        Silver of FiveThirtyEight.com has laid out fou...  \n",
       "6696        This post was originally published on this sit...  \n",
       "7991        BREAKING : Hillary Campaign Manager Deletes hi...  \n",
       "1303        Ted Cruz took first prize in the Iowa caucuses...  \n",
       "9051        Posted on November 4, 2016 by Charles Hugh Smi...  \n",
       "10200       Charlie Baker , Massachusetts (2015–present)[3...  \n",
       "10009       vladimir putin , Valdai , sochi , RBTH Daily R...  \n",
       "4214        ROME —  U.S. Democratic presidential candidate...  \n",
       "2316        Most conservatives who oppose marriage equalit...  \n",
       "8411        Written by Peter Van Buren   venerable New Yor...  \n",
       "6143        DOJ COMPLAINT: Comey Under Fire Over Partisan ...  \n",
       "3262        The freshman senator from Georgia quoted scrip...  \n",
       "9337                                                           \n",
       "8737        Julian Assange has claimed the Hillary Clinton...  \n",
       "4490        The State Department told the Republican Natio...  \n",
       "8062        The ‘P’ in PBS Should Stand for ‘Plutocratic’ ...  \n",
       "8622         Anti-Trump Protesters Are Tools of the Oligar...  \n",
       "4021        ADDIS ABABA, Ethiopia —President Obama convene...  \n",
       "4330        Jeb Bush Is Suddenly Attacking Trump. Here's W...  \n",
       "\n",
       "[6335 rows x 2 columns]"
      ]
     },
     "execution_count": 44,
     "metadata": {},
     "output_type": "execute_result"
    }
   ],
   "source": [
    "df_news.drop(\"label\", axis=1)"
   ]
  },
  {
   "cell_type": "markdown",
   "metadata": {},
   "source": [
    "#### Train-Test split using cross-validation : X contains all the text i.e. news data and y contains the label to be predicted\n",
    "#### Train Data - 66%\n",
    "#### Test Data - 34%"
   ]
  },
  {
   "cell_type": "code",
   "execution_count": 45,
   "metadata": {
    "collapsed": false
   },
   "outputs": [],
   "source": [
    "from sklearn.cross_validation import train_test_split\n",
    "X_train, X_test, y_train, y_test = train_test_split(df_news['text'], y, test_size=0.33, random_state=53)"
   ]
  },
  {
   "cell_type": "markdown",
   "metadata": {},
   "source": [
    "#### Description:\n",
    "\n",
    "To get a good idea if the words and tokens in the articles had a significant impact on whether the news was fake or real, I began by using CountVectorizer and TfidfVectorizer.\n",
    "\n",
    "For example, if the function has a max threshhold set at .7 for the TF-IDF vectorizer tfidf_vectorizer using the max_df argument. This removes words which appear in more than 70% of the articles. Also, the built-in stop_words parameter will remove English stop words from the data before making vectors.\n",
    "\n",
    "There are many more parameters available to experiment with in the scikit-learn documentation for TfidfVectorizer and CountVectorizer."
   ]
  },
  {
   "cell_type": "markdown",
   "metadata": {},
   "source": [
    "### A. Count vectorizer method "
   ]
  },
  {
   "cell_type": "code",
   "execution_count": 46,
   "metadata": {
    "collapsed": true
   },
   "outputs": [],
   "source": [
    "from sklearn.feature_extraction.text import CountVectorizer\n",
    "count_vectorizer = CountVectorizer(stop_words='english') "
   ]
  },
  {
   "cell_type": "code",
   "execution_count": 47,
   "metadata": {
    "collapsed": false
   },
   "outputs": [],
   "source": [
    "count_train = count_vectorizer.fit_transform(X_train) "
   ]
  },
  {
   "cell_type": "code",
   "execution_count": 48,
   "metadata": {
    "collapsed": true
   },
   "outputs": [],
   "source": [
    "count_test = count_vectorizer.transform(X_test)"
   ]
  },
  {
   "cell_type": "markdown",
   "metadata": {},
   "source": [
    "### B. Tf-Idf vectorizer method "
   ]
  },
  {
   "cell_type": "code",
   "execution_count": 49,
   "metadata": {
    "collapsed": true
   },
   "outputs": [],
   "source": [
    "from sklearn.feature_extraction.text import TfidfVectorizer\n",
    "tfidf_vectorizer = TfidfVectorizer(stop_words='english', max_df=0.7) "
   ]
  },
  {
   "cell_type": "code",
   "execution_count": 50,
   "metadata": {
    "collapsed": true
   },
   "outputs": [],
   "source": [
    "tfidf_train = tfidf_vectorizer.fit_transform(X_train) "
   ]
  },
  {
   "cell_type": "code",
   "execution_count": 51,
   "metadata": {
    "collapsed": true
   },
   "outputs": [],
   "source": [
    "tfidf_test = tfidf_vectorizer.transform(X_test)"
   ]
  },
  {
   "cell_type": "code",
   "execution_count": 52,
   "metadata": {
    "collapsed": false
   },
   "outputs": [
    {
     "name": "stdout",
     "output_type": "stream",
     "text": [
      "['حلب', 'عربي', 'عن', 'لم', 'ما', 'محاولات', 'من', 'هذا', 'والمرضى', 'ยงade']\n"
     ]
    }
   ],
   "source": [
    "print(tfidf_vectorizer.get_feature_names()[-10:])"
   ]
  },
  {
   "cell_type": "code",
   "execution_count": 53,
   "metadata": {
    "collapsed": false
   },
   "outputs": [
    {
     "name": "stdout",
     "output_type": "stream",
     "text": [
      "['00', '000', '0000', '00000031', '000035', '00006', '0001', '0001pt', '000ft', '000km']\n"
     ]
    }
   ],
   "source": [
    "print(count_vectorizer.get_feature_names()[:10])"
   ]
  },
  {
   "cell_type": "markdown",
   "metadata": {},
   "source": [
    "### Confusion Matrix\n",
    "\n",
    "It describes the performance of a model and hence I used it here to compare my model's Actual vs Predicted results on the data."
   ]
  },
  {
   "cell_type": "code",
   "execution_count": 60,
   "metadata": {
    "collapsed": false
   },
   "outputs": [],
   "source": [
    "import itertools   \n",
    "import matplotlib.pyplot as plt\n",
    "def plot_confusion_matrix(cm, classes,\n",
    "                          normalize=False,\n",
    "                          title='Confusion matrix',\n",
    "                          cmap=plt.cm.Blues):\n",
    "    \"\"\"\n",
    "    See full source and example: \n",
    "    http://scikit-learn.org/stable/auto_examples/model_selection/plot_confusion_matrix.html\n",
    "    \n",
    "    This function prints and plots the confusion matrix.\n",
    "    Normalization can be applied by setting `normalize=True`.\n",
    "    \"\"\"\n",
    "    plt.imshow(cm, interpolation='nearest', cmap=cmap)\n",
    "    plt.title(title)\n",
    "    plt.colorbar()\n",
    "    tick_marks = np.arange(len(classes))\n",
    "    plt.xticks(tick_marks, classes, rotation=45)\n",
    "    plt.yticks(tick_marks, classes)\n",
    "\n",
    "    if normalize:\n",
    "        cm = cm.astype('float') / cm.sum(axis=1)[:, np.newaxis]\n",
    "        print(\"Normalized confusion matrix\")\n",
    "    else:\n",
    "        print('Confusion matrix, without normalization')\n",
    "\n",
    "    thresh = cm.max() / 2.\n",
    "    for i, j in itertools.product(range(cm.shape[0]), range(cm.shape[1])):\n",
    "        plt.text(j, i, cm[i, j],\n",
    "                 horizontalalignment=\"center\",\n",
    "                 color=\"white\" if cm[i, j] > thresh else \"black\")\n",
    "\n",
    "    plt.tight_layout()\n",
    "    plt.ylabel('True label')\n",
    "    plt.xlabel('Predicted label')"
   ]
  },
  {
   "cell_type": "markdown",
   "metadata": {},
   "source": [
    "### Multinomial Naive Bayes classifier: \n",
    "It is suitable for classification with discrete features (e.g., word counts for text classification). The multinomial distribution normally requires integer feature counts. However, in practice, fractional counts such as tf-idf may also work.\n",
    "\n",
    "#### Running the model over tfidf scores and countvectorizer scores to compare the results"
   ]
  },
  {
   "cell_type": "code",
   "execution_count": 61,
   "metadata": {
    "collapsed": true
   },
   "outputs": [],
   "source": [
    "from sklearn.naive_bayes import MultinomialNB \n",
    "clf = MultinomialNB() "
   ]
  },
  {
   "cell_type": "code",
   "execution_count": 62,
   "metadata": {
    "collapsed": false
   },
   "outputs": [
    {
     "name": "stdout",
     "output_type": "stream",
     "text": [
      "accuracy:   0.857\n",
      "Confusion matrix, without normalization\n"
     ]
    },
    {
     "data": {
      "image/png": "[encoded data removed]",
      "text/plain": [
       "<matplotlib.figure.Figure at 0x1528f209a20>"
      ]
     },
     "metadata": {},
     "output_type": "display_data"
    }
   ],
   "source": [
    "%matplotlib inline\n",
    "import matplotlib.pyplot as plt\n",
    "from sklearn import metrics\n",
    "clf.fit(tfidf_train, y_train)\n",
    "pred = clf.predict(tfidf_test)\n",
    "score = metrics.accuracy_score(y_test, pred)\n",
    "print(\"accuracy:   %0.3f\" % score)\n",
    "cm = metrics.confusion_matrix(y_test, pred, labels=['FAKE', 'REAL'])\n",
    "plot_confusion_matrix(cm, classes=['FAKE', 'REAL'])\n",
    "\n"
   ]
  },
  {
   "cell_type": "markdown",
   "metadata": {},
   "source": [
    "\n",
    "#### Here, \n",
    "#### True Positives (TP): Number of examples that model correctly predicted news is fake = 1052       \n",
    "#### True Negatives (TN):  Number of examples that model correctly predicted news is not fake = 739\n",
    "#### False Positives (FP): Number of examples that model incorrectly predicted that news is real = 269        \n",
    "#### False Negatives (FN): Number of examples that model incorrectly predicted that news is not real = 31\n",
    "\n",
    "#### The model gives an accuracy of 85.7% using Tf-Idf score which is good. "
   ]
  },
  {
   "cell_type": "code",
   "execution_count": 63,
   "metadata": {
    "collapsed": true
   },
   "outputs": [],
   "source": [
    "clf = MultinomialNB() "
   ]
  },
  {
   "cell_type": "code",
   "execution_count": 64,
   "metadata": {
    "collapsed": false
   },
   "outputs": [
    {
     "name": "stdout",
     "output_type": "stream",
     "text": [
      "accuracy:   0.893\n",
      "Confusion matrix, without normalization\n"
     ]
    },
    {
     "data": {
      "image/png": "[encoded data removed]",
      "text/plain": [
       "<matplotlib.figure.Figure at 0x152936b7f98>"
      ]
     },
     "metadata": {},
     "output_type": "display_data"
    }
   ],
   "source": [
    "clf.fit(count_train, y_train)\n",
    "pred = clf.predict(count_test)\n",
    "score = metrics.accuracy_score(y_test, pred)\n",
    "print(\"accuracy:   %0.3f\" % score)\n",
    "cm = metrics.confusion_matrix(y_test, pred, labels=['FAKE', 'REAL'])\n",
    "plot_confusion_matrix(cm, classes=['FAKE', 'REAL'])"
   ]
  },
  {
   "cell_type": "markdown",
   "metadata": {},
   "source": [
    "#### The model gives an accuracy of 89.3% using Count vectorize scores which outperforms the Tf-idf scores in this case. \n",
    "This is simply because Count vectorizer uses simple word frequency whereas Tf-idf vectorizer uses normalized value that increases proportionally to count, but is offset by the frequency of the word in the corpus. - This is the IDF (inverse document frequency part).This helps to adjust for the fact that some words appear more frequently. We can say that Tf-idf results can be relied where unique words are taken into consideration in the data. "
   ]
  },
  {
   "cell_type": "markdown",
   "metadata": {},
   "source": [
    "### Parameter Tuning with MultinomialNB\n",
    "\n",
    "#### Parameter alpha in MultinomialNB is a hyperparameter used for smoothing and below are the experimentation results with the accuracy score while varying alpha "
   ]
  },
  {
   "cell_type": "code",
   "execution_count": 65,
   "metadata": {
    "collapsed": true
   },
   "outputs": [],
   "source": [
    "clf = MultinomialNB(alpha=0.1)"
   ]
  },
  {
   "cell_type": "code",
   "execution_count": 66,
   "metadata": {
    "collapsed": false
   },
   "outputs": [
    {
     "name": "stdout",
     "output_type": "stream",
     "text": [
      "Alpha: 0.00 Score: 0.61502\n",
      "Alpha: 0.10 Score: 0.89766\n",
      "Alpha: 0.20 Score: 0.89383\n",
      "Alpha: 0.30 Score: 0.89000\n",
      "Alpha: 0.40 Score: 0.88570\n",
      "Alpha: 0.50 Score: 0.88427\n",
      "Alpha: 0.60 Score: 0.87470\n",
      "Alpha: 0.70 Score: 0.87040\n",
      "Alpha: 0.80 Score: 0.86609\n",
      "Alpha: 0.90 Score: 0.85892\n"
     ]
    }
   ],
   "source": [
    "last_score = 0\n",
    "for alpha in np.arange(0,1,.1):\n",
    "    nb_classifier = MultinomialNB(alpha=alpha)\n",
    "    nb_classifier.fit(tfidf_train, y_train)\n",
    "    pred = nb_classifier.predict(tfidf_test)\n",
    "    score = metrics.accuracy_score(y_test, pred)\n",
    "    if score > last_score:\n",
    "        clf = nb_classifier\n",
    "    print(\"Alpha: {:.2f} Score: {:.5f}\".format(alpha, score))"
   ]
  },
  {
   "cell_type": "markdown",
   "metadata": {},
   "source": [
    "#### Since parameter tuning does not seem to give outstandingly different results than default, some other classifiers can be used to check whether accuracy can be improved. \n",
    "\n",
    "#### The passive-aggressive algorithms are a family of algorithms for large-scale learning. They are similar to the Perceptron in that they do not require a learning rate. The parameter n_iter gives number of passes over the training data (aka epochs)."
   ]
  },
  {
   "cell_type": "code",
   "execution_count": 67,
   "metadata": {
    "collapsed": true
   },
   "outputs": [],
   "source": [
    "from sklearn.linear_model import PassiveAggressiveClassifier\n",
    "linear_clf = PassiveAggressiveClassifier(n_iter=50)"
   ]
  },
  {
   "cell_type": "code",
   "execution_count": 68,
   "metadata": {
    "collapsed": false
   },
   "outputs": [
    {
     "name": "stdout",
     "output_type": "stream",
     "text": [
      "accuracy:   0.937\n",
      "Confusion matrix, without normalization\n"
     ]
    },
    {
     "data": {
      "image/png": "[encoded data removed]",
      "text/plain": [
       "<matplotlib.figure.Figure at 0x1528f75bc50>"
      ]
     },
     "metadata": {},
     "output_type": "display_data"
    }
   ],
   "source": [
    "linear_clf.fit(tfidf_train, y_train)\n",
    "pred = linear_clf.predict(tfidf_test)\n",
    "score = metrics.accuracy_score(y_test, pred)\n",
    "print(\"accuracy:   %0.3f\" % score)\n",
    "cm = metrics.confusion_matrix(y_test, pred, labels=['FAKE', 'REAL'])\n",
    "plot_confusion_matrix(cm, classes=['FAKE', 'REAL'])"
   ]
  },
  {
   "cell_type": "markdown",
   "metadata": {},
   "source": [
    "#### This model uses tf-idf scores and gives a maximum accuracy of 93.7% which is better than MultinomialNB results."
   ]
  },
  {
   "cell_type": "markdown",
   "metadata": {},
   "source": [
    "#### After knowing the performance of models, we can retrieve the most informative features that helped in classification. Below function uses .get_feature_names() and .coef functions from scikit learn to retrieve the most real and most fake classified results."
   ]
  },
  {
   "cell_type": "code",
   "execution_count": 69,
   "metadata": {
    "collapsed": false
   },
   "outputs": [
    {
     "name": "stdout",
     "output_type": "stream",
     "text": [
      "FAKE -5.09228374266 2016\n",
      "FAKE -4.2906870519 october\n",
      "FAKE -4.2225926901 hillary\n",
      "FAKE -3.12056040916 article\n",
      "FAKE -3.04117629402 share\n",
      "FAKE -2.80358298474 november\n",
      "FAKE -2.43738025467 print\n",
      "FAKE -2.41569200301 email\n",
      "FAKE -2.35495281773 source\n",
      "FAKE -2.35164406496 advertisement\n",
      "FAKE -2.24138658963 war\n",
      "FAKE -2.13653817657 oct\n",
      "FAKE -2.11639707505 podesta\n",
      "FAKE -2.09643902112 nov\n",
      "FAKE -2.05136162028 mosul\n",
      "FAKE -1.97472366605 establishment\n",
      "FAKE -1.89999835202 election\n",
      "FAKE -1.85602991264 corporate\n",
      "FAKE -1.75594304912 ayotte\n",
      "FAKE -1.73914679602 wikileaks\n",
      "FAKE -1.73338629173 com\n",
      "FAKE -1.72776667044 snip\n",
      "FAKE -1.7221083977 dakota\n",
      "FAKE -1.68935488468 jewish\n",
      "FAKE -1.65753032688 reuters\n",
      "FAKE -1.65435683573 brexit\n",
      "FAKE -1.64245666167 comments\n",
      "FAKE -1.6421758909 28\n",
      "FAKE -1.63299613307 donald\n",
      "FAKE -1.56547330005 plant\n",
      "\n",
      "REAL 4.76765288342 said\n",
      "REAL 2.67076090605 says\n",
      "REAL 2.55604278046 marriage\n",
      "REAL 2.50184765054 gop\n",
      "REAL 2.43517626433 tuesday\n",
      "REAL 2.34485444486 friday\n",
      "REAL 2.31518198219 cruz\n",
      "REAL 2.25668228976 islamic\n",
      "REAL 2.20988991636 monday\n",
      "REAL 2.1717144754 candidates\n",
      "REAL 2.14409615765 conservative\n",
      "REAL 2.11998902247 jobs\n",
      "REAL 2.0085591098 continue\n",
      "REAL 2.00349311645 sen\n",
      "REAL 1.99746657696 rush\n",
      "REAL 1.98907526087 attacks\n",
      "REAL 1.94519307961 march\n",
      "REAL 1.88281998931 sunday\n",
      "REAL 1.85108726671 conservatives\n",
      "REAL 1.84763583644 presumptive\n",
      "REAL 1.842839781 convention\n",
      "REAL 1.83632351323 say\n",
      "REAL 1.74312429088 deal\n",
      "REAL 1.67432995242 recounts\n",
      "REAL 1.6682037387 week\n",
      "REAL 1.66731837264 debate\n",
      "REAL 1.64701568657 paris\n",
      "REAL 1.6341240841 fox\n",
      "REAL 1.60510827353 group\n",
      "REAL 1.59833951516 attack\n"
     ]
    }
   ],
   "source": [
    "def most_informative_feature_for_binary_classification(vectorizer, classifier, n=100):\n",
    "    \"\"\"\n",
    "    See: https://stackoverflow.com/a/26980472\n",
    "    \n",
    "    Identify most important features if given a vectorizer and binary classifier. Set n to the number\n",
    "    of weighted features you would like to show. (Note: current implementation merely prints and does not \n",
    "    return top classes.)\n",
    "    \"\"\"\n",
    "\n",
    "    class_labels = classifier.classes_\n",
    "    feature_names = vectorizer.get_feature_names()\n",
    "    topn_class1 = sorted(zip(classifier.coef_[0], feature_names))[:n]\n",
    "    topn_class2 = sorted(zip(classifier.coef_[0], feature_names))[-n:]\n",
    "\n",
    "    for coef, feat in topn_class1:\n",
    "        print(class_labels[0], coef, feat)\n",
    "\n",
    "    print()\n",
    "\n",
    "    for coef, feat in reversed(topn_class2):\n",
    "        print(class_labels[1], coef, feat)\n",
    "\n",
    "\n",
    "most_informative_feature_for_binary_classification(tfidf_vectorizer, linear_clf, n=30)"
   ]
  },
  {
   "cell_type": "code",
   "execution_count": 70,
   "metadata": {
    "collapsed": true
   },
   "outputs": [],
   "source": [
    "feature_names = tfidf_vectorizer.get_feature_names()"
   ]
  },
  {
   "cell_type": "code",
   "execution_count": 71,
   "metadata": {
    "collapsed": false
   },
   "outputs": [
    {
     "data": {
      "text/plain": [
       "[(-6.2573612147015822, 'trump'),\n",
       " (-6.4944530943126777, 'said'),\n",
       " (-6.6539784739838845, 'clinton'),\n",
       " (-7.0379446628670728, 'obama'),\n",
       " (-7.1465399833812278, 'sanders'),\n",
       " (-7.2153760086475112, 'president'),\n",
       " (-7.2665628057416169, 'campaign'),\n",
       " (-7.2875931446681514, 'republican'),\n",
       " (-7.3411184585990643, 'state'),\n",
       " (-7.3413571102479054, 'cruz'),\n",
       " (-7.3783124419854254, 'party'),\n",
       " (-7.4468806724578904, 'new'),\n",
       " (-7.4762888011545883, 'people'),\n",
       " (-7.547225599514773, 'percent'),\n",
       " (-7.5553074094582335, 'bush'),\n",
       " (-7.5801506339098932, 'republicans'),\n",
       " (-7.5855405012652435, 'house'),\n",
       " (-7.6344781725203141, 'voters'),\n",
       " (-7.6484824436952987, 'rubio'),\n",
       " (-7.6734836186463795, 'states')]"
      ]
     },
     "execution_count": 71,
     "metadata": {},
     "output_type": "execute_result"
    }
   ],
   "source": [
    "### Most real \n",
    "sorted(zip(clf.coef_[0], feature_names), reverse=True)[:20]"
   ]
  },
  {
   "cell_type": "code",
   "execution_count": 72,
   "metadata": {
    "collapsed": false
   },
   "outputs": [
    {
     "data": {
      "text/plain": [
       "[(-11.349866225220305, '0000'),\n",
       " (-11.349866225220305, '000035'),\n",
       " (-11.349866225220305, '0001'),\n",
       " (-11.349866225220305, '0001pt'),\n",
       " (-11.349866225220305, '000km'),\n",
       " (-11.349866225220305, '0011'),\n",
       " (-11.349866225220305, '006s'),\n",
       " (-11.349866225220305, '007'),\n",
       " (-11.349866225220305, '007s'),\n",
       " (-11.349866225220305, '008s'),\n",
       " (-11.349866225220305, '0099'),\n",
       " (-11.349866225220305, '00am'),\n",
       " (-11.349866225220305, '00p'),\n",
       " (-11.349866225220305, '00pm'),\n",
       " (-11.349866225220305, '014'),\n",
       " (-11.349866225220305, '015'),\n",
       " (-11.349866225220305, '018'),\n",
       " (-11.349866225220305, '01am'),\n",
       " (-11.349866225220305, '020'),\n",
       " (-11.349866225220305, '023')]"
      ]
     },
     "execution_count": 72,
     "metadata": {},
     "output_type": "execute_result"
    }
   ],
   "source": [
    "### Most fake\n",
    "sorted(zip(clf.coef_[0], feature_names))[:20]"
   ]
  },
  {
   "cell_type": "code",
   "execution_count": 73,
   "metadata": {
    "collapsed": true
   },
   "outputs": [],
   "source": [
    "tokens_with_weights = sorted(list(zip(feature_names, clf.coef_[0])))"
   ]
  },
  {
   "cell_type": "markdown",
   "metadata": {},
   "source": [
    "### C. Hashing vectorizer method \n",
    "\n",
    "#### Lastly, I experimented with this strategy because it is known to perform on very low memory scalable to large datasets as there is no need to store a vocabulary dictionary in memory."
   ]
  },
  {
   "cell_type": "code",
   "execution_count": 74,
   "metadata": {
    "collapsed": true
   },
   "outputs": [],
   "source": [
    "from sklearn.feature_extraction.text import HashingVectorizer\n",
    "hash_vectorizer = HashingVectorizer(stop_words='english', non_negative=True)\n",
    "hash_train = hash_vectorizer.fit_transform(X_train)\n",
    "hash_test = hash_vectorizer.transform(X_test)"
   ]
  },
  {
   "cell_type": "code",
   "execution_count": 75,
   "metadata": {
    "collapsed": true
   },
   "outputs": [],
   "source": [
    "clf = MultinomialNB(alpha=.01)"
   ]
  },
  {
   "cell_type": "code",
   "execution_count": 76,
   "metadata": {
    "collapsed": false
   },
   "outputs": [
    {
     "name": "stdout",
     "output_type": "stream",
     "text": [
      "accuracy:   0.902\n",
      "Confusion matrix, without normalization\n"
     ]
    },
    {
     "data": {
      "image/png": "[encoded data removed]",
      "text/plain": [
       "<matplotlib.figure.Figure at 0x152835c3160>"
      ]
     },
     "metadata": {},
     "output_type": "display_data"
    }
   ],
   "source": [
    "clf.fit(hash_train, y_train)\n",
    "pred = clf.predict(hash_test)\n",
    "score = metrics.accuracy_score(y_test, pred)\n",
    "print(\"accuracy:   %0.3f\" % score)\n",
    "cm = metrics.confusion_matrix(y_test, pred, labels=['FAKE', 'REAL'])\n",
    "plot_confusion_matrix(cm, classes=['FAKE', 'REAL'])"
   ]
  },
  {
   "cell_type": "code",
   "execution_count": 77,
   "metadata": {
    "collapsed": true
   },
   "outputs": [],
   "source": [
    "clf = PassiveAggressiveClassifier(n_iter=50)"
   ]
  },
  {
   "cell_type": "code",
   "execution_count": 78,
   "metadata": {
    "collapsed": false
   },
   "outputs": [
    {
     "name": "stdout",
     "output_type": "stream",
     "text": [
      "accuracy:   0.919\n",
      "Confusion matrix, without normalization\n"
     ]
    },
    {
     "data": {
      "image/png": "[encoded data removed]",
      "text/plain": [
       "<matplotlib.figure.Figure at 0x15293697240>"
      ]
     },
     "metadata": {},
     "output_type": "display_data"
    }
   ],
   "source": [
    "clf.fit(hash_train, y_train)\n",
    "pred = clf.predict(hash_test)\n",
    "score = metrics.accuracy_score(y_test, pred)\n",
    "print(\"accuracy:   %0.3f\" % score)\n",
    "cm = metrics.confusion_matrix(y_test, pred, labels=['FAKE', 'REAL'])\n",
    "plot_confusion_matrix(cm, classes=['FAKE', 'REAL'])"
   ]
  },
  {
   "cell_type": "markdown",
   "metadata": {
    "collapsed": true
   },
   "source": [
    "Surprisingly, the Hashing vectorizer also gave good results compared to tf-idf with an accuracy of 90%. But it should be noted that in this strategy there is no way to compute the inverse transform (from feature indices to string feature names) which can be a problem when trying to introspect which features are most important to a model. "
   ]
  },
  {
   "cell_type": "markdown",
   "metadata": {},
   "source": [
    "### Experimentation using Keras \n",
    "\n",
    "Being new to deep learning models, I started out with simple implementations using Keras which is a high level neural network API,written in Python and capable of running on top of TensorFlow, CNTK, or Theano. I downloaded and installed Tensorflow and used it as a backend for this experiment. \n",
    "#### Source: https://keras.io/why-use-keras/ \n"
   ]
  },
  {
   "cell_type": "code",
   "execution_count": 81,
   "metadata": {
    "collapsed": false
   },
   "outputs": [
    {
     "data": {
      "text/html": [
       "<div>\n",
       "<table border=\"1\" class=\"dataframe\">\n",
       "  <thead>\n",
       "    <tr style=\"text-align: right;\">\n",
       "      <th></th>\n",
       "      <th>Unnamed: 0</th>\n",
       "      <th>title</th>\n",
       "      <th>text</th>\n",
       "      <th>label</th>\n",
       "    </tr>\n",
       "  </thead>\n",
       "  <tbody>\n",
       "    <tr>\n",
       "      <th>0</th>\n",
       "      <td>8476</td>\n",
       "      <td>You Can Smell Hillaryâs Fear</td>\n",
       "      <td>Daniel Greenfield, a Shillman Journalism Fello...</td>\n",
       "      <td>FAKE</td>\n",
       "    </tr>\n",
       "    <tr>\n",
       "      <th>1</th>\n",
       "      <td>10294</td>\n",
       "      <td>Watch The Exact Moment Paul Ryan Committed Pol...</td>\n",
       "      <td>Google Pinterest Digg Linkedin Reddit Stumbleu...</td>\n",
       "      <td>FAKE</td>\n",
       "    </tr>\n",
       "    <tr>\n",
       "      <th>2</th>\n",
       "      <td>3608</td>\n",
       "      <td>Kerry to go to Paris in gesture of sympathy</td>\n",
       "      <td>U.S. Secretary of State John F. Kerry said Mon...</td>\n",
       "      <td>REAL</td>\n",
       "    </tr>\n",
       "    <tr>\n",
       "      <th>3</th>\n",
       "      <td>10142</td>\n",
       "      <td>Bernie supporters on Twitter erupt in anger ag...</td>\n",
       "      <td>â Kaydee King (@KaydeeKing) November 9, 2016...</td>\n",
       "      <td>FAKE</td>\n",
       "    </tr>\n",
       "    <tr>\n",
       "      <th>4</th>\n",
       "      <td>875</td>\n",
       "      <td>The Battle of New York: Why This Primary Matters</td>\n",
       "      <td>It's primary day in New York and front-runners...</td>\n",
       "      <td>REAL</td>\n",
       "    </tr>\n",
       "  </tbody>\n",
       "</table>\n",
       "</div>"
      ],
      "text/plain": [
       "   Unnamed: 0                                              title  \\\n",
       "0        8476                     You Can Smell Hillaryâs Fear   \n",
       "1       10294  Watch The Exact Moment Paul Ryan Committed Pol...   \n",
       "2        3608        Kerry to go to Paris in gesture of sympathy   \n",
       "3       10142  Bernie supporters on Twitter erupt in anger ag...   \n",
       "4         875   The Battle of New York: Why This Primary Matters   \n",
       "\n",
       "                                                text label  \n",
       "0  Daniel Greenfield, a Shillman Journalism Fello...  FAKE  \n",
       "1  Google Pinterest Digg Linkedin Reddit Stumbleu...  FAKE  \n",
       "2  U.S. Secretary of State John F. Kerry said Mon...  REAL  \n",
       "3  â Kaydee King (@KaydeeKing) November 9, 2016...  FAKE  \n",
       "4  It's primary day in New York and front-runners...  REAL  "
      ]
     },
     "execution_count": 81,
     "metadata": {},
     "output_type": "execute_result"
    }
   ],
   "source": [
    "df_keras = pd.read_csv(\"C:\\\\Users\\\\Prajakta\\\\fake_or_real_news.csv\",encoding='latin-1')\n",
    "df_keras.head(5)"
   ]
  },
  {
   "cell_type": "code",
   "execution_count": 82,
   "metadata": {
    "collapsed": true
   },
   "outputs": [],
   "source": [
    "label = df_keras.label\n",
    "text = df_keras.text"
   ]
  },
  {
   "cell_type": "code",
   "execution_count": 83,
   "metadata": {
    "collapsed": false
   },
   "outputs": [
    {
     "name": "stderr",
     "output_type": "stream",
     "text": [
      "Using TensorFlow backend.\n"
     ]
    }
   ],
   "source": [
    "from keras.models import Sequential\n",
    "from keras.layers import Dense, Dropout, Activation\n",
    "from keras.layers import Embedding\n",
    "from keras.layers import Conv1D, GlobalMaxPooling1D\n",
    "from keras.preprocessing.text import Tokenizer\n",
    "from keras.preprocessing import sequence\n",
    "from sklearn.preprocessing import LabelEncoder\n",
    "import time\n",
    "from keras import metrics"
   ]
  },
  {
   "cell_type": "markdown",
   "metadata": {},
   "source": [
    "### Data Preprocessing in Keras\n",
    "\n",
    "I used LabelEncoder to transform labels FAKE and REAL to convert it to integers\n",
    "\n",
    "Keras provides Tokenizer() Class for vectorizing texts, or/and turning texts into sequences and I set num_max = 1000  where num_words: None or int. Maximum number of words to work with (if set, tokenization will be restricted to the top num_words most common words in the dataset)."
   ]
  },
  {
   "cell_type": "code",
   "execution_count": 84,
   "metadata": {
    "collapsed": false
   },
   "outputs": [
    {
     "name": "stdout",
     "output_type": "stream",
     "text": [
      "[0 0 1 0 1]\n",
      "[[  0.  93.  34. ...,   0.   0.   1.]\n",
      " [  0.  16.  14. ...,   0.   0.   0.]\n",
      " [  0.  24.  15. ...,   0.   0.   0.]\n",
      " [  0.  25.  14. ...,   0.   0.   0.]\n",
      " [  0.  19.  13. ...,   0.   0.   0.]]\n",
      "(6335,) (6335, 1000)\n"
     ]
    }
   ],
   "source": [
    "num_max = 1000\n",
    "# preprocess\n",
    "le = LabelEncoder()\n",
    "label = le.fit_transform(label)\n",
    "tok = Tokenizer(num_words=num_max)\n",
    "tok.fit_on_texts(text)\n",
    "mat_text = tok.texts_to_matrix(text,mode='count')\n",
    "print(label[:5])\n",
    "print(mat_text[:5])\n",
    "print(label.shape,mat_text.shape)"
   ]
  },
  {
   "cell_type": "markdown",
   "metadata": {},
   "source": [
    "#### The above results show labels FAKE and REAL as 0 and 1 respectively. "
   ]
  },
  {
   "cell_type": "markdown",
   "metadata": {},
   "source": [
    "#### I use a simple model i.e. SEQUENTIAL to start with. I started with 512 neurons in the first layer with an 'relu' activation function followed by 256 neurons and so on. Loss function used is 'binary_crossentropy' and metric as Accuracy. Source: https://keras.io/getting-started/sequential-model-guide/"
   ]
  },
  {
   "cell_type": "code",
   "execution_count": 85,
   "metadata": {
    "collapsed": true
   },
   "outputs": [],
   "source": [
    "def get_simple_model():\n",
    "    model = Sequential()\n",
    "    model.add(Dense(512, activation='relu', input_shape=(num_max,)))\n",
    "    model.add(Dropout(0.2))\n",
    "    model.add(Dense(256, activation='relu'))\n",
    "    model.add(Dropout(0.2))\n",
    "    model.add(Dense(1, activation='sigmoid'))\n",
    "    model.summary()\n",
    "    model.compile(loss='binary_crossentropy',\n",
    "              optimizer='adam',\n",
    "              metrics=['acc',metrics.binary_accuracy])\n",
    "    print('compile done')\n",
    "    return model"
   ]
  },
  {
   "cell_type": "code",
   "execution_count": 86,
   "metadata": {
    "collapsed": true
   },
   "outputs": [],
   "source": [
    "def check_model(model,x,y):\n",
    "    model.fit(x,y,batch_size=32,epochs=10,verbose=1,validation_split=0.2)"
   ]
  },
  {
   "cell_type": "markdown",
   "metadata": {},
   "source": [
    "#### Epoch\n",
    "It is an arbitrary cutoff, generally defined as \"one pass over the entire dataset\", used to separate training into distinct phases, which is useful for logging and periodic evaluation. I set to 10 which is analogous to ten fold cross validation of data. \n",
    "\n",
    "#### Let us run our model over defined text and label."
   ]
  },
  {
   "cell_type": "code",
   "execution_count": 87,
   "metadata": {
    "collapsed": false
   },
   "outputs": [
    {
     "name": "stdout",
     "output_type": "stream",
     "text": [
      "_________________________________________________________________\n",
      "Layer (type)                 Output Shape              Param #   \n",
      "=================================================================\n",
      "dense_1 (Dense)              (None, 512)               512512    \n",
      "_________________________________________________________________\n",
      "dropout_1 (Dropout)          (None, 512)               0         \n",
      "_________________________________________________________________\n",
      "dense_2 (Dense)              (None, 256)               131328    \n",
      "_________________________________________________________________\n",
      "dropout_2 (Dropout)          (None, 256)               0         \n",
      "_________________________________________________________________\n",
      "dense_3 (Dense)              (None, 1)                 257       \n",
      "=================================================================\n",
      "Total params: 644,097\n",
      "Trainable params: 644,097\n",
      "Non-trainable params: 0\n",
      "_________________________________________________________________\n",
      "compile done\n",
      "Train on 5068 samples, validate on 1267 samples\n",
      "Epoch 1/10\n",
      "5068/5068 [==============================] - 8s 2ms/step - loss: 0.5023 - acc: 0.8129 - binary_accuracy: 0.8129 - val_loss: 0.2647 - val_acc: 0.9148 - val_binary_accuracy: 0.9148\n",
      "Epoch 2/10\n",
      "5068/5068 [==============================] - 5s 1ms/step - loss: 0.2448 - acc: 0.9136 - binary_accuracy: 0.9136 - val_loss: 0.2408 - val_acc: 0.9234 - val_binary_accuracy: 0.9234\n",
      "Epoch 3/10\n",
      "5068/5068 [==============================] - 5s 981us/step - loss: 0.1506 - acc: 0.9467 - binary_accuracy: 0.9467 - val_loss: 0.2477 - val_acc: 0.9266 - val_binary_accuracy: 0.9266\n",
      "Epoch 4/10\n",
      "5068/5068 [==============================] - 5s 976us/step - loss: 0.0934 - acc: 0.9688 - binary_accuracy: 0.9688 - val_loss: 0.2617 - val_acc: 0.9242 - val_binary_accuracy: 0.9242\n",
      "Epoch 5/10\n",
      "5068/5068 [==============================] - 5s 963us/step - loss: 0.0638 - acc: 0.9813 - binary_accuracy: 0.9813 - val_loss: 0.3202 - val_acc: 0.9203 - val_binary_accuracy: 0.9203\n",
      "Epoch 6/10\n",
      "5068/5068 [==============================] - 5s 980us/step - loss: 0.0847 - acc: 0.9751 - binary_accuracy: 0.9751 - val_loss: 0.2539 - val_acc: 0.9337 - val_binary_accuracy: 0.9337\n",
      "Epoch 7/10\n",
      "5068/5068 [==============================] - 5s 944us/step - loss: 0.0939 - acc: 0.9728 - binary_accuracy: 0.9728 - val_loss: 0.2708 - val_acc: 0.9242 - val_binary_accuracy: 0.9242\n",
      "Epoch 8/10\n",
      "5068/5068 [==============================] - 5s 974us/step - loss: 0.0396 - acc: 0.9860 - binary_accuracy: 0.9860 - val_loss: 0.3589 - val_acc: 0.9258 - val_binary_accuracy: 0.9258\n",
      "Epoch 9/10\n",
      "5068/5068 [==============================] - 5s 936us/step - loss: 0.0278 - acc: 0.9921 - binary_accuracy: 0.9921 - val_loss: 0.3773 - val_acc: 0.9242 - val_binary_accuracy: 0.9242\n",
      "Epoch 10/10\n",
      "5068/5068 [==============================] - 5s 945us/step - loss: 0.0232 - acc: 0.9933 - binary_accuracy: 0.9933 - val_loss: 0.5343 - val_acc: 0.9061 - val_binary_accuracy: 0.9061\n"
     ]
    }
   ],
   "source": [
    "m = get_simple_model()\n",
    "check_model(m,mat_text,label)"
   ]
  },
  {
   "cell_type": "markdown",
   "metadata": {},
   "source": [
    "#### Observations: \n",
    "We can see that the binary accuracy value at each epoch is close to 93% and a loss of 0.2 using Sequential model. This is the maximum accuracy attained till now that also includes validation of results and thus this model can be taken into consideration with confidence.\n",
    "\n",
    "One thing to be noted here is the results for acc and val_acc or loss and val_loss are different because I used dropout() that prevents overfitting of the data. It can simply explained as, when dropout is used the model is being trained while the \"loss\" is being computed, whereas the model is fixed while \"val_loss\" is being computed. Since the model is training, \"loss\" is typically going to be larger than the true training set loss at the end of the epoch. I.e. \"loss\" is the average loss during the epoch, and \"val_loss\" is the average loss after the end of the epoch. Since the model changes during the epoch, the loss changes. Similar is the case with acc and val_acc"
   ]
  },
  {
   "cell_type": "markdown",
   "metadata": {},
   "source": [
    "To explore further, I tried other model i.e.\n",
    "### CNN CONVOLUTIONAL NEURAL NETWORK\n",
    "model provided in Keras to compare my results with the SEQUENTIAL model. Source: https://keras.io/layers/convolutional/"
   ]
  },
  {
   "cell_type": "code",
   "execution_count": 88,
   "metadata": {
    "collapsed": false
   },
   "outputs": [
    {
     "name": "stdout",
     "output_type": "stream",
     "text": [
      "[5, 25, 1, 626, 483, 8, 5, 57, 247, 10, 6, 1, 808, 3, 1, 100, 82, 36, 24, 2, 144, 13, 1, 236, 1, 973, 24, 45, 221, 55, 465, 18, 100, 7, 12, 2, 17, 27, 122, 162, 9, 1, 301, 3, 5, 363, 105, 106, 2, 184, 144, 13, 1, 236, 27, 314, 974, 49, 82, 4, 46, 47, 20, 421, 73, 58, 84, 4, 31, 3, 410, 28, 40, 42, 7, 236, 446, 928, 704, 8, 6, 18, 100, 1, 236, 8, 187, 303, 19, 646, 28, 81, 2, 410, 47, 20, 5, 900, 704, 59, 16, 41, 153, 902, 88, 63, 29, 12, 17, 215, 48, 1, 37, 40, 919, 51, 2, 548, 414, 303, 103, 1, 236, 1, 834, 8, 118, 7, 1, 677, 244, 472, 34, 929, 5, 48, 30, 461, 113, 71, 82, 4, 1, 8, 118, 19, 1, 153, 4, 1, 190, 2, 648, 179, 1, 625, 3, 1, 360, 3, 1, 36, 539, 4, 82, 36, 1, 174, 236, 4, 705, 47, 24, 168, 1, 57, 247, 231, 24, 704, 2, 77, 704, 600, 236, 37, 58, 484, 7, 122, 1, 24, 814, 5, 796, 9, 22, 2, 17, 78, 24, 31, 7, 1, 8, 242, 31, 303, 10, 43, 234, 928, 999, 10, 2, 646, 7, 14, 15, 162, 4, 14, 704, 3, 13, 111, 154, 4, 1, 4, 38, 599, 1, 135, 15, 5, 153, 704, 13, 72, 38, 145, 5, 296, 10, 114, 861, 500, 24, 675, 704, 5, 900, 88, 3, 1, 377, 1, 377, 8, 5, 521, 7, 24, 11, 133, 6, 1, 994, 3, 81, 11, 1, 27, 1, 127, 982, 13, 153, 25, 1, 610, 10, 1, 377, 187, 1, 112, 1, 236, 446, 3, 44, 3, 1, 92, 103, 82, 348, 48, 928, 704, 8, 242, 54, 2, 82, 14, 44, 3, 5, 123, 2, 72, 12, 22, 215, 182, 374, 190, 51, 5, 3, 56, 14, 761, 82, 36, 5, 6, 5, 168, 390, 48, 14, 242, 51, 54, 2, 29, 19, 1, 266, 113, 192, 139, 14, 1, 360, 15, 14, 10, 1, 3, 111, 154, 4, 1, 143, 126, 4, 12, 37, 15, 12, 5, 121, 699, 4, 434, 720, 88, 80, 469, 5, 298, 25, 522, 704, 8, 1, 92, 236, 446, 7, 348, 37, 450, 73, 416, 2, 5, 105, 7, 24, 88, 174, 5, 834, 668, 105, 16, 2, 575, 4, 23, 181, 668, 73, 173, 2, 17, 976, 2, 72, 40, 662, 1, 87, 369, 8, 192, 82, 4, 46, 959, 2, 184, 2, 144, 13, 5, 218, 819, 92, 177, 76, 1, 236, 112, 82, 36, 5, 4, 122, 31, 332, 313, 785, 15, 2, 4, 7, 1, 236, 85, 52, 5, 778, 360, 432, 46, 7, 12, 15, 5, 196, 1, 236, 46, 4, 50, 12, 179, 27, 1, 313, 24, 379, 123, 2, 5, 10, 1, 236, 7, 406, 15, 726, 15, 5, 589, 785, 27, 12, 15, 5, 288, 44, 7, 5, 445, 13, 1, 236, 112, 36, 679, 2, 711, 7, 1, 236, 8, 242, 1, 59, 16, 93, 430, 82, 36, 229, 17, 354, 2, 54, 25, 1, 236, 84, 7, 50, 7, 575, 8, 712, 1, 163, 477, 3, 7, 475, 46, 2, 403, 46, 575, 83, 425, 46, 2, 5, 144, 10, 1, 236, 9, 46, 164, 1, 808, 3, 46, 70, 27, 1, 69, 8, 7, 46, 47, 113, 2, 144, 13, 1, 236, 8, 22, 1, 3, 5, 4, 119, 70, 122, 31, 377, 3, 56, 5, 119, 171, 7, 46, 87, 8, 2, 679, 4, 1, 3, 1, 236, 314, 22, 122, 772, 3, 49, 1, 236, 229, 17, 39, 2, 39, 46, 164, 1, 236, 360, 82, 36, 15, 7, 50, 83, 12, 54, 4, 50, 52, 203, 494, 9, 7, 27, 7, 82, 36, 8, 6, 46, 300, 8, 5, 470, 5, 765, 3, 78, 1, 36, 70, 2, 1, 142, 24, 45, 19, 5, 4, 7, 24, 43, 77, 696, 10, 822, 1, 236, 609, 87, 44, 494, 9, 152, 1, 36, 70, 24, 959, 7, 31, 236, 360, 3, 1, 776, 3, 271, 5, 639, 2, 77, 4, 55, 122, 43, 6, 10, 822, 1, 236, 122, 31, 950, 3, 772, 122, 418, 2, 145, 220, 7, 772, 8, 27, 1, 3, 7, 772, 254, 68, 5, 682, 326, 36, 1, 313, 360, 30, 1, 812, 3, 78, 11, 141, 11, 30, 1, 205, 523, 84, 30, 16, 61, 759, 6, 315, 4, 30, 16, 38, 64, 1, 772, 1, 236, 24, 28, 1, 360, 3, 1, 36, 539, 122, 57, 271, 43, 1, 78, 4, 1, 3, 20, 954, 7, 1, 266, 8, 73, 55, 133, 257, 923, 43, 314, 167, 8, 1, 3, 257, 102, 3, 1, 27, 18, 725, 90, 38, 2, 122, 90, 38, 2, 5, 923, 1, 10, 1, 236, 68, 7, 82, 36, 4, 46, 919, 16, 3, 5, 63, 1, 3, 46, 266, 1, 266, 15, 5, 58, 1, 36, 70, 24, 54, 3, 1, 135, 37, 726, 7, 833, 1, 823, 15, 2, 58, 8, 25, 851, 3, 118, 1, 20, 74, 1, 108, 30, 16, 18, 78, 221, 8, 63, 1, 4, 3, 212, 7, 20, 79, 221, 1, 108, 18, 8, 4, 41, 63, 102, 3, 1, 7, 20, 254, 225, 54, 4, 30, 185, 173, 236, 712, 12, 1, 70, 103, 704, 8, 122, 66, 5, 102, 709, 236, 47, 32, 40, 16, 118, 2, 333, 1, 190, 16, 221, 40, 301, 103, 1, 236, 122, 31, 4, 12, 129, 66, 17, 40, 116, 730, 82, 36, 24, 46, 123, 169, 6, 73, 18, 100, 27, 200, 772, 37, 117, 84, 7, 24, 50, 8, 3, 12, 6, 46, 271, 13, 4, 12, 64, 747, 46, 159, 76, 406, 810, 24]\n",
      "[212   7  20  79 221   1 108  18   8   4  41  63 102   3   1   7  20 254\n",
      " 225  54   4  30 185 173 236 712  12   1  70 103 704   8 122  66   5 102\n",
      " 709 236  47  32  40  16 118   2 333   1 190  16 221  40 301 103   1 236\n",
      " 122  31   4  12 129  66  17  40 116 730  82  36  24  46 123 169   6  73\n",
      "  18 100  27 200 772  37 117  84   7  24  50   8   3  12   6  46 271  13\n",
      "   4  12  64 747  46 159  76 406 810  24]\n",
      "(6335, 100)\n"
     ]
    }
   ],
   "source": [
    "# Data preprocessing for cnn, set max_len to 100 for this experiment and then we can change further to gather more information\n",
    "max_len = 100\n",
    "cnn_texts_seq = tok.texts_to_sequences(text)\n",
    "print(cnn_texts_seq[0])\n",
    "cnn_texts_mat = sequence.pad_sequences(cnn_texts_seq,maxlen=max_len)\n",
    "print(cnn_texts_mat[0])\n",
    "print(cnn_texts_mat.shape)"
   ]
  },
  {
   "cell_type": "code",
   "execution_count": 89,
   "metadata": {
    "collapsed": false
   },
   "outputs": [
    {
     "name": "stdout",
     "output_type": "stream",
     "text": [
      "_________________________________________________________________\n",
      "Layer (type)                 Output Shape              Param #   \n",
      "=================================================================\n",
      "embedding_1 (Embedding)      (None, 100, 20)           20000     \n",
      "_________________________________________________________________\n",
      "dropout_3 (Dropout)          (None, 100, 20)           0         \n",
      "_________________________________________________________________\n",
      "conv1d_1 (Conv1D)            (None, 98, 64)            3904      \n",
      "_________________________________________________________________\n",
      "global_max_pooling1d_1 (Glob (None, 64)                0         \n",
      "_________________________________________________________________\n",
      "dense_4 (Dense)              (None, 256)               16640     \n",
      "_________________________________________________________________\n",
      "dropout_4 (Dropout)          (None, 256)               0         \n",
      "_________________________________________________________________\n",
      "activation_1 (Activation)    (None, 256)               0         \n",
      "_________________________________________________________________\n",
      "dense_5 (Dense)              (None, 1)                 257       \n",
      "_________________________________________________________________\n",
      "activation_2 (Activation)    (None, 1)                 0         \n",
      "=================================================================\n",
      "Total params: 40,801\n",
      "Trainable params: 40,801\n",
      "Non-trainable params: 0\n",
      "_________________________________________________________________\n",
      "Train on 5068 samples, validate on 1267 samples\n",
      "Epoch 1/10\n",
      "5068/5068 [==============================] - 7s 1ms/step - loss: 0.6344 - acc: 0.6139 - binary_accuracy: 0.6139 - val_loss: 0.4478 - val_acc: 0.7885 - val_binary_accuracy: 0.7885\n",
      "Epoch 2/10\n",
      "5068/5068 [==============================] - 5s 990us/step - loss: 0.3779 - acc: 0.8323 - binary_accuracy: 0.8323 - val_loss: 0.3569 - val_acc: 0.8311 - val_binary_accuracy: 0.8311\n",
      "Epoch 3/10\n",
      "5068/5068 [==============================] - 4s 812us/step - loss: 0.2945 - acc: 0.8785 - binary_accuracy: 0.8785 - val_loss: 0.3610 - val_acc: 0.8327 - val_binary_accuracy: 0.8327\n",
      "Epoch 4/10\n",
      "5068/5068 [==============================] - 5s 935us/step - loss: 0.2539 - acc: 0.8976 - binary_accuracy: 0.8976 - val_loss: 0.4352 - val_acc: 0.8137 - val_binary_accuracy: 0.8137\n",
      "Epoch 5/10\n",
      "5068/5068 [==============================] - 5s 911us/step - loss: 0.2163 - acc: 0.9140 - binary_accuracy: 0.9140 - val_loss: 0.3794 - val_acc: 0.8445 - val_binary_accuracy: 0.8445\n",
      "Epoch 6/10\n",
      "5068/5068 [==============================] - 5s 929us/step - loss: 0.1947 - acc: 0.9236 - binary_accuracy: 0.9236 - val_loss: 0.3910 - val_acc: 0.8421 - val_binary_accuracy: 0.8421\n",
      "Epoch 7/10\n",
      "5068/5068 [==============================] - 5s 945us/step - loss: 0.1507 - acc: 0.9453 - binary_accuracy: 0.9453 - val_loss: 0.4089 - val_acc: 0.8461 - val_binary_accuracy: 0.8461\n",
      "Epoch 8/10\n",
      "5068/5068 [==============================] - 5s 899us/step - loss: 0.1337 - acc: 0.9493 - binary_accuracy: 0.9493 - val_loss: 0.4386 - val_acc: 0.8366 - val_binary_accuracy: 0.8366\n",
      "Epoch 9/10\n",
      "5068/5068 [==============================] - 5s 927us/step - loss: 0.1157 - acc: 0.9570 - binary_accuracy: 0.9570 - val_loss: 0.4659 - val_acc: 0.8343 - val_binary_accuracy: 0.8343\n",
      "Epoch 10/10\n",
      "5068/5068 [==============================] - 5s 933us/step - loss: 0.0988 - acc: 0.9629 - binary_accuracy: 0.9629 - val_loss: 0.4828 - val_acc: 0.8421 - val_binary_accuracy: 0.8421\n"
     ]
    }
   ],
   "source": [
    "def get_cnn_model():   \n",
    "    model = Sequential()\n",
    "    # Lets start off with an efficient embedding layer that requires that the input data be integer encoded which\n",
    "    # maps our vocab indices into embedding_dims dimensions\n",
    "    # 1000 is num_max\n",
    "    model.add(Embedding(1000,\n",
    "                        20,\n",
    "                        input_length=max_len))\n",
    "    model.add(Dropout(0.2))\n",
    "    model.add(Conv1D(64,\n",
    "                     3,\n",
    "                     padding='valid',\n",
    "                     activation='relu',\n",
    "                     strides=1))\n",
    "    model.add(GlobalMaxPooling1D())\n",
    "    model.add(Dense(256))\n",
    "    model.add(Dropout(0.2))\n",
    "    model.add(Activation('relu'))\n",
    "    model.add(Dense(1))\n",
    "    model.add(Activation('sigmoid'))\n",
    "    model.summary()\n",
    "    model.compile(loss='binary_crossentropy',\n",
    "                  optimizer='adam',\n",
    "                  metrics=['acc',metrics.binary_accuracy])\n",
    "    return model\n",
    "\n",
    "m = get_cnn_model()\n",
    "check_model(m,cnn_texts_mat,label)"
   ]
  },
  {
   "cell_type": "markdown",
   "metadata": {},
   "source": [
    "#### Keeping epoch as 10, we get an accuracy of 84% which is the lowest of all and a loss of 0.3 which is more than the previous experiment.  \n",
    "\n",
    "The above experiments helped me to get an insight over multiple approaches that can be followed to explore the data especially textual data and derive interesting results out of it. This small experiment has given me a headstart to learn neural networks and I am sure to take this streak to develop some interesting application as a part of my research. "
   ]
  },
  {
   "cell_type": "code",
   "execution_count": null,
   "metadata": {
    "collapsed": true
   },
   "outputs": [],
   "source": []
  }
 ],
 "metadata": {
  "anaconda-cloud": {},
  "kernelspec": {
   "display_name": "Python [Root]",
   "language": "python",
   "name": "Python [Root]"
  },
  "language_info": {
   "codemirror_mode": {
    "name": "ipython",
    "version": 3
   },
   "file_extension": ".py",
   "mimetype": "text/x-python",
   "name": "python",
   "nbconvert_exporter": "python",
   "pygments_lexer": "ipython3",
   "version": "3.5.3"
  }
 },
 "nbformat": 4,
 "nbformat_minor": 0
}
